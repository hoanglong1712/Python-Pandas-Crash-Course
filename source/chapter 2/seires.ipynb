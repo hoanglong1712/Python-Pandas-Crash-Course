{
 "metadata": {
  "language_info": {
   "codemirror_mode": {
    "name": "ipython",
    "version": 3
   },
   "file_extension": ".py",
   "mimetype": "text/x-python",
   "name": "python",
   "nbconvert_exporter": "python",
   "pygments_lexer": "ipython3",
   "version": "3.7.6-final"
  },
  "orig_nbformat": 2,
  "kernelspec": {
   "name": "Python 3.7.6 64-bit",
   "display_name": "Python 3.7.6 64-bit",
   "metadata": {
    "interpreter": {
     "hash": "0533883d4b10e2e0e9042770828e2446211fda1fae3645fb8f264c38f1952f0d"
    }
   }
  }
 },
 "nbformat": 4,
 "nbformat_minor": 2,
 "cells": [
  {
   "cell_type": "code",
   "execution_count": 1,
   "metadata": {},
   "outputs": [],
   "source": [
    "import pandas as pd"
   ]
  },
  {
   "cell_type": "code",
   "execution_count": 3,
   "metadata": {},
   "outputs": [
    {
     "output_type": "execute_result",
     "data": {
      "text/plain": [
       "0    a\n",
       "1    b\n",
       "2    c\n",
       "3    d\n",
       "dtype: object"
      ]
     },
     "metadata": {},
     "execution_count": 3
    }
   ],
   "source": [
    "s = pd.Series(['a', 'b', 'c', 'd'])\n",
    "s"
   ]
  },
  {
   "cell_type": "code",
   "execution_count": 4,
   "metadata": {},
   "outputs": [
    {
     "output_type": "execute_result",
     "data": {
      "text/plain": [
       "    Name    Say\n",
       "0  Jacky  Hello\n",
       "1  Henry  World"
      ],
      "text/html": "<div>\n<style scoped>\n    .dataframe tbody tr th:only-of-type {\n        vertical-align: middle;\n    }\n\n    .dataframe tbody tr th {\n        vertical-align: top;\n    }\n\n    .dataframe thead th {\n        text-align: right;\n    }\n</style>\n<table border=\"1\" class=\"dataframe\">\n  <thead>\n    <tr style=\"text-align: right;\">\n      <th></th>\n      <th>Name</th>\n      <th>Say</th>\n    </tr>\n  </thead>\n  <tbody>\n    <tr>\n      <th>0</th>\n      <td>Jacky</td>\n      <td>Hello</td>\n    </tr>\n    <tr>\n      <th>1</th>\n      <td>Henry</td>\n      <td>World</td>\n    </tr>\n  </tbody>\n</table>\n</div>"
     },
     "metadata": {},
     "execution_count": 4
    }
   ],
   "source": [
    "df_helloworld = pd.DataFrame (\n",
    "{'Name': ['Jacky', 'Henry'],\n",
    "'Say': ['Hello', 'World']})\n",
    "df_helloworld"
   ]
  },
  {
   "cell_type": "code",
   "execution_count": 5,
   "metadata": {},
   "outputs": [
    {
     "output_type": "execute_result",
     "data": {
      "text/plain": [
       "    Name Say Something\n",
       "0  Jacky         Hello\n",
       "1  Henry         World"
      ],
      "text/html": "<div>\n<style scoped>\n    .dataframe tbody tr th:only-of-type {\n        vertical-align: middle;\n    }\n\n    .dataframe tbody tr th {\n        vertical-align: top;\n    }\n\n    .dataframe thead th {\n        text-align: right;\n    }\n</style>\n<table border=\"1\" class=\"dataframe\">\n  <thead>\n    <tr style=\"text-align: right;\">\n      <th></th>\n      <th>Name</th>\n      <th>Say Something</th>\n    </tr>\n  </thead>\n  <tbody>\n    <tr>\n      <th>0</th>\n      <td>Jacky</td>\n      <td>Hello</td>\n    </tr>\n    <tr>\n      <th>1</th>\n      <td>Henry</td>\n      <td>World</td>\n    </tr>\n  </tbody>\n</table>\n</div>"
     },
     "metadata": {},
     "execution_count": 5
    }
   ],
   "source": [
    "df_helloworld = pd.DataFrame(\n",
    "    [['Jacky', 'Hello'],\n",
    " ['Henry', 'World']],\n",
    " columns=['Name', 'Say Something']\n",
    ")\n",
    "df_helloworld"
   ]
  },
  {
   "cell_type": "code",
   "execution_count": 11,
   "metadata": {},
   "outputs": [
    {
     "output_type": "execute_result",
     "data": {
      "text/plain": [
       "    Name    Say  Grade\n",
       "0  Jacky  Hello   28.5\n",
       "1  Henry  World   23.0"
      ],
      "text/html": "<div>\n<style scoped>\n    .dataframe tbody tr th:only-of-type {\n        vertical-align: middle;\n    }\n\n    .dataframe tbody tr th {\n        vertical-align: top;\n    }\n\n    .dataframe thead th {\n        text-align: right;\n    }\n</style>\n<table border=\"1\" class=\"dataframe\">\n  <thead>\n    <tr style=\"text-align: right;\">\n      <th></th>\n      <th>Name</th>\n      <th>Say</th>\n      <th>Grade</th>\n    </tr>\n  </thead>\n  <tbody>\n    <tr>\n      <th>0</th>\n      <td>Jacky</td>\n      <td>Hello</td>\n      <td>28.5</td>\n    </tr>\n    <tr>\n      <th>1</th>\n      <td>Henry</td>\n      <td>World</td>\n      <td>23.0</td>\n    </tr>\n  </tbody>\n</table>\n</div>"
     },
     "metadata": {},
     "execution_count": 11
    }
   ],
   "source": [
    "df_helloworld = pd.DataFrame(\n",
    "    [['Jacky', 'Hello', 28.5],\n",
    "    ['Henry', 'World', 23]],  columns =['Name','Say','Grade'],\n",
    "    dtype = float)\n",
    "df_helloworld"
   ]
  },
  {
   "cell_type": "code",
   "execution_count": 21,
   "metadata": {},
   "outputs": [
    {
     "output_type": "execute_result",
     "data": {
      "text/plain": [
       "Empty DataFrame\n",
       "Columns: [clipboard]\n",
       "Index: []"
      ],
      "text/html": "<div>\n<style scoped>\n    .dataframe tbody tr th:only-of-type {\n        vertical-align: middle;\n    }\n\n    .dataframe tbody tr th {\n        vertical-align: top;\n    }\n\n    .dataframe thead th {\n        text-align: right;\n    }\n</style>\n<table border=\"1\" class=\"dataframe\">\n  <thead>\n    <tr style=\"text-align: right;\">\n      <th></th>\n      <th>clipboard</th>\n    </tr>\n  </thead>\n  <tbody>\n  </tbody>\n</table>\n</div>"
     },
     "metadata": {},
     "execution_count": 21
    }
   ],
   "source": [
    "df = pd.read_clipboard()\n",
    "df"
   ]
  },
  {
   "cell_type": "code",
   "execution_count": 26,
   "metadata": {},
   "outputs": [
    {
     "output_type": "execute_result",
     "data": {
      "text/plain": [
       "  First Name Last Name  Credit Score  Credit Approval Card Name     Income  \\\n",
       "0      Jacky     White           825             True  Infinite  155000.62   \n",
       "1       Jane      Nize           810             True    Golden  120800.88   \n",
       "2      Henry      Tone           780             True    Golden   98000.58   \n",
       "3    Desmond     Black           750             True    Silver   54000.00   \n",
       "4     Eileen      Musk           620            False  Dividend   35000.00   \n",
       "\n",
       "        Approval Date  \n",
       "0 2019-09-13 12:00:00  \n",
       "1 2019-08-16 05:25:00  \n",
       "2 2020-05-06 12:00:00  \n",
       "3 2020-05-01 01:00:00  \n",
       "4                 NaT  "
      ],
      "text/html": "<div>\n<style scoped>\n    .dataframe tbody tr th:only-of-type {\n        vertical-align: middle;\n    }\n\n    .dataframe tbody tr th {\n        vertical-align: top;\n    }\n\n    .dataframe thead th {\n        text-align: right;\n    }\n</style>\n<table border=\"1\" class=\"dataframe\">\n  <thead>\n    <tr style=\"text-align: right;\">\n      <th></th>\n      <th>First Name</th>\n      <th>Last Name</th>\n      <th>Credit Score</th>\n      <th>Credit Approval</th>\n      <th>Card Name</th>\n      <th>Income</th>\n      <th>Approval Date</th>\n    </tr>\n  </thead>\n  <tbody>\n    <tr>\n      <th>0</th>\n      <td>Jacky</td>\n      <td>White</td>\n      <td>825</td>\n      <td>True</td>\n      <td>Infinite</td>\n      <td>155000.62</td>\n      <td>2019-09-13 12:00:00</td>\n    </tr>\n    <tr>\n      <th>1</th>\n      <td>Jane</td>\n      <td>Nize</td>\n      <td>810</td>\n      <td>True</td>\n      <td>Golden</td>\n      <td>120800.88</td>\n      <td>2019-08-16 05:25:00</td>\n    </tr>\n    <tr>\n      <th>2</th>\n      <td>Henry</td>\n      <td>Tone</td>\n      <td>780</td>\n      <td>True</td>\n      <td>Golden</td>\n      <td>98000.58</td>\n      <td>2020-05-06 12:00:00</td>\n    </tr>\n    <tr>\n      <th>3</th>\n      <td>Desmond</td>\n      <td>Black</td>\n      <td>750</td>\n      <td>True</td>\n      <td>Silver</td>\n      <td>54000.00</td>\n      <td>2020-05-01 01:00:00</td>\n    </tr>\n    <tr>\n      <th>4</th>\n      <td>Eileen</td>\n      <td>Musk</td>\n      <td>620</td>\n      <td>False</td>\n      <td>Dividend</td>\n      <td>35000.00</td>\n      <td>NaT</td>\n    </tr>\n  </tbody>\n</table>\n</div>"
     },
     "metadata": {},
     "execution_count": 26
    }
   ],
   "source": [
    "url = 'https://www.littledataman.com/samples/credit.csv'\n",
    "df_credit = pd.read_csv(url, parse_dates= ['Approval Date'])\n",
    "df_credit"
   ]
  },
  {
   "cell_type": "code",
   "execution_count": 27,
   "metadata": {},
   "outputs": [
    {
     "output_type": "execute_result",
     "data": {
      "text/plain": [
       "First Name                 object\n",
       "Last Name                  object\n",
       "Credit Score                int64\n",
       "Credit Approval              bool\n",
       "Card Name                  object\n",
       "Income                    float64\n",
       "Approval Date      datetime64[ns]\n",
       "dtype: object"
      ]
     },
     "metadata": {},
     "execution_count": 27
    }
   ],
   "source": [
    "df_credit.dtypes"
   ]
  },
  {
   "cell_type": "code",
   "execution_count": 30,
   "metadata": {},
   "outputs": [
    {
     "output_type": "stream",
     "name": "stdout",
     "text": [
      "<class 'pandas.core.frame.DataFrame'>\nRangeIndex: 5 entries, 0 to 4\nData columns (total 7 columns):\n #   Column           Non-Null Count  Dtype         \n---  ------           --------------  -----         \n 0   First Name       5 non-null      object        \n 1   Last Name        5 non-null      object        \n 2   Credit Score     5 non-null      int64         \n 3   Credit Approval  5 non-null      bool          \n 4   Card Name        5 non-null      object        \n 5   Income           5 non-null      float64       \n 6   Approval Date    4 non-null      datetime64[ns]\ndtypes: bool(1), datetime64[ns](1), float64(1), int64(1), object(3)\nmemory usage: 373.0+ bytes\n"
     ]
    }
   ],
   "source": [
    "df_credit.info()"
   ]
  },
  {
   "cell_type": "code",
   "execution_count": 32,
   "metadata": {},
   "outputs": [
    {
     "output_type": "execute_result",
     "data": {
      "text/plain": [
       "dtype('float64')"
      ]
     },
     "metadata": {},
     "execution_count": 32
    }
   ],
   "source": [
    "df_credit['Income'].dtype"
   ]
  },
  {
   "cell_type": "code",
   "execution_count": 33,
   "metadata": {},
   "outputs": [
    {
     "output_type": "execute_result",
     "data": {
      "text/plain": [
       "dtype('O')"
      ]
     },
     "metadata": {},
     "execution_count": 33
    }
   ],
   "source": [
    "df_credit['Card Name'].dtype"
   ]
  },
  {
   "cell_type": "code",
   "execution_count": 34,
   "metadata": {},
   "outputs": [
    {
     "output_type": "execute_result",
     "data": {
      "text/plain": [
       "CategoricalDtype(categories=['Dividend', 'Golden', 'Infinite', 'Silver'], ordered=False)"
      ]
     },
     "metadata": {},
     "execution_count": 34
    }
   ],
   "source": [
    "df_credit['Card Name'] = df_credit['Card Name'].astype('category')\n",
    "df_credit['Card Name'].dtype"
   ]
  },
  {
   "cell_type": "code",
   "execution_count": 36,
   "metadata": {},
   "outputs": [
    {
     "output_type": "execute_result",
     "data": {
      "text/plain": [
       "35"
      ]
     },
     "metadata": {},
     "execution_count": 36
    }
   ],
   "source": [
    "df_credit.size"
   ]
  },
  {
   "cell_type": "code",
   "execution_count": 37,
   "metadata": {},
   "outputs": [
    {
     "output_type": "execute_result",
     "data": {
      "text/plain": [
       "array([['Jacky', 'White', 825, True, 'Infinite', 155000.62,\n",
       "        Timestamp('2019-09-13 12:00:00')],\n",
       "       ['Jane', 'Nize', 810, True, 'Golden', 120800.88,\n",
       "        Timestamp('2019-08-16 05:25:00')],\n",
       "       ['Henry', 'Tone', 780, True, 'Golden', 98000.58,\n",
       "        Timestamp('2020-05-06 12:00:00')],\n",
       "       ['Desmond', 'Black', 750, True, 'Silver', 54000.0,\n",
       "        Timestamp('2020-05-01 01:00:00')],\n",
       "       ['Eileen', 'Musk', 620, False, 'Dividend', 35000.0, NaT]],\n",
       "      dtype=object)"
      ]
     },
     "metadata": {},
     "execution_count": 37
    }
   ],
   "source": [
    "df_credit.values"
   ]
  },
  {
   "cell_type": "code",
   "execution_count": 38,
   "metadata": {},
   "outputs": [
    {
     "output_type": "execute_result",
     "data": {
      "text/plain": [
       "                                   0                    1  \\\n",
       "First Name                     Jacky                 Jane   \n",
       "Last Name                      White                 Nize   \n",
       "Credit Score                     825                  810   \n",
       "Credit Approval                 True                 True   \n",
       "Card Name                   Infinite               Golden   \n",
       "Income                        155001               120801   \n",
       "Approval Date    2019-09-13 12:00:00  2019-08-16 05:25:00   \n",
       "\n",
       "                                   2                    3         4  \n",
       "First Name                     Henry              Desmond    Eileen  \n",
       "Last Name                       Tone                Black      Musk  \n",
       "Credit Score                     780                  750       620  \n",
       "Credit Approval                 True                 True     False  \n",
       "Card Name                     Golden               Silver  Dividend  \n",
       "Income                       98000.6                54000     35000  \n",
       "Approval Date    2020-05-06 12:00:00  2020-05-01 01:00:00       NaT  "
      ],
      "text/html": "<div>\n<style scoped>\n    .dataframe tbody tr th:only-of-type {\n        vertical-align: middle;\n    }\n\n    .dataframe tbody tr th {\n        vertical-align: top;\n    }\n\n    .dataframe thead th {\n        text-align: right;\n    }\n</style>\n<table border=\"1\" class=\"dataframe\">\n  <thead>\n    <tr style=\"text-align: right;\">\n      <th></th>\n      <th>0</th>\n      <th>1</th>\n      <th>2</th>\n      <th>3</th>\n      <th>4</th>\n    </tr>\n  </thead>\n  <tbody>\n    <tr>\n      <th>First Name</th>\n      <td>Jacky</td>\n      <td>Jane</td>\n      <td>Henry</td>\n      <td>Desmond</td>\n      <td>Eileen</td>\n    </tr>\n    <tr>\n      <th>Last Name</th>\n      <td>White</td>\n      <td>Nize</td>\n      <td>Tone</td>\n      <td>Black</td>\n      <td>Musk</td>\n    </tr>\n    <tr>\n      <th>Credit Score</th>\n      <td>825</td>\n      <td>810</td>\n      <td>780</td>\n      <td>750</td>\n      <td>620</td>\n    </tr>\n    <tr>\n      <th>Credit Approval</th>\n      <td>True</td>\n      <td>True</td>\n      <td>True</td>\n      <td>True</td>\n      <td>False</td>\n    </tr>\n    <tr>\n      <th>Card Name</th>\n      <td>Infinite</td>\n      <td>Golden</td>\n      <td>Golden</td>\n      <td>Silver</td>\n      <td>Dividend</td>\n    </tr>\n    <tr>\n      <th>Income</th>\n      <td>155001</td>\n      <td>120801</td>\n      <td>98000.6</td>\n      <td>54000</td>\n      <td>35000</td>\n    </tr>\n    <tr>\n      <th>Approval Date</th>\n      <td>2019-09-13 12:00:00</td>\n      <td>2019-08-16 05:25:00</td>\n      <td>2020-05-06 12:00:00</td>\n      <td>2020-05-01 01:00:00</td>\n      <td>NaT</td>\n    </tr>\n  </tbody>\n</table>\n</div>"
     },
     "metadata": {},
     "execution_count": 38
    }
   ],
   "source": [
    "df_credit.T"
   ]
  },
  {
   "cell_type": "code",
   "execution_count": null,
   "metadata": {},
   "outputs": [],
   "source": []
  }
 ]
}