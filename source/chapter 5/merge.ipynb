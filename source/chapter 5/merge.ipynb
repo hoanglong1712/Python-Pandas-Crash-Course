{
 "metadata": {
  "language_info": {
   "codemirror_mode": {
    "name": "ipython",
    "version": 3
   },
   "file_extension": ".py",
   "mimetype": "text/x-python",
   "name": "python",
   "nbconvert_exporter": "python",
   "pygments_lexer": "ipython3",
   "version": "3.7.6-final"
  },
  "orig_nbformat": 2,
  "kernelspec": {
   "name": "Python 3.7.6 64-bit",
   "display_name": "Python 3.7.6 64-bit",
   "metadata": {
    "interpreter": {
     "hash": "0533883d4b10e2e0e9042770828e2446211fda1fae3645fb8f264c38f1952f0d"
    }
   }
  }
 },
 "nbformat": 4,
 "nbformat_minor": 2,
 "cells": [
  {
   "cell_type": "code",
   "execution_count": 1,
   "metadata": {},
   "outputs": [],
   "source": [
    "import pandas as pd\n",
    "df_credit = pd.read_csv('https://www.littledataman.com/samples/credit.csv', parse_dates = ['Approval Date'])\n",
    "df_cards = pd.read_csv('https://www.littledataman.com/samples/cards.csv', parse_dates = ['Effective Date'])\n",
    "df_trans = pd.read_csv('https://www.littledataman.com/samples/transactions.csv', parse_dates = ['Date'])"
   ]
  },
  {
   "cell_type": "code",
   "execution_count": 7,
   "metadata": {},
   "outputs": [
    {
     "output_type": "execute_result",
     "data": {
      "text/plain": [
       "   First Name Last Name Card Number  Limitation      Effective Date  \\\n",
       "0       Jacky     White       CN012       10000 2019-09-13 12:00:00   \n",
       "1       Jacky     White       CN012       10000 2019-09-13 12:00:00   \n",
       "2       Jacky     White       CN012       10000 2019-09-13 12:00:00   \n",
       "3        Jane      Nize       CN014        9800 2019-08-16 05:25:00   \n",
       "4        Jane      Nize       CN014        9800 2019-08-16 05:25:00   \n",
       "5       Henry      Tone       CN015       12000 2019-09-13 12:00:00   \n",
       "6       Henry      Tone       CN015       12000 2019-09-13 12:00:00   \n",
       "7     Desmond     Black       CN016        5000 2019-08-16 05:25:00   \n",
       "8     Desmond     Black       CN016        5000 2019-08-16 05:25:00   \n",
       "9     Desmond     Black       CN016        5000 2019-08-16 05:25:00   \n",
       "10      Henry      Tone       CN015       15000 2020-05-01 12:00:00   \n",
       "11      Henry      Tone       CN015       15000 2020-05-01 12:00:00   \n",
       "12    Desmond     Black       CN016        2000 2020-05-01 01:00:00   \n",
       "13    Desmond     Black       CN016        2000 2020-05-01 01:00:00   \n",
       "14    Desmond     Black       CN016        2000 2020-05-01 01:00:00   \n",
       "\n",
       "         Date  Transactions  Amount  \n",
       "0  2019-09-01             2  356.20  \n",
       "1  2019-09-02             5  785.00  \n",
       "2  2019-09-03             4   36.90  \n",
       "3  2019-09-01             3  120.50  \n",
       "4  2019-09-03             2   23.60  \n",
       "5  2019-09-01             1   53.23  \n",
       "6  2019-09-02             2   23.12  \n",
       "7  2019-09-01             3   25.60  \n",
       "8  2019-09-02             3   28.30  \n",
       "9  2019-09-03             4   43.50  \n",
       "10 2019-09-01             1   53.23  \n",
       "11 2019-09-02             2   23.12  \n",
       "12 2019-09-01             3   25.60  \n",
       "13 2019-09-02             3   28.30  \n",
       "14 2019-09-03             4   43.50  "
      ],
      "text/html": "<div>\n<style scoped>\n    .dataframe tbody tr th:only-of-type {\n        vertical-align: middle;\n    }\n\n    .dataframe tbody tr th {\n        vertical-align: top;\n    }\n\n    .dataframe thead th {\n        text-align: right;\n    }\n</style>\n<table border=\"1\" class=\"dataframe\">\n  <thead>\n    <tr style=\"text-align: right;\">\n      <th></th>\n      <th>First Name</th>\n      <th>Last Name</th>\n      <th>Card Number</th>\n      <th>Limitation</th>\n      <th>Effective Date</th>\n      <th>Date</th>\n      <th>Transactions</th>\n      <th>Amount</th>\n    </tr>\n  </thead>\n  <tbody>\n    <tr>\n      <th>0</th>\n      <td>Jacky</td>\n      <td>White</td>\n      <td>CN012</td>\n      <td>10000</td>\n      <td>2019-09-13 12:00:00</td>\n      <td>2019-09-01</td>\n      <td>2</td>\n      <td>356.20</td>\n    </tr>\n    <tr>\n      <th>1</th>\n      <td>Jacky</td>\n      <td>White</td>\n      <td>CN012</td>\n      <td>10000</td>\n      <td>2019-09-13 12:00:00</td>\n      <td>2019-09-02</td>\n      <td>5</td>\n      <td>785.00</td>\n    </tr>\n    <tr>\n      <th>2</th>\n      <td>Jacky</td>\n      <td>White</td>\n      <td>CN012</td>\n      <td>10000</td>\n      <td>2019-09-13 12:00:00</td>\n      <td>2019-09-03</td>\n      <td>4</td>\n      <td>36.90</td>\n    </tr>\n    <tr>\n      <th>3</th>\n      <td>Jane</td>\n      <td>Nize</td>\n      <td>CN014</td>\n      <td>9800</td>\n      <td>2019-08-16 05:25:00</td>\n      <td>2019-09-01</td>\n      <td>3</td>\n      <td>120.50</td>\n    </tr>\n    <tr>\n      <th>4</th>\n      <td>Jane</td>\n      <td>Nize</td>\n      <td>CN014</td>\n      <td>9800</td>\n      <td>2019-08-16 05:25:00</td>\n      <td>2019-09-03</td>\n      <td>2</td>\n      <td>23.60</td>\n    </tr>\n    <tr>\n      <th>5</th>\n      <td>Henry</td>\n      <td>Tone</td>\n      <td>CN015</td>\n      <td>12000</td>\n      <td>2019-09-13 12:00:00</td>\n      <td>2019-09-01</td>\n      <td>1</td>\n      <td>53.23</td>\n    </tr>\n    <tr>\n      <th>6</th>\n      <td>Henry</td>\n      <td>Tone</td>\n      <td>CN015</td>\n      <td>12000</td>\n      <td>2019-09-13 12:00:00</td>\n      <td>2019-09-02</td>\n      <td>2</td>\n      <td>23.12</td>\n    </tr>\n    <tr>\n      <th>7</th>\n      <td>Desmond</td>\n      <td>Black</td>\n      <td>CN016</td>\n      <td>5000</td>\n      <td>2019-08-16 05:25:00</td>\n      <td>2019-09-01</td>\n      <td>3</td>\n      <td>25.60</td>\n    </tr>\n    <tr>\n      <th>8</th>\n      <td>Desmond</td>\n      <td>Black</td>\n      <td>CN016</td>\n      <td>5000</td>\n      <td>2019-08-16 05:25:00</td>\n      <td>2019-09-02</td>\n      <td>3</td>\n      <td>28.30</td>\n    </tr>\n    <tr>\n      <th>9</th>\n      <td>Desmond</td>\n      <td>Black</td>\n      <td>CN016</td>\n      <td>5000</td>\n      <td>2019-08-16 05:25:00</td>\n      <td>2019-09-03</td>\n      <td>4</td>\n      <td>43.50</td>\n    </tr>\n    <tr>\n      <th>10</th>\n      <td>Henry</td>\n      <td>Tone</td>\n      <td>CN015</td>\n      <td>15000</td>\n      <td>2020-05-01 12:00:00</td>\n      <td>2019-09-01</td>\n      <td>1</td>\n      <td>53.23</td>\n    </tr>\n    <tr>\n      <th>11</th>\n      <td>Henry</td>\n      <td>Tone</td>\n      <td>CN015</td>\n      <td>15000</td>\n      <td>2020-05-01 12:00:00</td>\n      <td>2019-09-02</td>\n      <td>2</td>\n      <td>23.12</td>\n    </tr>\n    <tr>\n      <th>12</th>\n      <td>Desmond</td>\n      <td>Black</td>\n      <td>CN016</td>\n      <td>2000</td>\n      <td>2020-05-01 01:00:00</td>\n      <td>2019-09-01</td>\n      <td>3</td>\n      <td>25.60</td>\n    </tr>\n    <tr>\n      <th>13</th>\n      <td>Desmond</td>\n      <td>Black</td>\n      <td>CN016</td>\n      <td>2000</td>\n      <td>2020-05-01 01:00:00</td>\n      <td>2019-09-02</td>\n      <td>3</td>\n      <td>28.30</td>\n    </tr>\n    <tr>\n      <th>14</th>\n      <td>Desmond</td>\n      <td>Black</td>\n      <td>CN016</td>\n      <td>2000</td>\n      <td>2020-05-01 01:00:00</td>\n      <td>2019-09-03</td>\n      <td>4</td>\n      <td>43.50</td>\n    </tr>\n  </tbody>\n</table>\n</div>"
     },
     "metadata": {},
     "execution_count": 7
    }
   ],
   "source": [
    "result=pd.merge(df_cards,  df_trans, left_on='Card Number',  right_on='Card Number',\n",
    " how='left')\n",
    "result"
   ]
  },
  {
   "cell_type": "code",
   "execution_count": 8,
   "metadata": {},
   "outputs": [],
   "source": [
    "df_cards_1 = df_cards[:3]\n",
    "df_trans_1 = df_trans[df_trans['Card Number'].isin (['CN014', 'CN015',\n",
    "'CN016'])]"
   ]
  },
  {
   "cell_type": "code",
   "execution_count": 9,
   "metadata": {},
   "outputs": [
    {
     "output_type": "execute_result",
     "data": {
      "text/plain": [
       "  First Name Last Name Card Number  Limitation      Effective Date\n",
       "0      Jacky     White       CN012       10000 2019-09-13 12:00:00\n",
       "1       Jane      Nize       CN014        9800 2019-08-16 05:25:00\n",
       "2      Henry      Tone       CN015       12000 2019-09-13 12:00:00"
      ],
      "text/html": "<div>\n<style scoped>\n    .dataframe tbody tr th:only-of-type {\n        vertical-align: middle;\n    }\n\n    .dataframe tbody tr th {\n        vertical-align: top;\n    }\n\n    .dataframe thead th {\n        text-align: right;\n    }\n</style>\n<table border=\"1\" class=\"dataframe\">\n  <thead>\n    <tr style=\"text-align: right;\">\n      <th></th>\n      <th>First Name</th>\n      <th>Last Name</th>\n      <th>Card Number</th>\n      <th>Limitation</th>\n      <th>Effective Date</th>\n    </tr>\n  </thead>\n  <tbody>\n    <tr>\n      <th>0</th>\n      <td>Jacky</td>\n      <td>White</td>\n      <td>CN012</td>\n      <td>10000</td>\n      <td>2019-09-13 12:00:00</td>\n    </tr>\n    <tr>\n      <th>1</th>\n      <td>Jane</td>\n      <td>Nize</td>\n      <td>CN014</td>\n      <td>9800</td>\n      <td>2019-08-16 05:25:00</td>\n    </tr>\n    <tr>\n      <th>2</th>\n      <td>Henry</td>\n      <td>Tone</td>\n      <td>CN015</td>\n      <td>12000</td>\n      <td>2019-09-13 12:00:00</td>\n    </tr>\n  </tbody>\n</table>\n</div>"
     },
     "metadata": {},
     "execution_count": 9
    }
   ],
   "source": [
    "df_cards_1"
   ]
  },
  {
   "cell_type": "code",
   "execution_count": 10,
   "metadata": {},
   "outputs": [
    {
     "output_type": "execute_result",
     "data": {
      "text/plain": [
       "  Card Number       Date  Transactions  Amount\n",
       "1       CN014 2019-09-01             3  120.50\n",
       "2       CN015 2019-09-01             1   53.23\n",
       "3       CN016 2019-09-01             3   25.60\n",
       "5       CN015 2019-09-02             2   23.12\n",
       "6       CN016 2019-09-02             3   28.30\n",
       "8       CN014 2019-09-03             2   23.60\n",
       "9       CN016 2019-09-03             4   43.50"
      ],
      "text/html": "<div>\n<style scoped>\n    .dataframe tbody tr th:only-of-type {\n        vertical-align: middle;\n    }\n\n    .dataframe tbody tr th {\n        vertical-align: top;\n    }\n\n    .dataframe thead th {\n        text-align: right;\n    }\n</style>\n<table border=\"1\" class=\"dataframe\">\n  <thead>\n    <tr style=\"text-align: right;\">\n      <th></th>\n      <th>Card Number</th>\n      <th>Date</th>\n      <th>Transactions</th>\n      <th>Amount</th>\n    </tr>\n  </thead>\n  <tbody>\n    <tr>\n      <th>1</th>\n      <td>CN014</td>\n      <td>2019-09-01</td>\n      <td>3</td>\n      <td>120.50</td>\n    </tr>\n    <tr>\n      <th>2</th>\n      <td>CN015</td>\n      <td>2019-09-01</td>\n      <td>1</td>\n      <td>53.23</td>\n    </tr>\n    <tr>\n      <th>3</th>\n      <td>CN016</td>\n      <td>2019-09-01</td>\n      <td>3</td>\n      <td>25.60</td>\n    </tr>\n    <tr>\n      <th>5</th>\n      <td>CN015</td>\n      <td>2019-09-02</td>\n      <td>2</td>\n      <td>23.12</td>\n    </tr>\n    <tr>\n      <th>6</th>\n      <td>CN016</td>\n      <td>2019-09-02</td>\n      <td>3</td>\n      <td>28.30</td>\n    </tr>\n    <tr>\n      <th>8</th>\n      <td>CN014</td>\n      <td>2019-09-03</td>\n      <td>2</td>\n      <td>23.60</td>\n    </tr>\n    <tr>\n      <th>9</th>\n      <td>CN016</td>\n      <td>2019-09-03</td>\n      <td>4</td>\n      <td>43.50</td>\n    </tr>\n  </tbody>\n</table>\n</div>"
     },
     "metadata": {},
     "execution_count": 10
    }
   ],
   "source": [
    "df_trans_1"
   ]
  },
  {
   "cell_type": "code",
   "execution_count": 11,
   "metadata": {},
   "outputs": [
    {
     "output_type": "execute_result",
     "data": {
      "text/plain": [
       "  First Name Last Name Card Number  Limitation      Effective Date       Date  \\\n",
       "0       Jane      Nize       CN014        9800 2019-08-16 05:25:00 2019-09-01   \n",
       "1       Jane      Nize       CN014        9800 2019-08-16 05:25:00 2019-09-03   \n",
       "2      Henry      Tone       CN015       12000 2019-09-13 12:00:00 2019-09-01   \n",
       "3      Henry      Tone       CN015       12000 2019-09-13 12:00:00 2019-09-02   \n",
       "\n",
       "   Transactions  Amount  \n",
       "0             3  120.50  \n",
       "1             2   23.60  \n",
       "2             1   53.23  \n",
       "3             2   23.12  "
      ],
      "text/html": "<div>\n<style scoped>\n    .dataframe tbody tr th:only-of-type {\n        vertical-align: middle;\n    }\n\n    .dataframe tbody tr th {\n        vertical-align: top;\n    }\n\n    .dataframe thead th {\n        text-align: right;\n    }\n</style>\n<table border=\"1\" class=\"dataframe\">\n  <thead>\n    <tr style=\"text-align: right;\">\n      <th></th>\n      <th>First Name</th>\n      <th>Last Name</th>\n      <th>Card Number</th>\n      <th>Limitation</th>\n      <th>Effective Date</th>\n      <th>Date</th>\n      <th>Transactions</th>\n      <th>Amount</th>\n    </tr>\n  </thead>\n  <tbody>\n    <tr>\n      <th>0</th>\n      <td>Jane</td>\n      <td>Nize</td>\n      <td>CN014</td>\n      <td>9800</td>\n      <td>2019-08-16 05:25:00</td>\n      <td>2019-09-01</td>\n      <td>3</td>\n      <td>120.50</td>\n    </tr>\n    <tr>\n      <th>1</th>\n      <td>Jane</td>\n      <td>Nize</td>\n      <td>CN014</td>\n      <td>9800</td>\n      <td>2019-08-16 05:25:00</td>\n      <td>2019-09-03</td>\n      <td>2</td>\n      <td>23.60</td>\n    </tr>\n    <tr>\n      <th>2</th>\n      <td>Henry</td>\n      <td>Tone</td>\n      <td>CN015</td>\n      <td>12000</td>\n      <td>2019-09-13 12:00:00</td>\n      <td>2019-09-01</td>\n      <td>1</td>\n      <td>53.23</td>\n    </tr>\n    <tr>\n      <th>3</th>\n      <td>Henry</td>\n      <td>Tone</td>\n      <td>CN015</td>\n      <td>12000</td>\n      <td>2019-09-13 12:00:00</td>\n      <td>2019-09-02</td>\n      <td>2</td>\n      <td>23.12</td>\n    </tr>\n  </tbody>\n</table>\n</div>"
     },
     "metadata": {},
     "execution_count": 11
    }
   ],
   "source": [
    "df_cards_1.merge(df_trans_1 , on = 'Card Number')"
   ]
  },
  {
   "cell_type": "code",
   "execution_count": 12,
   "metadata": {},
   "outputs": [
    {
     "output_type": "execute_result",
     "data": {
      "text/plain": [
       "  First Name Last Name Card Number  Limitation      Effective Date       Date  \\\n",
       "0      Jacky     White       CN012       10000 2019-09-13 12:00:00        NaT   \n",
       "1       Jane      Nize       CN014        9800 2019-08-16 05:25:00 2019-09-01   \n",
       "2       Jane      Nize       CN014        9800 2019-08-16 05:25:00 2019-09-03   \n",
       "3      Henry      Tone       CN015       12000 2019-09-13 12:00:00 2019-09-01   \n",
       "4      Henry      Tone       CN015       12000 2019-09-13 12:00:00 2019-09-02   \n",
       "\n",
       "   Transactions  Amount  \n",
       "0           NaN     NaN  \n",
       "1           3.0  120.50  \n",
       "2           2.0   23.60  \n",
       "3           1.0   53.23  \n",
       "4           2.0   23.12  "
      ],
      "text/html": "<div>\n<style scoped>\n    .dataframe tbody tr th:only-of-type {\n        vertical-align: middle;\n    }\n\n    .dataframe tbody tr th {\n        vertical-align: top;\n    }\n\n    .dataframe thead th {\n        text-align: right;\n    }\n</style>\n<table border=\"1\" class=\"dataframe\">\n  <thead>\n    <tr style=\"text-align: right;\">\n      <th></th>\n      <th>First Name</th>\n      <th>Last Name</th>\n      <th>Card Number</th>\n      <th>Limitation</th>\n      <th>Effective Date</th>\n      <th>Date</th>\n      <th>Transactions</th>\n      <th>Amount</th>\n    </tr>\n  </thead>\n  <tbody>\n    <tr>\n      <th>0</th>\n      <td>Jacky</td>\n      <td>White</td>\n      <td>CN012</td>\n      <td>10000</td>\n      <td>2019-09-13 12:00:00</td>\n      <td>NaT</td>\n      <td>NaN</td>\n      <td>NaN</td>\n    </tr>\n    <tr>\n      <th>1</th>\n      <td>Jane</td>\n      <td>Nize</td>\n      <td>CN014</td>\n      <td>9800</td>\n      <td>2019-08-16 05:25:00</td>\n      <td>2019-09-01</td>\n      <td>3.0</td>\n      <td>120.50</td>\n    </tr>\n    <tr>\n      <th>2</th>\n      <td>Jane</td>\n      <td>Nize</td>\n      <td>CN014</td>\n      <td>9800</td>\n      <td>2019-08-16 05:25:00</td>\n      <td>2019-09-03</td>\n      <td>2.0</td>\n      <td>23.60</td>\n    </tr>\n    <tr>\n      <th>3</th>\n      <td>Henry</td>\n      <td>Tone</td>\n      <td>CN015</td>\n      <td>12000</td>\n      <td>2019-09-13 12:00:00</td>\n      <td>2019-09-01</td>\n      <td>1.0</td>\n      <td>53.23</td>\n    </tr>\n    <tr>\n      <th>4</th>\n      <td>Henry</td>\n      <td>Tone</td>\n      <td>CN015</td>\n      <td>12000</td>\n      <td>2019-09-13 12:00:00</td>\n      <td>2019-09-02</td>\n      <td>2.0</td>\n      <td>23.12</td>\n    </tr>\n  </tbody>\n</table>\n</div>"
     },
     "metadata": {},
     "execution_count": 12
    }
   ],
   "source": [
    "df_cards_1.merge(df_trans_1 , on = 'Card Number', how='left')"
   ]
  },
  {
   "cell_type": "code",
   "execution_count": 15,
   "metadata": {},
   "outputs": [
    {
     "output_type": "execute_result",
     "data": {
      "text/plain": [
       "  First Name Last Name Card Number_x  Limitation      Effective Date  \\\n",
       "0      Jacky     White         CN012       10000 2019-09-13 12:00:00   \n",
       "1       Jane      Nize         CN014        9800 2019-08-16 05:25:00   \n",
       "2      Henry      Tone         CN015       12000 2019-09-13 12:00:00   \n",
       "\n",
       "  Card Number_y       Date  Transactions  Amount  \n",
       "0           NaN        NaT           NaN     NaN  \n",
       "1         CN014 2019-09-01           3.0  120.50  \n",
       "2         CN015 2019-09-01           1.0   53.23  "
      ],
      "text/html": "<div>\n<style scoped>\n    .dataframe tbody tr th:only-of-type {\n        vertical-align: middle;\n    }\n\n    .dataframe tbody tr th {\n        vertical-align: top;\n    }\n\n    .dataframe thead th {\n        text-align: right;\n    }\n</style>\n<table border=\"1\" class=\"dataframe\">\n  <thead>\n    <tr style=\"text-align: right;\">\n      <th></th>\n      <th>First Name</th>\n      <th>Last Name</th>\n      <th>Card Number_x</th>\n      <th>Limitation</th>\n      <th>Effective Date</th>\n      <th>Card Number_y</th>\n      <th>Date</th>\n      <th>Transactions</th>\n      <th>Amount</th>\n    </tr>\n  </thead>\n  <tbody>\n    <tr>\n      <th>0</th>\n      <td>Jacky</td>\n      <td>White</td>\n      <td>CN012</td>\n      <td>10000</td>\n      <td>2019-09-13 12:00:00</td>\n      <td>NaN</td>\n      <td>NaT</td>\n      <td>NaN</td>\n      <td>NaN</td>\n    </tr>\n    <tr>\n      <th>1</th>\n      <td>Jane</td>\n      <td>Nize</td>\n      <td>CN014</td>\n      <td>9800</td>\n      <td>2019-08-16 05:25:00</td>\n      <td>CN014</td>\n      <td>2019-09-01</td>\n      <td>3.0</td>\n      <td>120.50</td>\n    </tr>\n    <tr>\n      <th>2</th>\n      <td>Henry</td>\n      <td>Tone</td>\n      <td>CN015</td>\n      <td>12000</td>\n      <td>2019-09-13 12:00:00</td>\n      <td>CN015</td>\n      <td>2019-09-01</td>\n      <td>1.0</td>\n      <td>53.23</td>\n    </tr>\n  </tbody>\n</table>\n</div>"
     },
     "metadata": {},
     "execution_count": 15
    }
   ],
   "source": [
    "df_cards_1.merge(df_trans_1 , left_index = True, right_index = True,\n",
    "how='left')"
   ]
  }
 ]
}