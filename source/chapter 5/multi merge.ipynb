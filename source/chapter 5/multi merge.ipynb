{
 "metadata": {
  "language_info": {
   "codemirror_mode": {
    "name": "ipython",
    "version": 3
   },
   "file_extension": ".py",
   "mimetype": "text/x-python",
   "name": "python",
   "nbconvert_exporter": "python",
   "pygments_lexer": "ipython3",
   "version": "3.7.6-final"
  },
  "orig_nbformat": 2,
  "kernelspec": {
   "name": "Python 3.7.6 64-bit",
   "display_name": "Python 3.7.6 64-bit",
   "metadata": {
    "interpreter": {
     "hash": "0533883d4b10e2e0e9042770828e2446211fda1fae3645fb8f264c38f1952f0d"
    }
   }
  }
 },
 "nbformat": 4,
 "nbformat_minor": 2,
 "cells": [
  {
   "cell_type": "code",
   "execution_count": 1,
   "metadata": {},
   "outputs": [],
   "source": [
    "import pandas as pd\n",
    "df_credit = pd.read_csv('https://www.littledataman.com/samples/credit.csv', parse_dates = ['Approval Date'])\n",
    "df_cards = pd.read_csv('https://www.littledataman.com/samples/cards.csv', parse_dates = ['Effective Date'])\n",
    "df_trans = pd.read_csv('https://www.littledataman.com/samples/transactions.csv', parse_dates = ['Date'])"
   ]
  },
  {
   "cell_type": "code",
   "execution_count": 4,
   "metadata": {},
   "outputs": [],
   "source": [
    "df_cards_1 = df_cards[:3]\n",
    "df_trans_1 = df_trans[df_trans['Card Number'].isin (['CN014', 'CN015',\n",
    "'CN016'])]"
   ]
  },
  {
   "cell_type": "code",
   "execution_count": 5,
   "metadata": {},
   "outputs": [
    {
     "output_type": "execute_result",
     "data": {
      "text/plain": [
       "  First Name Last Name  Limitation      Effective Date Card Number       Date  \\\n",
       "1       Jane      Nize        9800 2019-08-16 05:25:00       CN014 2019-09-01   \n",
       "8       Jane      Nize        9800 2019-08-16 05:25:00       CN014 2019-09-03   \n",
       "2      Henry      Tone       12000 2019-09-13 12:00:00       CN015 2019-09-01   \n",
       "5      Henry      Tone       12000 2019-09-13 12:00:00       CN015 2019-09-02   \n",
       "\n",
       "   Transactions  Amount  \n",
       "1             3  120.50  \n",
       "8             2   23.60  \n",
       "2             1   53.23  \n",
       "5             2   23.12  "
      ],
      "text/html": "<div>\n<style scoped>\n    .dataframe tbody tr th:only-of-type {\n        vertical-align: middle;\n    }\n\n    .dataframe tbody tr th {\n        vertical-align: top;\n    }\n\n    .dataframe thead th {\n        text-align: right;\n    }\n</style>\n<table border=\"1\" class=\"dataframe\">\n  <thead>\n    <tr style=\"text-align: right;\">\n      <th></th>\n      <th>First Name</th>\n      <th>Last Name</th>\n      <th>Limitation</th>\n      <th>Effective Date</th>\n      <th>Card Number</th>\n      <th>Date</th>\n      <th>Transactions</th>\n      <th>Amount</th>\n    </tr>\n  </thead>\n  <tbody>\n    <tr>\n      <th>1</th>\n      <td>Jane</td>\n      <td>Nize</td>\n      <td>9800</td>\n      <td>2019-08-16 05:25:00</td>\n      <td>CN014</td>\n      <td>2019-09-01</td>\n      <td>3</td>\n      <td>120.50</td>\n    </tr>\n    <tr>\n      <th>8</th>\n      <td>Jane</td>\n      <td>Nize</td>\n      <td>9800</td>\n      <td>2019-08-16 05:25:00</td>\n      <td>CN014</td>\n      <td>2019-09-03</td>\n      <td>2</td>\n      <td>23.60</td>\n    </tr>\n    <tr>\n      <th>2</th>\n      <td>Henry</td>\n      <td>Tone</td>\n      <td>12000</td>\n      <td>2019-09-13 12:00:00</td>\n      <td>CN015</td>\n      <td>2019-09-01</td>\n      <td>1</td>\n      <td>53.23</td>\n    </tr>\n    <tr>\n      <th>5</th>\n      <td>Henry</td>\n      <td>Tone</td>\n      <td>12000</td>\n      <td>2019-09-13 12:00:00</td>\n      <td>CN015</td>\n      <td>2019-09-02</td>\n      <td>2</td>\n      <td>23.12</td>\n    </tr>\n  </tbody>\n</table>\n</div>"
     },
     "metadata": {},
     "execution_count": 5
    }
   ],
   "source": [
    "df_cards_1 = df_cards_1.set_index('Card Number')\n",
    "df_cards_1.merge(df_trans_1 , left_index = True, right_on = 'Card Number', how='inner')\n"
   ]
  },
  {
   "cell_type": "code",
   "execution_count": 6,
   "metadata": {},
   "outputs": [
    {
     "output_type": "execute_result",
     "data": {
      "text/plain": [
       "  First Name Last Name Card Number_l  Limitation      Effective Date  \\\n",
       "0      Jacky     White         CN012       10000 2019-09-13 12:00:00   \n",
       "1       Jane      Nize         CN014        9800 2019-08-16 05:25:00   \n",
       "2      Henry      Tone         CN015       12000 2019-09-13 12:00:00   \n",
       "3    Desmond     Black         CN016        5000 2019-08-16 05:25:00   \n",
       "4      Henry      Tone         CN015       15000 2020-05-01 12:00:00   \n",
       "5    Desmond     Black         CN016        2000 2020-05-01 01:00:00   \n",
       "\n",
       "  Card Number       Date  Transactions  Amount  \n",
       "0       CN012 2019-09-01             2  356.20  \n",
       "1       CN014 2019-09-01             3  120.50  \n",
       "2       CN015 2019-09-01             1   53.23  \n",
       "3       CN016 2019-09-01             3   25.60  \n",
       "4       CN012 2019-09-02             5  785.00  \n",
       "5       CN015 2019-09-02             2   23.12  "
      ],
      "text/html": "<div>\n<style scoped>\n    .dataframe tbody tr th:only-of-type {\n        vertical-align: middle;\n    }\n\n    .dataframe tbody tr th {\n        vertical-align: top;\n    }\n\n    .dataframe thead th {\n        text-align: right;\n    }\n</style>\n<table border=\"1\" class=\"dataframe\">\n  <thead>\n    <tr style=\"text-align: right;\">\n      <th></th>\n      <th>First Name</th>\n      <th>Last Name</th>\n      <th>Card Number_l</th>\n      <th>Limitation</th>\n      <th>Effective Date</th>\n      <th>Card Number</th>\n      <th>Date</th>\n      <th>Transactions</th>\n      <th>Amount</th>\n    </tr>\n  </thead>\n  <tbody>\n    <tr>\n      <th>0</th>\n      <td>Jacky</td>\n      <td>White</td>\n      <td>CN012</td>\n      <td>10000</td>\n      <td>2019-09-13 12:00:00</td>\n      <td>CN012</td>\n      <td>2019-09-01</td>\n      <td>2</td>\n      <td>356.20</td>\n    </tr>\n    <tr>\n      <th>1</th>\n      <td>Jane</td>\n      <td>Nize</td>\n      <td>CN014</td>\n      <td>9800</td>\n      <td>2019-08-16 05:25:00</td>\n      <td>CN014</td>\n      <td>2019-09-01</td>\n      <td>3</td>\n      <td>120.50</td>\n    </tr>\n    <tr>\n      <th>2</th>\n      <td>Henry</td>\n      <td>Tone</td>\n      <td>CN015</td>\n      <td>12000</td>\n      <td>2019-09-13 12:00:00</td>\n      <td>CN015</td>\n      <td>2019-09-01</td>\n      <td>1</td>\n      <td>53.23</td>\n    </tr>\n    <tr>\n      <th>3</th>\n      <td>Desmond</td>\n      <td>Black</td>\n      <td>CN016</td>\n      <td>5000</td>\n      <td>2019-08-16 05:25:00</td>\n      <td>CN016</td>\n      <td>2019-09-01</td>\n      <td>3</td>\n      <td>25.60</td>\n    </tr>\n    <tr>\n      <th>4</th>\n      <td>Henry</td>\n      <td>Tone</td>\n      <td>CN015</td>\n      <td>15000</td>\n      <td>2020-05-01 12:00:00</td>\n      <td>CN012</td>\n      <td>2019-09-02</td>\n      <td>5</td>\n      <td>785.00</td>\n    </tr>\n    <tr>\n      <th>5</th>\n      <td>Desmond</td>\n      <td>Black</td>\n      <td>CN016</td>\n      <td>2000</td>\n      <td>2020-05-01 01:00:00</td>\n      <td>CN015</td>\n      <td>2019-09-02</td>\n      <td>2</td>\n      <td>23.12</td>\n    </tr>\n  </tbody>\n</table>\n</div>"
     },
     "metadata": {},
     "execution_count": 6
    }
   ],
   "source": [
    "df_cards.join(df_trans, lsuffix = '_l')"
   ]
  },
  {
   "cell_type": "code",
   "execution_count": 7,
   "metadata": {},
   "outputs": [
    {
     "output_type": "execute_result",
     "data": {
      "text/plain": [
       "            First Name Last Name  Limitation      Effective Date       Date  \\\n",
       "Card Number                                                                   \n",
       "CN012            Jacky     White       10000 2019-09-13 12:00:00 2019-09-01   \n",
       "CN012            Jacky     White       10000 2019-09-13 12:00:00 2019-09-02   \n",
       "CN012            Jacky     White       10000 2019-09-13 12:00:00 2019-09-03   \n",
       "CN014             Jane      Nize        9800 2019-08-16 05:25:00 2019-09-01   \n",
       "CN014             Jane      Nize        9800 2019-08-16 05:25:00 2019-09-03   \n",
       "CN015            Henry      Tone       12000 2019-09-13 12:00:00 2019-09-01   \n",
       "CN015            Henry      Tone       12000 2019-09-13 12:00:00 2019-09-02   \n",
       "CN015            Henry      Tone       15000 2020-05-01 12:00:00 2019-09-01   \n",
       "CN015            Henry      Tone       15000 2020-05-01 12:00:00 2019-09-02   \n",
       "CN016          Desmond     Black        5000 2019-08-16 05:25:00 2019-09-01   \n",
       "CN016          Desmond     Black        5000 2019-08-16 05:25:00 2019-09-02   \n",
       "CN016          Desmond     Black        5000 2019-08-16 05:25:00 2019-09-03   \n",
       "CN016          Desmond     Black        2000 2020-05-01 01:00:00 2019-09-01   \n",
       "CN016          Desmond     Black        2000 2020-05-01 01:00:00 2019-09-02   \n",
       "CN016          Desmond     Black        2000 2020-05-01 01:00:00 2019-09-03   \n",
       "\n",
       "             Transactions  Amount  \n",
       "Card Number                        \n",
       "CN012                   2  356.20  \n",
       "CN012                   5  785.00  \n",
       "CN012                   4   36.90  \n",
       "CN014                   3  120.50  \n",
       "CN014                   2   23.60  \n",
       "CN015                   1   53.23  \n",
       "CN015                   2   23.12  \n",
       "CN015                   1   53.23  \n",
       "CN015                   2   23.12  \n",
       "CN016                   3   25.60  \n",
       "CN016                   3   28.30  \n",
       "CN016                   4   43.50  \n",
       "CN016                   3   25.60  \n",
       "CN016                   3   28.30  \n",
       "CN016                   4   43.50  "
      ],
      "text/html": "<div>\n<style scoped>\n    .dataframe tbody tr th:only-of-type {\n        vertical-align: middle;\n    }\n\n    .dataframe tbody tr th {\n        vertical-align: top;\n    }\n\n    .dataframe thead th {\n        text-align: right;\n    }\n</style>\n<table border=\"1\" class=\"dataframe\">\n  <thead>\n    <tr style=\"text-align: right;\">\n      <th></th>\n      <th>First Name</th>\n      <th>Last Name</th>\n      <th>Limitation</th>\n      <th>Effective Date</th>\n      <th>Date</th>\n      <th>Transactions</th>\n      <th>Amount</th>\n    </tr>\n    <tr>\n      <th>Card Number</th>\n      <th></th>\n      <th></th>\n      <th></th>\n      <th></th>\n      <th></th>\n      <th></th>\n      <th></th>\n    </tr>\n  </thead>\n  <tbody>\n    <tr>\n      <th>CN012</th>\n      <td>Jacky</td>\n      <td>White</td>\n      <td>10000</td>\n      <td>2019-09-13 12:00:00</td>\n      <td>2019-09-01</td>\n      <td>2</td>\n      <td>356.20</td>\n    </tr>\n    <tr>\n      <th>CN012</th>\n      <td>Jacky</td>\n      <td>White</td>\n      <td>10000</td>\n      <td>2019-09-13 12:00:00</td>\n      <td>2019-09-02</td>\n      <td>5</td>\n      <td>785.00</td>\n    </tr>\n    <tr>\n      <th>CN012</th>\n      <td>Jacky</td>\n      <td>White</td>\n      <td>10000</td>\n      <td>2019-09-13 12:00:00</td>\n      <td>2019-09-03</td>\n      <td>4</td>\n      <td>36.90</td>\n    </tr>\n    <tr>\n      <th>CN014</th>\n      <td>Jane</td>\n      <td>Nize</td>\n      <td>9800</td>\n      <td>2019-08-16 05:25:00</td>\n      <td>2019-09-01</td>\n      <td>3</td>\n      <td>120.50</td>\n    </tr>\n    <tr>\n      <th>CN014</th>\n      <td>Jane</td>\n      <td>Nize</td>\n      <td>9800</td>\n      <td>2019-08-16 05:25:00</td>\n      <td>2019-09-03</td>\n      <td>2</td>\n      <td>23.60</td>\n    </tr>\n    <tr>\n      <th>CN015</th>\n      <td>Henry</td>\n      <td>Tone</td>\n      <td>12000</td>\n      <td>2019-09-13 12:00:00</td>\n      <td>2019-09-01</td>\n      <td>1</td>\n      <td>53.23</td>\n    </tr>\n    <tr>\n      <th>CN015</th>\n      <td>Henry</td>\n      <td>Tone</td>\n      <td>12000</td>\n      <td>2019-09-13 12:00:00</td>\n      <td>2019-09-02</td>\n      <td>2</td>\n      <td>23.12</td>\n    </tr>\n    <tr>\n      <th>CN015</th>\n      <td>Henry</td>\n      <td>Tone</td>\n      <td>15000</td>\n      <td>2020-05-01 12:00:00</td>\n      <td>2019-09-01</td>\n      <td>1</td>\n      <td>53.23</td>\n    </tr>\n    <tr>\n      <th>CN015</th>\n      <td>Henry</td>\n      <td>Tone</td>\n      <td>15000</td>\n      <td>2020-05-01 12:00:00</td>\n      <td>2019-09-02</td>\n      <td>2</td>\n      <td>23.12</td>\n    </tr>\n    <tr>\n      <th>CN016</th>\n      <td>Desmond</td>\n      <td>Black</td>\n      <td>5000</td>\n      <td>2019-08-16 05:25:00</td>\n      <td>2019-09-01</td>\n      <td>3</td>\n      <td>25.60</td>\n    </tr>\n    <tr>\n      <th>CN016</th>\n      <td>Desmond</td>\n      <td>Black</td>\n      <td>5000</td>\n      <td>2019-08-16 05:25:00</td>\n      <td>2019-09-02</td>\n      <td>3</td>\n      <td>28.30</td>\n    </tr>\n    <tr>\n      <th>CN016</th>\n      <td>Desmond</td>\n      <td>Black</td>\n      <td>5000</td>\n      <td>2019-08-16 05:25:00</td>\n      <td>2019-09-03</td>\n      <td>4</td>\n      <td>43.50</td>\n    </tr>\n    <tr>\n      <th>CN016</th>\n      <td>Desmond</td>\n      <td>Black</td>\n      <td>2000</td>\n      <td>2020-05-01 01:00:00</td>\n      <td>2019-09-01</td>\n      <td>3</td>\n      <td>25.60</td>\n    </tr>\n    <tr>\n      <th>CN016</th>\n      <td>Desmond</td>\n      <td>Black</td>\n      <td>2000</td>\n      <td>2020-05-01 01:00:00</td>\n      <td>2019-09-02</td>\n      <td>3</td>\n      <td>28.30</td>\n    </tr>\n    <tr>\n      <th>CN016</th>\n      <td>Desmond</td>\n      <td>Black</td>\n      <td>2000</td>\n      <td>2020-05-01 01:00:00</td>\n      <td>2019-09-03</td>\n      <td>4</td>\n      <td>43.50</td>\n    </tr>\n  </tbody>\n</table>\n</div>"
     },
     "metadata": {},
     "execution_count": 7
    }
   ],
   "source": [
    "df_cards.set_index('Card Number').join(df_trans.set_index('Card Number'),\n",
    "how = 'left' )"
   ]
  },
  {
   "cell_type": "code",
   "execution_count": 8,
   "metadata": {},
   "outputs": [
    {
     "output_type": "execute_result",
     "data": {
      "text/plain": [
       "  First Name Last Name Card Number  Limitation      Effective Date\n",
       "0      Jacky     White       CN012       10000 2019-09-13 12:00:00\n",
       "1       Jane      Nize       CN014        9800 2019-08-16 05:25:00\n",
       "2      Henry      Tone       CN015       12000 2019-09-13 12:00:00\n",
       "3    Desmond     Black       CN016        5000 2019-08-16 05:25:00\n",
       "4      Henry      Tone       CN015       15000 2020-05-01 12:00:00\n",
       "5    Desmond     Black       CN016        2000 2020-05-01 01:00:00"
      ],
      "text/html": "<div>\n<style scoped>\n    .dataframe tbody tr th:only-of-type {\n        vertical-align: middle;\n    }\n\n    .dataframe tbody tr th {\n        vertical-align: top;\n    }\n\n    .dataframe thead th {\n        text-align: right;\n    }\n</style>\n<table border=\"1\" class=\"dataframe\">\n  <thead>\n    <tr style=\"text-align: right;\">\n      <th></th>\n      <th>First Name</th>\n      <th>Last Name</th>\n      <th>Card Number</th>\n      <th>Limitation</th>\n      <th>Effective Date</th>\n    </tr>\n  </thead>\n  <tbody>\n    <tr>\n      <th>0</th>\n      <td>Jacky</td>\n      <td>White</td>\n      <td>CN012</td>\n      <td>10000</td>\n      <td>2019-09-13 12:00:00</td>\n    </tr>\n    <tr>\n      <th>1</th>\n      <td>Jane</td>\n      <td>Nize</td>\n      <td>CN014</td>\n      <td>9800</td>\n      <td>2019-08-16 05:25:00</td>\n    </tr>\n    <tr>\n      <th>2</th>\n      <td>Henry</td>\n      <td>Tone</td>\n      <td>CN015</td>\n      <td>12000</td>\n      <td>2019-09-13 12:00:00</td>\n    </tr>\n    <tr>\n      <th>3</th>\n      <td>Desmond</td>\n      <td>Black</td>\n      <td>CN016</td>\n      <td>5000</td>\n      <td>2019-08-16 05:25:00</td>\n    </tr>\n    <tr>\n      <th>4</th>\n      <td>Henry</td>\n      <td>Tone</td>\n      <td>CN015</td>\n      <td>15000</td>\n      <td>2020-05-01 12:00:00</td>\n    </tr>\n    <tr>\n      <th>5</th>\n      <td>Desmond</td>\n      <td>Black</td>\n      <td>CN016</td>\n      <td>2000</td>\n      <td>2020-05-01 01:00:00</td>\n    </tr>\n  </tbody>\n</table>\n</div>"
     },
     "metadata": {},
     "execution_count": 8
    }
   ],
   "source": [
    "df_cards"
   ]
  },
  {
   "cell_type": "code",
   "execution_count": 9,
   "metadata": {},
   "outputs": [
    {
     "output_type": "execute_result",
     "data": {
      "text/plain": [
       "  First Name Last Name Card Number  Limitation      Effective Date  \\\n",
       "0      Jacky     White       CN012       10000 2019-09-13 12:00:00   \n",
       "1       Jane      Nize       CN014        9800 2019-08-16 05:25:00   \n",
       "2      Henry      Tone       CN015       12000 2019-09-13 12:00:00   \n",
       "3    Desmond     Black       CN016        5000 2019-08-16 05:25:00   \n",
       "4      Henry      Tone       CN015       15000 2020-05-01 12:00:00   \n",
       "5    Desmond     Black       CN016        2000 2020-05-01 01:00:00   \n",
       "\n",
       "  Card Number       Date  Transactions  Amount  \n",
       "0       CN012 2019-09-01             2  356.20  \n",
       "1       CN014 2019-09-01             3  120.50  \n",
       "2       CN015 2019-09-01             1   53.23  \n",
       "3       CN016 2019-09-01             3   25.60  \n",
       "4       CN012 2019-09-02             5  785.00  \n",
       "5       CN015 2019-09-02             2   23.12  "
      ],
      "text/html": "<div>\n<style scoped>\n    .dataframe tbody tr th:only-of-type {\n        vertical-align: middle;\n    }\n\n    .dataframe tbody tr th {\n        vertical-align: top;\n    }\n\n    .dataframe thead th {\n        text-align: right;\n    }\n</style>\n<table border=\"1\" class=\"dataframe\">\n  <thead>\n    <tr style=\"text-align: right;\">\n      <th></th>\n      <th>First Name</th>\n      <th>Last Name</th>\n      <th>Card Number</th>\n      <th>Limitation</th>\n      <th>Effective Date</th>\n      <th>Card Number</th>\n      <th>Date</th>\n      <th>Transactions</th>\n      <th>Amount</th>\n    </tr>\n  </thead>\n  <tbody>\n    <tr>\n      <th>0</th>\n      <td>Jacky</td>\n      <td>White</td>\n      <td>CN012</td>\n      <td>10000</td>\n      <td>2019-09-13 12:00:00</td>\n      <td>CN012</td>\n      <td>2019-09-01</td>\n      <td>2</td>\n      <td>356.20</td>\n    </tr>\n    <tr>\n      <th>1</th>\n      <td>Jane</td>\n      <td>Nize</td>\n      <td>CN014</td>\n      <td>9800</td>\n      <td>2019-08-16 05:25:00</td>\n      <td>CN014</td>\n      <td>2019-09-01</td>\n      <td>3</td>\n      <td>120.50</td>\n    </tr>\n    <tr>\n      <th>2</th>\n      <td>Henry</td>\n      <td>Tone</td>\n      <td>CN015</td>\n      <td>12000</td>\n      <td>2019-09-13 12:00:00</td>\n      <td>CN015</td>\n      <td>2019-09-01</td>\n      <td>1</td>\n      <td>53.23</td>\n    </tr>\n    <tr>\n      <th>3</th>\n      <td>Desmond</td>\n      <td>Black</td>\n      <td>CN016</td>\n      <td>5000</td>\n      <td>2019-08-16 05:25:00</td>\n      <td>CN016</td>\n      <td>2019-09-01</td>\n      <td>3</td>\n      <td>25.60</td>\n    </tr>\n    <tr>\n      <th>4</th>\n      <td>Henry</td>\n      <td>Tone</td>\n      <td>CN015</td>\n      <td>15000</td>\n      <td>2020-05-01 12:00:00</td>\n      <td>CN012</td>\n      <td>2019-09-02</td>\n      <td>5</td>\n      <td>785.00</td>\n    </tr>\n    <tr>\n      <th>5</th>\n      <td>Desmond</td>\n      <td>Black</td>\n      <td>CN016</td>\n      <td>2000</td>\n      <td>2020-05-01 01:00:00</td>\n      <td>CN015</td>\n      <td>2019-09-02</td>\n      <td>2</td>\n      <td>23.12</td>\n    </tr>\n  </tbody>\n</table>\n</div>"
     },
     "metadata": {},
     "execution_count": 9
    }
   ],
   "source": [
    "pd.concat([df_cards, df_trans], axis = 1, join ='inner')"
   ]
  },
  {
   "cell_type": "code",
   "execution_count": 10,
   "metadata": {},
   "outputs": [
    {
     "output_type": "execute_result",
     "data": {
      "text/plain": [
       "  First Name Last Name Card Number  Limitation      Effective Date  \\\n",
       "0      Jacky     White       CN012     10000.0 2019-09-13 12:00:00   \n",
       "1       Jane      Nize       CN014      9800.0 2019-08-16 05:25:00   \n",
       "2      Henry      Tone       CN015     12000.0 2019-09-13 12:00:00   \n",
       "3    Desmond     Black       CN016      5000.0 2019-08-16 05:25:00   \n",
       "4      Henry      Tone       CN015     15000.0 2020-05-01 12:00:00   \n",
       "5    Desmond     Black       CN016      2000.0 2020-05-01 01:00:00   \n",
       "6        NaN       NaN         NaN         NaN                 NaT   \n",
       "7        NaN       NaN         NaN         NaN                 NaT   \n",
       "8        NaN       NaN         NaN         NaN                 NaT   \n",
       "9        NaN       NaN         NaN         NaN                 NaT   \n",
       "\n",
       "  Card Number       Date  Transactions  Amount  \n",
       "0       CN012 2019-09-01             2  356.20  \n",
       "1       CN014 2019-09-01             3  120.50  \n",
       "2       CN015 2019-09-01             1   53.23  \n",
       "3       CN016 2019-09-01             3   25.60  \n",
       "4       CN012 2019-09-02             5  785.00  \n",
       "5       CN015 2019-09-02             2   23.12  \n",
       "6       CN016 2019-09-02             3   28.30  \n",
       "7       CN012 2019-09-03             4   36.90  \n",
       "8       CN014 2019-09-03             2   23.60  \n",
       "9       CN016 2019-09-03             4   43.50  "
      ],
      "text/html": "<div>\n<style scoped>\n    .dataframe tbody tr th:only-of-type {\n        vertical-align: middle;\n    }\n\n    .dataframe tbody tr th {\n        vertical-align: top;\n    }\n\n    .dataframe thead th {\n        text-align: right;\n    }\n</style>\n<table border=\"1\" class=\"dataframe\">\n  <thead>\n    <tr style=\"text-align: right;\">\n      <th></th>\n      <th>First Name</th>\n      <th>Last Name</th>\n      <th>Card Number</th>\n      <th>Limitation</th>\n      <th>Effective Date</th>\n      <th>Card Number</th>\n      <th>Date</th>\n      <th>Transactions</th>\n      <th>Amount</th>\n    </tr>\n  </thead>\n  <tbody>\n    <tr>\n      <th>0</th>\n      <td>Jacky</td>\n      <td>White</td>\n      <td>CN012</td>\n      <td>10000.0</td>\n      <td>2019-09-13 12:00:00</td>\n      <td>CN012</td>\n      <td>2019-09-01</td>\n      <td>2</td>\n      <td>356.20</td>\n    </tr>\n    <tr>\n      <th>1</th>\n      <td>Jane</td>\n      <td>Nize</td>\n      <td>CN014</td>\n      <td>9800.0</td>\n      <td>2019-08-16 05:25:00</td>\n      <td>CN014</td>\n      <td>2019-09-01</td>\n      <td>3</td>\n      <td>120.50</td>\n    </tr>\n    <tr>\n      <th>2</th>\n      <td>Henry</td>\n      <td>Tone</td>\n      <td>CN015</td>\n      <td>12000.0</td>\n      <td>2019-09-13 12:00:00</td>\n      <td>CN015</td>\n      <td>2019-09-01</td>\n      <td>1</td>\n      <td>53.23</td>\n    </tr>\n    <tr>\n      <th>3</th>\n      <td>Desmond</td>\n      <td>Black</td>\n      <td>CN016</td>\n      <td>5000.0</td>\n      <td>2019-08-16 05:25:00</td>\n      <td>CN016</td>\n      <td>2019-09-01</td>\n      <td>3</td>\n      <td>25.60</td>\n    </tr>\n    <tr>\n      <th>4</th>\n      <td>Henry</td>\n      <td>Tone</td>\n      <td>CN015</td>\n      <td>15000.0</td>\n      <td>2020-05-01 12:00:00</td>\n      <td>CN012</td>\n      <td>2019-09-02</td>\n      <td>5</td>\n      <td>785.00</td>\n    </tr>\n    <tr>\n      <th>5</th>\n      <td>Desmond</td>\n      <td>Black</td>\n      <td>CN016</td>\n      <td>2000.0</td>\n      <td>2020-05-01 01:00:00</td>\n      <td>CN015</td>\n      <td>2019-09-02</td>\n      <td>2</td>\n      <td>23.12</td>\n    </tr>\n    <tr>\n      <th>6</th>\n      <td>NaN</td>\n      <td>NaN</td>\n      <td>NaN</td>\n      <td>NaN</td>\n      <td>NaT</td>\n      <td>CN016</td>\n      <td>2019-09-02</td>\n      <td>3</td>\n      <td>28.30</td>\n    </tr>\n    <tr>\n      <th>7</th>\n      <td>NaN</td>\n      <td>NaN</td>\n      <td>NaN</td>\n      <td>NaN</td>\n      <td>NaT</td>\n      <td>CN012</td>\n      <td>2019-09-03</td>\n      <td>4</td>\n      <td>36.90</td>\n    </tr>\n    <tr>\n      <th>8</th>\n      <td>NaN</td>\n      <td>NaN</td>\n      <td>NaN</td>\n      <td>NaN</td>\n      <td>NaT</td>\n      <td>CN014</td>\n      <td>2019-09-03</td>\n      <td>2</td>\n      <td>23.60</td>\n    </tr>\n    <tr>\n      <th>9</th>\n      <td>NaN</td>\n      <td>NaN</td>\n      <td>NaN</td>\n      <td>NaN</td>\n      <td>NaT</td>\n      <td>CN016</td>\n      <td>2019-09-03</td>\n      <td>4</td>\n      <td>43.50</td>\n    </tr>\n  </tbody>\n</table>\n</div>"
     },
     "metadata": {},
     "execution_count": 10
    }
   ],
   "source": [
    "pd.concat([df_cards, df_trans], axis = 1, join ='outer')"
   ]
  },
  {
   "cell_type": "code",
   "execution_count": 11,
   "metadata": {},
   "outputs": [
    {
     "output_type": "execute_result",
     "data": {
      "text/plain": [
       "Empty DataFrame\n",
       "Columns: []\n",
       "Index: [CN012, CN014, CN015, 1, 2, 3, 5, 6, 8, 9]"
      ],
      "text/html": "<div>\n<style scoped>\n    .dataframe tbody tr th:only-of-type {\n        vertical-align: middle;\n    }\n\n    .dataframe tbody tr th {\n        vertical-align: top;\n    }\n\n    .dataframe thead th {\n        text-align: right;\n    }\n</style>\n<table border=\"1\" class=\"dataframe\">\n  <thead>\n    <tr style=\"text-align: right;\">\n      <th></th>\n    </tr>\n  </thead>\n  <tbody>\n    <tr>\n      <th>CN012</th>\n    </tr>\n    <tr>\n      <th>CN014</th>\n    </tr>\n    <tr>\n      <th>CN015</th>\n    </tr>\n    <tr>\n      <th>1</th>\n    </tr>\n    <tr>\n      <th>2</th>\n    </tr>\n    <tr>\n      <th>3</th>\n    </tr>\n    <tr>\n      <th>5</th>\n    </tr>\n    <tr>\n      <th>6</th>\n    </tr>\n    <tr>\n      <th>8</th>\n    </tr>\n    <tr>\n      <th>9</th>\n    </tr>\n  </tbody>\n</table>\n</div>"
     },
     "metadata": {},
     "execution_count": 11
    }
   ],
   "source": [
    "pd.concat([df_cards_1 ,df_trans_1],axis = 0,join ='inner', sort=False )"
   ]
  },
  {
   "cell_type": "code",
   "execution_count": 12,
   "metadata": {},
   "outputs": [
    {
     "output_type": "execute_result",
     "data": {
      "text/plain": [
       "  First Name Last Name Card Number  Limitation      Effective Date       Date  \\\n",
       "0      Jacky     White       CN012     10000.0 2019-09-13 12:00:00        NaT   \n",
       "1       Jane      Nize       CN014      9800.0 2019-08-16 05:25:00        NaT   \n",
       "2      Henry      Tone       CN015     12000.0 2019-09-13 12:00:00        NaT   \n",
       "3    Desmond     Black       CN016      5000.0 2019-08-16 05:25:00        NaT   \n",
       "4      Henry      Tone       CN015     15000.0 2020-05-01 12:00:00        NaT   \n",
       "5    Desmond     Black       CN016      2000.0 2020-05-01 01:00:00        NaT   \n",
       "0        NaN       NaN       CN012         NaN                 NaT 2019-09-01   \n",
       "1        NaN       NaN       CN014         NaN                 NaT 2019-09-01   \n",
       "2        NaN       NaN       CN015         NaN                 NaT 2019-09-01   \n",
       "3        NaN       NaN       CN016         NaN                 NaT 2019-09-01   \n",
       "4        NaN       NaN       CN012         NaN                 NaT 2019-09-02   \n",
       "5        NaN       NaN       CN015         NaN                 NaT 2019-09-02   \n",
       "6        NaN       NaN       CN016         NaN                 NaT 2019-09-02   \n",
       "7        NaN       NaN       CN012         NaN                 NaT 2019-09-03   \n",
       "8        NaN       NaN       CN014         NaN                 NaT 2019-09-03   \n",
       "9        NaN       NaN       CN016         NaN                 NaT 2019-09-03   \n",
       "\n",
       "   Transactions  Amount  \n",
       "0           NaN     NaN  \n",
       "1           NaN     NaN  \n",
       "2           NaN     NaN  \n",
       "3           NaN     NaN  \n",
       "4           NaN     NaN  \n",
       "5           NaN     NaN  \n",
       "0           2.0  356.20  \n",
       "1           3.0  120.50  \n",
       "2           1.0   53.23  \n",
       "3           3.0   25.60  \n",
       "4           5.0  785.00  \n",
       "5           2.0   23.12  \n",
       "6           3.0   28.30  \n",
       "7           4.0   36.90  \n",
       "8           2.0   23.60  \n",
       "9           4.0   43.50  "
      ],
      "text/html": "<div>\n<style scoped>\n    .dataframe tbody tr th:only-of-type {\n        vertical-align: middle;\n    }\n\n    .dataframe tbody tr th {\n        vertical-align: top;\n    }\n\n    .dataframe thead th {\n        text-align: right;\n    }\n</style>\n<table border=\"1\" class=\"dataframe\">\n  <thead>\n    <tr style=\"text-align: right;\">\n      <th></th>\n      <th>First Name</th>\n      <th>Last Name</th>\n      <th>Card Number</th>\n      <th>Limitation</th>\n      <th>Effective Date</th>\n      <th>Date</th>\n      <th>Transactions</th>\n      <th>Amount</th>\n    </tr>\n  </thead>\n  <tbody>\n    <tr>\n      <th>0</th>\n      <td>Jacky</td>\n      <td>White</td>\n      <td>CN012</td>\n      <td>10000.0</td>\n      <td>2019-09-13 12:00:00</td>\n      <td>NaT</td>\n      <td>NaN</td>\n      <td>NaN</td>\n    </tr>\n    <tr>\n      <th>1</th>\n      <td>Jane</td>\n      <td>Nize</td>\n      <td>CN014</td>\n      <td>9800.0</td>\n      <td>2019-08-16 05:25:00</td>\n      <td>NaT</td>\n      <td>NaN</td>\n      <td>NaN</td>\n    </tr>\n    <tr>\n      <th>2</th>\n      <td>Henry</td>\n      <td>Tone</td>\n      <td>CN015</td>\n      <td>12000.0</td>\n      <td>2019-09-13 12:00:00</td>\n      <td>NaT</td>\n      <td>NaN</td>\n      <td>NaN</td>\n    </tr>\n    <tr>\n      <th>3</th>\n      <td>Desmond</td>\n      <td>Black</td>\n      <td>CN016</td>\n      <td>5000.0</td>\n      <td>2019-08-16 05:25:00</td>\n      <td>NaT</td>\n      <td>NaN</td>\n      <td>NaN</td>\n    </tr>\n    <tr>\n      <th>4</th>\n      <td>Henry</td>\n      <td>Tone</td>\n      <td>CN015</td>\n      <td>15000.0</td>\n      <td>2020-05-01 12:00:00</td>\n      <td>NaT</td>\n      <td>NaN</td>\n      <td>NaN</td>\n    </tr>\n    <tr>\n      <th>5</th>\n      <td>Desmond</td>\n      <td>Black</td>\n      <td>CN016</td>\n      <td>2000.0</td>\n      <td>2020-05-01 01:00:00</td>\n      <td>NaT</td>\n      <td>NaN</td>\n      <td>NaN</td>\n    </tr>\n    <tr>\n      <th>0</th>\n      <td>NaN</td>\n      <td>NaN</td>\n      <td>CN012</td>\n      <td>NaN</td>\n      <td>NaT</td>\n      <td>2019-09-01</td>\n      <td>2.0</td>\n      <td>356.20</td>\n    </tr>\n    <tr>\n      <th>1</th>\n      <td>NaN</td>\n      <td>NaN</td>\n      <td>CN014</td>\n      <td>NaN</td>\n      <td>NaT</td>\n      <td>2019-09-01</td>\n      <td>3.0</td>\n      <td>120.50</td>\n    </tr>\n    <tr>\n      <th>2</th>\n      <td>NaN</td>\n      <td>NaN</td>\n      <td>CN015</td>\n      <td>NaN</td>\n      <td>NaT</td>\n      <td>2019-09-01</td>\n      <td>1.0</td>\n      <td>53.23</td>\n    </tr>\n    <tr>\n      <th>3</th>\n      <td>NaN</td>\n      <td>NaN</td>\n      <td>CN016</td>\n      <td>NaN</td>\n      <td>NaT</td>\n      <td>2019-09-01</td>\n      <td>3.0</td>\n      <td>25.60</td>\n    </tr>\n    <tr>\n      <th>4</th>\n      <td>NaN</td>\n      <td>NaN</td>\n      <td>CN012</td>\n      <td>NaN</td>\n      <td>NaT</td>\n      <td>2019-09-02</td>\n      <td>5.0</td>\n      <td>785.00</td>\n    </tr>\n    <tr>\n      <th>5</th>\n      <td>NaN</td>\n      <td>NaN</td>\n      <td>CN015</td>\n      <td>NaN</td>\n      <td>NaT</td>\n      <td>2019-09-02</td>\n      <td>2.0</td>\n      <td>23.12</td>\n    </tr>\n    <tr>\n      <th>6</th>\n      <td>NaN</td>\n      <td>NaN</td>\n      <td>CN016</td>\n      <td>NaN</td>\n      <td>NaT</td>\n      <td>2019-09-02</td>\n      <td>3.0</td>\n      <td>28.30</td>\n    </tr>\n    <tr>\n      <th>7</th>\n      <td>NaN</td>\n      <td>NaN</td>\n      <td>CN012</td>\n      <td>NaN</td>\n      <td>NaT</td>\n      <td>2019-09-03</td>\n      <td>4.0</td>\n      <td>36.90</td>\n    </tr>\n    <tr>\n      <th>8</th>\n      <td>NaN</td>\n      <td>NaN</td>\n      <td>CN014</td>\n      <td>NaN</td>\n      <td>NaT</td>\n      <td>2019-09-03</td>\n      <td>2.0</td>\n      <td>23.60</td>\n    </tr>\n    <tr>\n      <th>9</th>\n      <td>NaN</td>\n      <td>NaN</td>\n      <td>CN016</td>\n      <td>NaN</td>\n      <td>NaT</td>\n      <td>2019-09-03</td>\n      <td>4.0</td>\n      <td>43.50</td>\n    </tr>\n  </tbody>\n</table>\n</div>"
     },
     "metadata": {},
     "execution_count": 12
    }
   ],
   "source": [
    "df_cards.append(df_trans,sort=False)"
   ]
  }
 ]
}