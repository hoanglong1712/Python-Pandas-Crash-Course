{
 "metadata": {
  "language_info": {
   "codemirror_mode": {
    "name": "ipython",
    "version": 3
   },
   "file_extension": ".py",
   "mimetype": "text/x-python",
   "name": "python",
   "nbconvert_exporter": "python",
   "pygments_lexer": "ipython3",
   "version": "3.7.6-final"
  },
  "orig_nbformat": 2,
  "kernelspec": {
   "name": "Python 3.7.6 64-bit",
   "display_name": "Python 3.7.6 64-bit",
   "metadata": {
    "interpreter": {
     "hash": "0533883d4b10e2e0e9042770828e2446211fda1fae3645fb8f264c38f1952f0d"
    }
   }
  }
 },
 "nbformat": 4,
 "nbformat_minor": 2,
 "cells": [
  {
   "cell_type": "code",
   "execution_count": 5,
   "metadata": {},
   "outputs": [],
   "source": [
    "import pandas as pd\n",
    "df_credit = pd.read_csv('https://www.littledataman.com/samples/credit.csv', parse_dates = ['Approval Date'])\n",
    "df_cards = pd.read_csv('https://www.littledataman.com/samples/cards.csv', parse_dates = ['Effective Date'])\n",
    "df_trans = pd.read_csv('https://www.littledataman.com/samples/transactions.csv', parse_dates = ['Date'])"
   ]
  },
  {
   "cell_type": "code",
   "execution_count": 2,
   "metadata": {},
   "outputs": [
    {
     "output_type": "execute_result",
     "data": {
      "text/plain": [
       "  First Name Last Name  Credit Score  Credit Approval Card Name     Income  \\\n",
       "0      Jacky     White           825             True  Infinite  155000.62   \n",
       "1       Jane      Nize           810             True    Golden  120800.88   \n",
       "2      Henry      Tone           780             True    Golden   98000.58   \n",
       "3    Desmond     Black           750             True    Silver   54000.00   \n",
       "4     Eileen      Musk           620            False  Dividend   35000.00   \n",
       "\n",
       "        Approval Date  \n",
       "0 2019-09-13 12:00:00  \n",
       "1 2019-08-16 05:25:00  \n",
       "2 2020-05-06 12:00:00  \n",
       "3 2020-05-01 01:00:00  \n",
       "4                 NaT  "
      ],
      "text/html": "<div>\n<style scoped>\n    .dataframe tbody tr th:only-of-type {\n        vertical-align: middle;\n    }\n\n    .dataframe tbody tr th {\n        vertical-align: top;\n    }\n\n    .dataframe thead th {\n        text-align: right;\n    }\n</style>\n<table border=\"1\" class=\"dataframe\">\n  <thead>\n    <tr style=\"text-align: right;\">\n      <th></th>\n      <th>First Name</th>\n      <th>Last Name</th>\n      <th>Credit Score</th>\n      <th>Credit Approval</th>\n      <th>Card Name</th>\n      <th>Income</th>\n      <th>Approval Date</th>\n    </tr>\n  </thead>\n  <tbody>\n    <tr>\n      <th>0</th>\n      <td>Jacky</td>\n      <td>White</td>\n      <td>825</td>\n      <td>True</td>\n      <td>Infinite</td>\n      <td>155000.62</td>\n      <td>2019-09-13 12:00:00</td>\n    </tr>\n    <tr>\n      <th>1</th>\n      <td>Jane</td>\n      <td>Nize</td>\n      <td>810</td>\n      <td>True</td>\n      <td>Golden</td>\n      <td>120800.88</td>\n      <td>2019-08-16 05:25:00</td>\n    </tr>\n    <tr>\n      <th>2</th>\n      <td>Henry</td>\n      <td>Tone</td>\n      <td>780</td>\n      <td>True</td>\n      <td>Golden</td>\n      <td>98000.58</td>\n      <td>2020-05-06 12:00:00</td>\n    </tr>\n    <tr>\n      <th>3</th>\n      <td>Desmond</td>\n      <td>Black</td>\n      <td>750</td>\n      <td>True</td>\n      <td>Silver</td>\n      <td>54000.00</td>\n      <td>2020-05-01 01:00:00</td>\n    </tr>\n    <tr>\n      <th>4</th>\n      <td>Eileen</td>\n      <td>Musk</td>\n      <td>620</td>\n      <td>False</td>\n      <td>Dividend</td>\n      <td>35000.00</td>\n      <td>NaT</td>\n    </tr>\n  </tbody>\n</table>\n</div>"
     },
     "metadata": {},
     "execution_count": 2
    }
   ],
   "source": [
    "df_credit"
   ]
  },
  {
   "cell_type": "code",
   "execution_count": 3,
   "metadata": {},
   "outputs": [
    {
     "output_type": "execute_result",
     "data": {
      "text/plain": [
       "  First Name Last Name  Credit Score Credit Approval Card Name     Income  \\\n",
       "0        NaN       NaN           NaN             NaN       NaN        NaN   \n",
       "1      Jacky     White         825.0            True  Infinite  155000.62   \n",
       "2       Jane      Nize         810.0            True    Golden  120800.88   \n",
       "3      Henry      Tone         780.0            True    Golden   98000.58   \n",
       "4    Desmond     Black         750.0            True    Silver   54000.00   \n",
       "\n",
       "        Approval Date  \n",
       "0                 NaT  \n",
       "1 2019-09-13 12:00:00  \n",
       "2 2019-08-16 05:25:00  \n",
       "3 2020-05-06 12:00:00  \n",
       "4 2020-05-01 01:00:00  "
      ],
      "text/html": "<div>\n<style scoped>\n    .dataframe tbody tr th:only-of-type {\n        vertical-align: middle;\n    }\n\n    .dataframe tbody tr th {\n        vertical-align: top;\n    }\n\n    .dataframe thead th {\n        text-align: right;\n    }\n</style>\n<table border=\"1\" class=\"dataframe\">\n  <thead>\n    <tr style=\"text-align: right;\">\n      <th></th>\n      <th>First Name</th>\n      <th>Last Name</th>\n      <th>Credit Score</th>\n      <th>Credit Approval</th>\n      <th>Card Name</th>\n      <th>Income</th>\n      <th>Approval Date</th>\n    </tr>\n  </thead>\n  <tbody>\n    <tr>\n      <th>0</th>\n      <td>NaN</td>\n      <td>NaN</td>\n      <td>NaN</td>\n      <td>NaN</td>\n      <td>NaN</td>\n      <td>NaN</td>\n      <td>NaT</td>\n    </tr>\n    <tr>\n      <th>1</th>\n      <td>Jacky</td>\n      <td>White</td>\n      <td>825.0</td>\n      <td>True</td>\n      <td>Infinite</td>\n      <td>155000.62</td>\n      <td>2019-09-13 12:00:00</td>\n    </tr>\n    <tr>\n      <th>2</th>\n      <td>Jane</td>\n      <td>Nize</td>\n      <td>810.0</td>\n      <td>True</td>\n      <td>Golden</td>\n      <td>120800.88</td>\n      <td>2019-08-16 05:25:00</td>\n    </tr>\n    <tr>\n      <th>3</th>\n      <td>Henry</td>\n      <td>Tone</td>\n      <td>780.0</td>\n      <td>True</td>\n      <td>Golden</td>\n      <td>98000.58</td>\n      <td>2020-05-06 12:00:00</td>\n    </tr>\n    <tr>\n      <th>4</th>\n      <td>Desmond</td>\n      <td>Black</td>\n      <td>750.0</td>\n      <td>True</td>\n      <td>Silver</td>\n      <td>54000.00</td>\n      <td>2020-05-01 01:00:00</td>\n    </tr>\n  </tbody>\n</table>\n</div>"
     },
     "metadata": {},
     "execution_count": 3
    }
   ],
   "source": [
    "df_credit.shift(1)"
   ]
  },
  {
   "cell_type": "code",
   "execution_count": 4,
   "metadata": {},
   "outputs": [
    {
     "output_type": "execute_result",
     "data": {
      "text/plain": [
       "  First Name Last Name  Credit Score  Credit Approval Card Name     Income  \\\n",
       "0      Jacky     White           825             True  Infinite  155000.62   \n",
       "1       Jane      Nize           810             True    Golden  120800.88   \n",
       "2      Henry      Tone           780             True    Golden   98000.58   \n",
       "3    Desmond     Black           750             True    Silver   54000.00   \n",
       "4     Eileen      Musk           620            False  Dividend   35000.00   \n",
       "\n",
       "        Approval Date  New Score  \n",
       "0 2019-09-13 12:00:00        NaN  \n",
       "1 2019-08-16 05:25:00      825.0  \n",
       "2 2020-05-06 12:00:00      810.0  \n",
       "3 2020-05-01 01:00:00      780.0  \n",
       "4                 NaT      750.0  "
      ],
      "text/html": "<div>\n<style scoped>\n    .dataframe tbody tr th:only-of-type {\n        vertical-align: middle;\n    }\n\n    .dataframe tbody tr th {\n        vertical-align: top;\n    }\n\n    .dataframe thead th {\n        text-align: right;\n    }\n</style>\n<table border=\"1\" class=\"dataframe\">\n  <thead>\n    <tr style=\"text-align: right;\">\n      <th></th>\n      <th>First Name</th>\n      <th>Last Name</th>\n      <th>Credit Score</th>\n      <th>Credit Approval</th>\n      <th>Card Name</th>\n      <th>Income</th>\n      <th>Approval Date</th>\n      <th>New Score</th>\n    </tr>\n  </thead>\n  <tbody>\n    <tr>\n      <th>0</th>\n      <td>Jacky</td>\n      <td>White</td>\n      <td>825</td>\n      <td>True</td>\n      <td>Infinite</td>\n      <td>155000.62</td>\n      <td>2019-09-13 12:00:00</td>\n      <td>NaN</td>\n    </tr>\n    <tr>\n      <th>1</th>\n      <td>Jane</td>\n      <td>Nize</td>\n      <td>810</td>\n      <td>True</td>\n      <td>Golden</td>\n      <td>120800.88</td>\n      <td>2019-08-16 05:25:00</td>\n      <td>825.0</td>\n    </tr>\n    <tr>\n      <th>2</th>\n      <td>Henry</td>\n      <td>Tone</td>\n      <td>780</td>\n      <td>True</td>\n      <td>Golden</td>\n      <td>98000.58</td>\n      <td>2020-05-06 12:00:00</td>\n      <td>810.0</td>\n    </tr>\n    <tr>\n      <th>3</th>\n      <td>Desmond</td>\n      <td>Black</td>\n      <td>750</td>\n      <td>True</td>\n      <td>Silver</td>\n      <td>54000.00</td>\n      <td>2020-05-01 01:00:00</td>\n      <td>780.0</td>\n    </tr>\n    <tr>\n      <th>4</th>\n      <td>Eileen</td>\n      <td>Musk</td>\n      <td>620</td>\n      <td>False</td>\n      <td>Dividend</td>\n      <td>35000.00</td>\n      <td>NaT</td>\n      <td>750.0</td>\n    </tr>\n  </tbody>\n</table>\n</div>"
     },
     "metadata": {},
     "execution_count": 4
    }
   ],
   "source": [
    "df_credit['New Score'] = df_credit['Credit Score'].shift(1)\n",
    "df_credit"
   ]
  },
  {
   "cell_type": "code",
   "execution_count": 6,
   "metadata": {},
   "outputs": [
    {
     "output_type": "execute_result",
     "data": {
      "text/plain": [
       "  Card Number       Date  Transactions  Amount\n",
       "0       CN012 2019-09-01             2  356.20\n",
       "1       CN014 2019-09-01             3  120.50\n",
       "2       CN015 2019-09-01             1   53.23\n",
       "3       CN016 2019-09-01             3   25.60\n",
       "4       CN012 2019-09-02             5  785.00\n",
       "5       CN015 2019-09-02             2   23.12\n",
       "6       CN016 2019-09-02             3   28.30\n",
       "7       CN012 2019-09-03             4   36.90\n",
       "8       CN014 2019-09-03             2   23.60\n",
       "9       CN016 2019-09-03             4   43.50"
      ],
      "text/html": "<div>\n<style scoped>\n    .dataframe tbody tr th:only-of-type {\n        vertical-align: middle;\n    }\n\n    .dataframe tbody tr th {\n        vertical-align: top;\n    }\n\n    .dataframe thead th {\n        text-align: right;\n    }\n</style>\n<table border=\"1\" class=\"dataframe\">\n  <thead>\n    <tr style=\"text-align: right;\">\n      <th></th>\n      <th>Card Number</th>\n      <th>Date</th>\n      <th>Transactions</th>\n      <th>Amount</th>\n    </tr>\n  </thead>\n  <tbody>\n    <tr>\n      <th>0</th>\n      <td>CN012</td>\n      <td>2019-09-01</td>\n      <td>2</td>\n      <td>356.20</td>\n    </tr>\n    <tr>\n      <th>1</th>\n      <td>CN014</td>\n      <td>2019-09-01</td>\n      <td>3</td>\n      <td>120.50</td>\n    </tr>\n    <tr>\n      <th>2</th>\n      <td>CN015</td>\n      <td>2019-09-01</td>\n      <td>1</td>\n      <td>53.23</td>\n    </tr>\n    <tr>\n      <th>3</th>\n      <td>CN016</td>\n      <td>2019-09-01</td>\n      <td>3</td>\n      <td>25.60</td>\n    </tr>\n    <tr>\n      <th>4</th>\n      <td>CN012</td>\n      <td>2019-09-02</td>\n      <td>5</td>\n      <td>785.00</td>\n    </tr>\n    <tr>\n      <th>5</th>\n      <td>CN015</td>\n      <td>2019-09-02</td>\n      <td>2</td>\n      <td>23.12</td>\n    </tr>\n    <tr>\n      <th>6</th>\n      <td>CN016</td>\n      <td>2019-09-02</td>\n      <td>3</td>\n      <td>28.30</td>\n    </tr>\n    <tr>\n      <th>7</th>\n      <td>CN012</td>\n      <td>2019-09-03</td>\n      <td>4</td>\n      <td>36.90</td>\n    </tr>\n    <tr>\n      <th>8</th>\n      <td>CN014</td>\n      <td>2019-09-03</td>\n      <td>2</td>\n      <td>23.60</td>\n    </tr>\n    <tr>\n      <th>9</th>\n      <td>CN016</td>\n      <td>2019-09-03</td>\n      <td>4</td>\n      <td>43.50</td>\n    </tr>\n  </tbody>\n</table>\n</div>"
     },
     "metadata": {},
     "execution_count": 6
    }
   ],
   "source": [
    "df_trans"
   ]
  },
  {
   "cell_type": "code",
   "execution_count": 7,
   "metadata": {},
   "outputs": [
    {
     "output_type": "execute_result",
     "data": {
      "text/plain": [
       "  Card Number       Date  Transactions  Amount\n",
       "0       CN012 2019-09-01             2  356.20\n",
       "4       CN012 2019-09-02             5  785.00\n",
       "7       CN012 2019-09-03             4   36.90\n",
       "1       CN014 2019-09-01             3  120.50\n",
       "8       CN014 2019-09-03             2   23.60\n",
       "2       CN015 2019-09-01             1   53.23\n",
       "5       CN015 2019-09-02             2   23.12\n",
       "3       CN016 2019-09-01             3   25.60\n",
       "6       CN016 2019-09-02             3   28.30\n",
       "9       CN016 2019-09-03             4   43.50"
      ],
      "text/html": "<div>\n<style scoped>\n    .dataframe tbody tr th:only-of-type {\n        vertical-align: middle;\n    }\n\n    .dataframe tbody tr th {\n        vertical-align: top;\n    }\n\n    .dataframe thead th {\n        text-align: right;\n    }\n</style>\n<table border=\"1\" class=\"dataframe\">\n  <thead>\n    <tr style=\"text-align: right;\">\n      <th></th>\n      <th>Card Number</th>\n      <th>Date</th>\n      <th>Transactions</th>\n      <th>Amount</th>\n    </tr>\n  </thead>\n  <tbody>\n    <tr>\n      <th>0</th>\n      <td>CN012</td>\n      <td>2019-09-01</td>\n      <td>2</td>\n      <td>356.20</td>\n    </tr>\n    <tr>\n      <th>4</th>\n      <td>CN012</td>\n      <td>2019-09-02</td>\n      <td>5</td>\n      <td>785.00</td>\n    </tr>\n    <tr>\n      <th>7</th>\n      <td>CN012</td>\n      <td>2019-09-03</td>\n      <td>4</td>\n      <td>36.90</td>\n    </tr>\n    <tr>\n      <th>1</th>\n      <td>CN014</td>\n      <td>2019-09-01</td>\n      <td>3</td>\n      <td>120.50</td>\n    </tr>\n    <tr>\n      <th>8</th>\n      <td>CN014</td>\n      <td>2019-09-03</td>\n      <td>2</td>\n      <td>23.60</td>\n    </tr>\n    <tr>\n      <th>2</th>\n      <td>CN015</td>\n      <td>2019-09-01</td>\n      <td>1</td>\n      <td>53.23</td>\n    </tr>\n    <tr>\n      <th>5</th>\n      <td>CN015</td>\n      <td>2019-09-02</td>\n      <td>2</td>\n      <td>23.12</td>\n    </tr>\n    <tr>\n      <th>3</th>\n      <td>CN016</td>\n      <td>2019-09-01</td>\n      <td>3</td>\n      <td>25.60</td>\n    </tr>\n    <tr>\n      <th>6</th>\n      <td>CN016</td>\n      <td>2019-09-02</td>\n      <td>3</td>\n      <td>28.30</td>\n    </tr>\n    <tr>\n      <th>9</th>\n      <td>CN016</td>\n      <td>2019-09-03</td>\n      <td>4</td>\n      <td>43.50</td>\n    </tr>\n  </tbody>\n</table>\n</div>"
     },
     "metadata": {},
     "execution_count": 7
    }
   ],
   "source": [
    "df_trans.sort_values('Card Number', inplace=True)\n",
    "df_trans"
   ]
  },
  {
   "cell_type": "code",
   "execution_count": 10,
   "metadata": {},
   "outputs": [
    {
     "output_type": "execute_result",
     "data": {
      "text/plain": [
       "  Card Number       Date  Transactions  Amount  New_trans\n",
       "0       CN012 2019-09-01             2  356.20        NaN\n",
       "4       CN012 2019-09-02             5  785.00        2.0\n",
       "7       CN012 2019-09-03             4   36.90        5.0\n",
       "1       CN014 2019-09-01             3  120.50        NaN\n",
       "8       CN014 2019-09-03             2   23.60        3.0\n",
       "2       CN015 2019-09-01             1   53.23        NaN\n",
       "5       CN015 2019-09-02             2   23.12        1.0\n",
       "3       CN016 2019-09-01             3   25.60        NaN\n",
       "6       CN016 2019-09-02             3   28.30        3.0\n",
       "9       CN016 2019-09-03             4   43.50        3.0"
      ],
      "text/html": "<div>\n<style scoped>\n    .dataframe tbody tr th:only-of-type {\n        vertical-align: middle;\n    }\n\n    .dataframe tbody tr th {\n        vertical-align: top;\n    }\n\n    .dataframe thead th {\n        text-align: right;\n    }\n</style>\n<table border=\"1\" class=\"dataframe\">\n  <thead>\n    <tr style=\"text-align: right;\">\n      <th></th>\n      <th>Card Number</th>\n      <th>Date</th>\n      <th>Transactions</th>\n      <th>Amount</th>\n      <th>New_trans</th>\n    </tr>\n  </thead>\n  <tbody>\n    <tr>\n      <th>0</th>\n      <td>CN012</td>\n      <td>2019-09-01</td>\n      <td>2</td>\n      <td>356.20</td>\n      <td>NaN</td>\n    </tr>\n    <tr>\n      <th>4</th>\n      <td>CN012</td>\n      <td>2019-09-02</td>\n      <td>5</td>\n      <td>785.00</td>\n      <td>2.0</td>\n    </tr>\n    <tr>\n      <th>7</th>\n      <td>CN012</td>\n      <td>2019-09-03</td>\n      <td>4</td>\n      <td>36.90</td>\n      <td>5.0</td>\n    </tr>\n    <tr>\n      <th>1</th>\n      <td>CN014</td>\n      <td>2019-09-01</td>\n      <td>3</td>\n      <td>120.50</td>\n      <td>NaN</td>\n    </tr>\n    <tr>\n      <th>8</th>\n      <td>CN014</td>\n      <td>2019-09-03</td>\n      <td>2</td>\n      <td>23.60</td>\n      <td>3.0</td>\n    </tr>\n    <tr>\n      <th>2</th>\n      <td>CN015</td>\n      <td>2019-09-01</td>\n      <td>1</td>\n      <td>53.23</td>\n      <td>NaN</td>\n    </tr>\n    <tr>\n      <th>5</th>\n      <td>CN015</td>\n      <td>2019-09-02</td>\n      <td>2</td>\n      <td>23.12</td>\n      <td>1.0</td>\n    </tr>\n    <tr>\n      <th>3</th>\n      <td>CN016</td>\n      <td>2019-09-01</td>\n      <td>3</td>\n      <td>25.60</td>\n      <td>NaN</td>\n    </tr>\n    <tr>\n      <th>6</th>\n      <td>CN016</td>\n      <td>2019-09-02</td>\n      <td>3</td>\n      <td>28.30</td>\n      <td>3.0</td>\n    </tr>\n    <tr>\n      <th>9</th>\n      <td>CN016</td>\n      <td>2019-09-03</td>\n      <td>4</td>\n      <td>43.50</td>\n      <td>3.0</td>\n    </tr>\n  </tbody>\n</table>\n</div>"
     },
     "metadata": {},
     "execution_count": 10
    }
   ],
   "source": [
    "df_trans['New_trans']=df_trans.groupby(['Card Number'])['Transactions'].shift()\n",
    "df_trans"
   ]
  },
  {
   "cell_type": "code",
   "execution_count": 11,
   "metadata": {},
   "outputs": [
    {
     "output_type": "execute_result",
     "data": {
      "text/plain": [
       "  First Name Last Name  Credit Score  Credit Approval Card Name     Income  \\\n",
       "0      Jacky     White           825             True  Infinite  155000.62   \n",
       "1       Jane      Nize           810             True    Golden  120800.88   \n",
       "2      Henry      Tone           780             True    Golden   98000.58   \n",
       "3    Desmond     Black           750             True    Silver   54000.00   \n",
       "4     Eileen      Musk           620            False  Dividend   35000.00   \n",
       "\n",
       "        Approval Date  Scores  \n",
       "0 2019-09-13 12:00:00     NaN  \n",
       "1 2019-08-16 05:25:00  1635.0  \n",
       "2 2020-05-06 12:00:00  1590.0  \n",
       "3 2020-05-01 01:00:00  1530.0  \n",
       "4                 NaT  1370.0  "
      ],
      "text/html": "<div>\n<style scoped>\n    .dataframe tbody tr th:only-of-type {\n        vertical-align: middle;\n    }\n\n    .dataframe tbody tr th {\n        vertical-align: top;\n    }\n\n    .dataframe thead th {\n        text-align: right;\n    }\n</style>\n<table border=\"1\" class=\"dataframe\">\n  <thead>\n    <tr style=\"text-align: right;\">\n      <th></th>\n      <th>First Name</th>\n      <th>Last Name</th>\n      <th>Credit Score</th>\n      <th>Credit Approval</th>\n      <th>Card Name</th>\n      <th>Income</th>\n      <th>Approval Date</th>\n      <th>Scores</th>\n    </tr>\n  </thead>\n  <tbody>\n    <tr>\n      <th>0</th>\n      <td>Jacky</td>\n      <td>White</td>\n      <td>825</td>\n      <td>True</td>\n      <td>Infinite</td>\n      <td>155000.62</td>\n      <td>2019-09-13 12:00:00</td>\n      <td>NaN</td>\n    </tr>\n    <tr>\n      <th>1</th>\n      <td>Jane</td>\n      <td>Nize</td>\n      <td>810</td>\n      <td>True</td>\n      <td>Golden</td>\n      <td>120800.88</td>\n      <td>2019-08-16 05:25:00</td>\n      <td>1635.0</td>\n    </tr>\n    <tr>\n      <th>2</th>\n      <td>Henry</td>\n      <td>Tone</td>\n      <td>780</td>\n      <td>True</td>\n      <td>Golden</td>\n      <td>98000.58</td>\n      <td>2020-05-06 12:00:00</td>\n      <td>1590.0</td>\n    </tr>\n    <tr>\n      <th>3</th>\n      <td>Desmond</td>\n      <td>Black</td>\n      <td>750</td>\n      <td>True</td>\n      <td>Silver</td>\n      <td>54000.00</td>\n      <td>2020-05-01 01:00:00</td>\n      <td>1530.0</td>\n    </tr>\n    <tr>\n      <th>4</th>\n      <td>Eileen</td>\n      <td>Musk</td>\n      <td>620</td>\n      <td>False</td>\n      <td>Dividend</td>\n      <td>35000.00</td>\n      <td>NaT</td>\n      <td>1370.0</td>\n    </tr>\n  </tbody>\n</table>\n</div>"
     },
     "metadata": {},
     "execution_count": 11
    }
   ],
   "source": [
    "df_credit['Scores'] = df_credit['Credit Score'].rolling(2).sum()\n",
    "df_credit"
   ]
  },
  {
   "cell_type": "code",
   "execution_count": 15,
   "metadata": {},
   "outputs": [
    {
     "output_type": "execute_result",
     "data": {
      "text/plain": [
       "   A  B  C\n",
       "0  1  2  5\n",
       "1  3  4  7"
      ],
      "text/html": "<div>\n<style scoped>\n    .dataframe tbody tr th:only-of-type {\n        vertical-align: middle;\n    }\n\n    .dataframe tbody tr th {\n        vertical-align: top;\n    }\n\n    .dataframe thead th {\n        text-align: right;\n    }\n</style>\n<table border=\"1\" class=\"dataframe\">\n  <thead>\n    <tr style=\"text-align: right;\">\n      <th></th>\n      <th>A</th>\n      <th>B</th>\n      <th>C</th>\n    </tr>\n  </thead>\n  <tbody>\n    <tr>\n      <th>0</th>\n      <td>1</td>\n      <td>2</td>\n      <td>5</td>\n    </tr>\n    <tr>\n      <th>1</th>\n      <td>3</td>\n      <td>4</td>\n      <td>7</td>\n    </tr>\n  </tbody>\n</table>\n</div>"
     },
     "metadata": {},
     "execution_count": 15
    }
   ],
   "source": [
    "def add_3(x):\n",
    " return x + 3\n",
    "df_raw = pd.DataFrame({'A': [1,3], 'B':[2,4]})\n",
    "df_raw.apply(add_3)\n",
    "df_raw['C'] = df_raw['B'].apply(add_3 )\n",
    "df_raw"
   ]
  },
  {
   "cell_type": "code",
   "execution_count": 16,
   "metadata": {},
   "outputs": [
    {
     "output_type": "execute_result",
     "data": {
      "text/plain": [
       "   A  B   C\n",
       "0  6  7  10\n",
       "1  8  9  12"
      ],
      "text/html": "<div>\n<style scoped>\n    .dataframe tbody tr th:only-of-type {\n        vertical-align: middle;\n    }\n\n    .dataframe tbody tr th {\n        vertical-align: top;\n    }\n\n    .dataframe thead th {\n        text-align: right;\n    }\n</style>\n<table border=\"1\" class=\"dataframe\">\n  <thead>\n    <tr style=\"text-align: right;\">\n      <th></th>\n      <th>A</th>\n      <th>B</th>\n      <th>C</th>\n    </tr>\n  </thead>\n  <tbody>\n    <tr>\n      <th>0</th>\n      <td>6</td>\n      <td>7</td>\n      <td>10</td>\n    </tr>\n    <tr>\n      <th>1</th>\n      <td>8</td>\n      <td>9</td>\n      <td>12</td>\n    </tr>\n  </tbody>\n</table>\n</div>"
     },
     "metadata": {},
     "execution_count": 16
    }
   ],
   "source": [
    "df_raw.apply(lambda x : x + 5)"
   ]
  },
  {
   "cell_type": "code",
   "execution_count": 18,
   "metadata": {},
   "outputs": [
    {
     "output_type": "execute_result",
     "data": {
      "text/plain": [
       "   A  B  C\n",
       "0  1  2  7\n",
       "1  3  4  9"
      ],
      "text/html": "<div>\n<style scoped>\n    .dataframe tbody tr th:only-of-type {\n        vertical-align: middle;\n    }\n\n    .dataframe tbody tr th {\n        vertical-align: top;\n    }\n\n    .dataframe thead th {\n        text-align: right;\n    }\n</style>\n<table border=\"1\" class=\"dataframe\">\n  <thead>\n    <tr style=\"text-align: right;\">\n      <th></th>\n      <th>A</th>\n      <th>B</th>\n      <th>C</th>\n    </tr>\n  </thead>\n  <tbody>\n    <tr>\n      <th>0</th>\n      <td>1</td>\n      <td>2</td>\n      <td>7</td>\n    </tr>\n    <tr>\n      <th>1</th>\n      <td>3</td>\n      <td>4</td>\n      <td>9</td>\n    </tr>\n  </tbody>\n</table>\n</div>"
     },
     "metadata": {},
     "execution_count": 18
    }
   ],
   "source": [
    "df_raw['C'] = df_raw['B'].apply(lambda x : x + 5)\n",
    "df_raw"
   ]
  }
 ]
}