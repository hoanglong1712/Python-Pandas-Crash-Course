{
 "metadata": {
  "language_info": {
   "codemirror_mode": {
    "name": "ipython",
    "version": 3
   },
   "file_extension": ".py",
   "mimetype": "text/x-python",
   "name": "python",
   "nbconvert_exporter": "python",
   "pygments_lexer": "ipython3",
   "version": "3.7.6-final"
  },
  "orig_nbformat": 2,
  "kernelspec": {
   "name": "Python 3.7.6 64-bit",
   "display_name": "Python 3.7.6 64-bit",
   "metadata": {
    "interpreter": {
     "hash": "0533883d4b10e2e0e9042770828e2446211fda1fae3645fb8f264c38f1952f0d"
    }
   }
  }
 },
 "nbformat": 4,
 "nbformat_minor": 2,
 "cells": [
  {
   "cell_type": "code",
   "execution_count": 2,
   "metadata": {},
   "outputs": [],
   "source": [
    "import pandas as pd\n",
    "df_credit = pd.read_csv('https://www.littledataman.com/samples/credit.csv', parse_dates = ['Approval Date'])\n",
    "df_cards = pd.read_csv('https://www.littledataman.com/samples/cards.csv', parse_dates = ['Effective Date'])\n",
    "df_transactions = pd.read_csv('https://www.littledataman.com/samples/transactions.csv', parse_dates = ['Date'])"
   ]
  },
  {
   "cell_type": "code",
   "execution_count": 3,
   "metadata": {},
   "outputs": [
    {
     "output_type": "execute_result",
     "data": {
      "text/plain": [
       "  Card Number       Date  Transactions  Amount\n",
       "0       CN012 2019-09-01             2  356.20\n",
       "1       CN014 2019-09-01             3  120.50\n",
       "2       CN015 2019-09-01             1   53.23\n",
       "3       CN016 2019-09-01             3   25.60\n",
       "4       CN012 2019-09-02             5  785.00\n",
       "5       CN015 2019-09-02             2   23.12\n",
       "6       CN016 2019-09-02             3   28.30\n",
       "7       CN012 2019-09-03             4   36.90\n",
       "8       CN014 2019-09-03             2   23.60\n",
       "9       CN016 2019-09-03             4   43.50"
      ],
      "text/html": "<div>\n<style scoped>\n    .dataframe tbody tr th:only-of-type {\n        vertical-align: middle;\n    }\n\n    .dataframe tbody tr th {\n        vertical-align: top;\n    }\n\n    .dataframe thead th {\n        text-align: right;\n    }\n</style>\n<table border=\"1\" class=\"dataframe\">\n  <thead>\n    <tr style=\"text-align: right;\">\n      <th></th>\n      <th>Card Number</th>\n      <th>Date</th>\n      <th>Transactions</th>\n      <th>Amount</th>\n    </tr>\n  </thead>\n  <tbody>\n    <tr>\n      <th>0</th>\n      <td>CN012</td>\n      <td>2019-09-01</td>\n      <td>2</td>\n      <td>356.20</td>\n    </tr>\n    <tr>\n      <th>1</th>\n      <td>CN014</td>\n      <td>2019-09-01</td>\n      <td>3</td>\n      <td>120.50</td>\n    </tr>\n    <tr>\n      <th>2</th>\n      <td>CN015</td>\n      <td>2019-09-01</td>\n      <td>1</td>\n      <td>53.23</td>\n    </tr>\n    <tr>\n      <th>3</th>\n      <td>CN016</td>\n      <td>2019-09-01</td>\n      <td>3</td>\n      <td>25.60</td>\n    </tr>\n    <tr>\n      <th>4</th>\n      <td>CN012</td>\n      <td>2019-09-02</td>\n      <td>5</td>\n      <td>785.00</td>\n    </tr>\n    <tr>\n      <th>5</th>\n      <td>CN015</td>\n      <td>2019-09-02</td>\n      <td>2</td>\n      <td>23.12</td>\n    </tr>\n    <tr>\n      <th>6</th>\n      <td>CN016</td>\n      <td>2019-09-02</td>\n      <td>3</td>\n      <td>28.30</td>\n    </tr>\n    <tr>\n      <th>7</th>\n      <td>CN012</td>\n      <td>2019-09-03</td>\n      <td>4</td>\n      <td>36.90</td>\n    </tr>\n    <tr>\n      <th>8</th>\n      <td>CN014</td>\n      <td>2019-09-03</td>\n      <td>2</td>\n      <td>23.60</td>\n    </tr>\n    <tr>\n      <th>9</th>\n      <td>CN016</td>\n      <td>2019-09-03</td>\n      <td>4</td>\n      <td>43.50</td>\n    </tr>\n  </tbody>\n</table>\n</div>"
     },
     "metadata": {},
     "execution_count": 3
    }
   ],
   "source": [
    "df_transactions"
   ]
  },
  {
   "cell_type": "code",
   "execution_count": 5,
   "metadata": {},
   "outputs": [
    {
     "output_type": "execute_result",
     "data": {
      "text/plain": [
       "            Transactions                           Amount             \\\n",
       "Date          2019-09-01 2019-09-02 2019-09-03 2019-09-01 2019-09-02   \n",
       "Card Number                                                            \n",
       "CN012                2.0        5.0        4.0     356.20     785.00   \n",
       "CN014                3.0        NaN        2.0     120.50        NaN   \n",
       "CN015                1.0        2.0        NaN      53.23      23.12   \n",
       "CN016                3.0        3.0        4.0      25.60      28.30   \n",
       "\n",
       "                        \n",
       "Date        2019-09-03  \n",
       "Card Number             \n",
       "CN012             36.9  \n",
       "CN014             23.6  \n",
       "CN015              NaN  \n",
       "CN016             43.5  "
      ],
      "text/html": "<div>\n<style scoped>\n    .dataframe tbody tr th:only-of-type {\n        vertical-align: middle;\n    }\n\n    .dataframe tbody tr th {\n        vertical-align: top;\n    }\n\n    .dataframe thead tr th {\n        text-align: left;\n    }\n\n    .dataframe thead tr:last-of-type th {\n        text-align: right;\n    }\n</style>\n<table border=\"1\" class=\"dataframe\">\n  <thead>\n    <tr>\n      <th></th>\n      <th colspan=\"3\" halign=\"left\">Transactions</th>\n      <th colspan=\"3\" halign=\"left\">Amount</th>\n    </tr>\n    <tr>\n      <th>Date</th>\n      <th>2019-09-01</th>\n      <th>2019-09-02</th>\n      <th>2019-09-03</th>\n      <th>2019-09-01</th>\n      <th>2019-09-02</th>\n      <th>2019-09-03</th>\n    </tr>\n    <tr>\n      <th>Card Number</th>\n      <th></th>\n      <th></th>\n      <th></th>\n      <th></th>\n      <th></th>\n      <th></th>\n    </tr>\n  </thead>\n  <tbody>\n    <tr>\n      <th>CN012</th>\n      <td>2.0</td>\n      <td>5.0</td>\n      <td>4.0</td>\n      <td>356.20</td>\n      <td>785.00</td>\n      <td>36.9</td>\n    </tr>\n    <tr>\n      <th>CN014</th>\n      <td>3.0</td>\n      <td>NaN</td>\n      <td>2.0</td>\n      <td>120.50</td>\n      <td>NaN</td>\n      <td>23.6</td>\n    </tr>\n    <tr>\n      <th>CN015</th>\n      <td>1.0</td>\n      <td>2.0</td>\n      <td>NaN</td>\n      <td>53.23</td>\n      <td>23.12</td>\n      <td>NaN</td>\n    </tr>\n    <tr>\n      <th>CN016</th>\n      <td>3.0</td>\n      <td>3.0</td>\n      <td>4.0</td>\n      <td>25.60</td>\n      <td>28.30</td>\n      <td>43.5</td>\n    </tr>\n  </tbody>\n</table>\n</div>"
     },
     "metadata": {},
     "execution_count": 5
    }
   ],
   "source": [
    "df_transactions.pivot(index='Card Number', columns='Date', values=['Transactions', 'Amount'])"
   ]
  },
  {
   "cell_type": "code",
   "execution_count": 7,
   "metadata": {},
   "outputs": [
    {
     "output_type": "execute_result",
     "data": {
      "text/plain": [
       "            Transactions                      \n",
       "Date          2019-09-01 2019-09-02 2019-09-03\n",
       "Card Number                                   \n",
       "CN012                2.0        5.0        4.0\n",
       "CN014                3.0        NaN        2.0\n",
       "CN015                1.0        2.0        NaN\n",
       "CN016                3.0        3.0        4.0"
      ],
      "text/html": "<div>\n<style scoped>\n    .dataframe tbody tr th:only-of-type {\n        vertical-align: middle;\n    }\n\n    .dataframe tbody tr th {\n        vertical-align: top;\n    }\n\n    .dataframe thead tr th {\n        text-align: left;\n    }\n\n    .dataframe thead tr:last-of-type th {\n        text-align: right;\n    }\n</style>\n<table border=\"1\" class=\"dataframe\">\n  <thead>\n    <tr>\n      <th></th>\n      <th colspan=\"3\" halign=\"left\">Transactions</th>\n    </tr>\n    <tr>\n      <th>Date</th>\n      <th>2019-09-01</th>\n      <th>2019-09-02</th>\n      <th>2019-09-03</th>\n    </tr>\n    <tr>\n      <th>Card Number</th>\n      <th></th>\n      <th></th>\n      <th></th>\n    </tr>\n  </thead>\n  <tbody>\n    <tr>\n      <th>CN012</th>\n      <td>2.0</td>\n      <td>5.0</td>\n      <td>4.0</td>\n    </tr>\n    <tr>\n      <th>CN014</th>\n      <td>3.0</td>\n      <td>NaN</td>\n      <td>2.0</td>\n    </tr>\n    <tr>\n      <th>CN015</th>\n      <td>1.0</td>\n      <td>2.0</td>\n      <td>NaN</td>\n    </tr>\n    <tr>\n      <th>CN016</th>\n      <td>3.0</td>\n      <td>3.0</td>\n      <td>4.0</td>\n    </tr>\n  </tbody>\n</table>\n</div>"
     },
     "metadata": {},
     "execution_count": 7
    }
   ],
   "source": [
    "df_transactions.pivot(index='Card Number', columns='Date', values=['Transactions'])"
   ]
  },
  {
   "cell_type": "code",
   "execution_count": 8,
   "metadata": {},
   "outputs": [
    {
     "output_type": "execute_result",
     "data": {
      "text/plain": [
       "  Card Number       Date      variable   value\n",
       "0       CN012 2019-09-01        Amount  356.20\n",
       "1       CN014 2019-09-01        Amount  120.50\n",
       "2       CN015 2019-09-01        Amount   53.23\n",
       "3       CN016 2019-09-01        Amount   25.60\n",
       "4       CN012 2019-09-01  Transactions    2.00\n",
       "5       CN014 2019-09-01  Transactions    3.00\n",
       "6       CN015 2019-09-01  Transactions    1.00\n",
       "7       CN016 2019-09-01  Transactions    3.00"
      ],
      "text/html": "<div>\n<style scoped>\n    .dataframe tbody tr th:only-of-type {\n        vertical-align: middle;\n    }\n\n    .dataframe tbody tr th {\n        vertical-align: top;\n    }\n\n    .dataframe thead th {\n        text-align: right;\n    }\n</style>\n<table border=\"1\" class=\"dataframe\">\n  <thead>\n    <tr style=\"text-align: right;\">\n      <th></th>\n      <th>Card Number</th>\n      <th>Date</th>\n      <th>variable</th>\n      <th>value</th>\n    </tr>\n  </thead>\n  <tbody>\n    <tr>\n      <th>0</th>\n      <td>CN012</td>\n      <td>2019-09-01</td>\n      <td>Amount</td>\n      <td>356.20</td>\n    </tr>\n    <tr>\n      <th>1</th>\n      <td>CN014</td>\n      <td>2019-09-01</td>\n      <td>Amount</td>\n      <td>120.50</td>\n    </tr>\n    <tr>\n      <th>2</th>\n      <td>CN015</td>\n      <td>2019-09-01</td>\n      <td>Amount</td>\n      <td>53.23</td>\n    </tr>\n    <tr>\n      <th>3</th>\n      <td>CN016</td>\n      <td>2019-09-01</td>\n      <td>Amount</td>\n      <td>25.60</td>\n    </tr>\n    <tr>\n      <th>4</th>\n      <td>CN012</td>\n      <td>2019-09-01</td>\n      <td>Transactions</td>\n      <td>2.00</td>\n    </tr>\n    <tr>\n      <th>5</th>\n      <td>CN014</td>\n      <td>2019-09-01</td>\n      <td>Transactions</td>\n      <td>3.00</td>\n    </tr>\n    <tr>\n      <th>6</th>\n      <td>CN015</td>\n      <td>2019-09-01</td>\n      <td>Transactions</td>\n      <td>1.00</td>\n    </tr>\n    <tr>\n      <th>7</th>\n      <td>CN016</td>\n      <td>2019-09-01</td>\n      <td>Transactions</td>\n      <td>3.00</td>\n    </tr>\n  </tbody>\n</table>\n</div>"
     },
     "metadata": {},
     "execution_count": 8
    }
   ],
   "source": [
    "df_transactions[:4].melt(id_vars = ['Card Number', 'Date'] , value_vars= ['Amount',\n",
    "'Transactions'] )"
   ]
  },
  {
   "cell_type": "code",
   "execution_count": null,
   "metadata": {},
   "outputs": [],
   "source": []
  }
 ]
}