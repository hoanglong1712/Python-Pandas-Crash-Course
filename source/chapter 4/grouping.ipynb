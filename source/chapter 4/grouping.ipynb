{
 "metadata": {
  "language_info": {
   "codemirror_mode": {
    "name": "ipython",
    "version": 3
   },
   "file_extension": ".py",
   "mimetype": "text/x-python",
   "name": "python",
   "nbconvert_exporter": "python",
   "pygments_lexer": "ipython3",
   "version": "3.7.6-final"
  },
  "orig_nbformat": 2,
  "kernelspec": {
   "name": "Python 3.7.6 64-bit",
   "display_name": "Python 3.7.6 64-bit",
   "metadata": {
    "interpreter": {
     "hash": "0533883d4b10e2e0e9042770828e2446211fda1fae3645fb8f264c38f1952f0d"
    }
   }
  }
 },
 "nbformat": 4,
 "nbformat_minor": 2,
 "cells": [
  {
   "cell_type": "code",
   "execution_count": 2,
   "metadata": {},
   "outputs": [],
   "source": [
    "import pandas as pd\n",
    "df_credit = pd.read_csv('https://www.littledataman.com/samples/credit.csv', parse_dates = ['Approval Date'])\n",
    "df_cards = pd.read_csv('https://www.littledataman.com/samples/cards.csv', parse_dates = ['Effective Date'])\n",
    "df_trans = pd.read_csv('https://www.littledataman.com/samples/transactions.csv', parse_dates = ['Date'])"
   ]
  },
  {
   "cell_type": "code",
   "execution_count": 7,
   "metadata": {},
   "outputs": [],
   "source": [
    "import numpy as np"
   ]
  },
  {
   "cell_type": "code",
   "execution_count": 4,
   "metadata": {},
   "outputs": [
    {
     "output_type": "execute_result",
     "data": {
      "text/plain": [
       "  Card Number       Date  Transactions  Amount\n",
       "0       CN012 2019-09-01             2  356.20\n",
       "1       CN014 2019-09-01             3  120.50\n",
       "2       CN015 2019-09-01             1   53.23\n",
       "3       CN016 2019-09-01             3   25.60\n",
       "4       CN012 2019-09-02             5  785.00\n",
       "5       CN015 2019-09-02             2   23.12\n",
       "6       CN016 2019-09-02             3   28.30\n",
       "7       CN012 2019-09-03             4   36.90\n",
       "8       CN014 2019-09-03             2   23.60\n",
       "9       CN016 2019-09-03             4   43.50"
      ],
      "text/html": "<div>\n<style scoped>\n    .dataframe tbody tr th:only-of-type {\n        vertical-align: middle;\n    }\n\n    .dataframe tbody tr th {\n        vertical-align: top;\n    }\n\n    .dataframe thead th {\n        text-align: right;\n    }\n</style>\n<table border=\"1\" class=\"dataframe\">\n  <thead>\n    <tr style=\"text-align: right;\">\n      <th></th>\n      <th>Card Number</th>\n      <th>Date</th>\n      <th>Transactions</th>\n      <th>Amount</th>\n    </tr>\n  </thead>\n  <tbody>\n    <tr>\n      <th>0</th>\n      <td>CN012</td>\n      <td>2019-09-01</td>\n      <td>2</td>\n      <td>356.20</td>\n    </tr>\n    <tr>\n      <th>1</th>\n      <td>CN014</td>\n      <td>2019-09-01</td>\n      <td>3</td>\n      <td>120.50</td>\n    </tr>\n    <tr>\n      <th>2</th>\n      <td>CN015</td>\n      <td>2019-09-01</td>\n      <td>1</td>\n      <td>53.23</td>\n    </tr>\n    <tr>\n      <th>3</th>\n      <td>CN016</td>\n      <td>2019-09-01</td>\n      <td>3</td>\n      <td>25.60</td>\n    </tr>\n    <tr>\n      <th>4</th>\n      <td>CN012</td>\n      <td>2019-09-02</td>\n      <td>5</td>\n      <td>785.00</td>\n    </tr>\n    <tr>\n      <th>5</th>\n      <td>CN015</td>\n      <td>2019-09-02</td>\n      <td>2</td>\n      <td>23.12</td>\n    </tr>\n    <tr>\n      <th>6</th>\n      <td>CN016</td>\n      <td>2019-09-02</td>\n      <td>3</td>\n      <td>28.30</td>\n    </tr>\n    <tr>\n      <th>7</th>\n      <td>CN012</td>\n      <td>2019-09-03</td>\n      <td>4</td>\n      <td>36.90</td>\n    </tr>\n    <tr>\n      <th>8</th>\n      <td>CN014</td>\n      <td>2019-09-03</td>\n      <td>2</td>\n      <td>23.60</td>\n    </tr>\n    <tr>\n      <th>9</th>\n      <td>CN016</td>\n      <td>2019-09-03</td>\n      <td>4</td>\n      <td>43.50</td>\n    </tr>\n  </tbody>\n</table>\n</div>"
     },
     "metadata": {},
     "execution_count": 4
    }
   ],
   "source": [
    "df_trans"
   ]
  },
  {
   "cell_type": "code",
   "execution_count": 5,
   "metadata": {},
   "outputs": [
    {
     "output_type": "execute_result",
     "data": {
      "text/plain": [
       "              Amount  Transactions\n",
       "Card Number                       \n",
       "CN012        1178.10            11\n",
       "CN014         144.10             5\n",
       "CN015          76.35             3\n",
       "CN016          97.40            10"
      ],
      "text/html": "<div>\n<style scoped>\n    .dataframe tbody tr th:only-of-type {\n        vertical-align: middle;\n    }\n\n    .dataframe tbody tr th {\n        vertical-align: top;\n    }\n\n    .dataframe thead th {\n        text-align: right;\n    }\n</style>\n<table border=\"1\" class=\"dataframe\">\n  <thead>\n    <tr style=\"text-align: right;\">\n      <th></th>\n      <th>Amount</th>\n      <th>Transactions</th>\n    </tr>\n    <tr>\n      <th>Card Number</th>\n      <th></th>\n      <th></th>\n    </tr>\n  </thead>\n  <tbody>\n    <tr>\n      <th>CN012</th>\n      <td>1178.10</td>\n      <td>11</td>\n    </tr>\n    <tr>\n      <th>CN014</th>\n      <td>144.10</td>\n      <td>5</td>\n    </tr>\n    <tr>\n      <th>CN015</th>\n      <td>76.35</td>\n      <td>3</td>\n    </tr>\n    <tr>\n      <th>CN016</th>\n      <td>97.40</td>\n      <td>10</td>\n    </tr>\n  </tbody>\n</table>\n</div>"
     },
     "metadata": {},
     "execution_count": 5
    }
   ],
   "source": [
    "df_trans.groupby('Card Number')['Amount', 'Transactions'].sum()"
   ]
  },
  {
   "cell_type": "code",
   "execution_count": 9,
   "metadata": {},
   "outputs": [
    {
     "output_type": "execute_result",
     "data": {
      "text/plain": [
       "              Amount                         Transactions                    \n",
       "                 sum        mean         std          sum      mean       std\n",
       "Card Number                                                                  \n",
       "CN012        1178.10  392.700000  375.383257           11  3.666667  1.527525\n",
       "CN014         144.10   72.050000   68.518647            5  2.500000  0.707107\n",
       "CN015          76.35   38.175000   21.290985            3  1.500000  0.707107\n",
       "CN016          97.40   32.466667    9.650043           10  3.333333  0.577350"
      ],
      "text/html": "<div>\n<style scoped>\n    .dataframe tbody tr th:only-of-type {\n        vertical-align: middle;\n    }\n\n    .dataframe tbody tr th {\n        vertical-align: top;\n    }\n\n    .dataframe thead tr th {\n        text-align: left;\n    }\n\n    .dataframe thead tr:last-of-type th {\n        text-align: right;\n    }\n</style>\n<table border=\"1\" class=\"dataframe\">\n  <thead>\n    <tr>\n      <th></th>\n      <th colspan=\"3\" halign=\"left\">Amount</th>\n      <th colspan=\"3\" halign=\"left\">Transactions</th>\n    </tr>\n    <tr>\n      <th></th>\n      <th>sum</th>\n      <th>mean</th>\n      <th>std</th>\n      <th>sum</th>\n      <th>mean</th>\n      <th>std</th>\n    </tr>\n    <tr>\n      <th>Card Number</th>\n      <th></th>\n      <th></th>\n      <th></th>\n      <th></th>\n      <th></th>\n      <th></th>\n    </tr>\n  </thead>\n  <tbody>\n    <tr>\n      <th>CN012</th>\n      <td>1178.10</td>\n      <td>392.700000</td>\n      <td>375.383257</td>\n      <td>11</td>\n      <td>3.666667</td>\n      <td>1.527525</td>\n    </tr>\n    <tr>\n      <th>CN014</th>\n      <td>144.10</td>\n      <td>72.050000</td>\n      <td>68.518647</td>\n      <td>5</td>\n      <td>2.500000</td>\n      <td>0.707107</td>\n    </tr>\n    <tr>\n      <th>CN015</th>\n      <td>76.35</td>\n      <td>38.175000</td>\n      <td>21.290985</td>\n      <td>3</td>\n      <td>1.500000</td>\n      <td>0.707107</td>\n    </tr>\n    <tr>\n      <th>CN016</th>\n      <td>97.40</td>\n      <td>32.466667</td>\n      <td>9.650043</td>\n      <td>10</td>\n      <td>3.333333</td>\n      <td>0.577350</td>\n    </tr>\n  </tbody>\n</table>\n</div>"
     },
     "metadata": {},
     "execution_count": 9
    }
   ],
   "source": [
    "df_trans.groupby('Card Number')['Amount', 'Transactions'].agg([np.sum, np.mean, np.std])"
   ]
  },
  {
   "cell_type": "code",
   "execution_count": 10,
   "metadata": {},
   "outputs": [
    {
     "output_type": "execute_result",
     "data": {
      "text/plain": [
       "            Transactions          Amount\n",
       "                     min max        mean\n",
       "Card Number                             \n",
       "CN012                  2   5  392.700000\n",
       "CN014                  2   3   72.050000\n",
       "CN015                  1   2   38.175000\n",
       "CN016                  3   4   32.466667"
      ],
      "text/html": "<div>\n<style scoped>\n    .dataframe tbody tr th:only-of-type {\n        vertical-align: middle;\n    }\n\n    .dataframe tbody tr th {\n        vertical-align: top;\n    }\n\n    .dataframe thead tr th {\n        text-align: left;\n    }\n\n    .dataframe thead tr:last-of-type th {\n        text-align: right;\n    }\n</style>\n<table border=\"1\" class=\"dataframe\">\n  <thead>\n    <tr>\n      <th></th>\n      <th colspan=\"2\" halign=\"left\">Transactions</th>\n      <th>Amount</th>\n    </tr>\n    <tr>\n      <th></th>\n      <th>min</th>\n      <th>max</th>\n      <th>mean</th>\n    </tr>\n    <tr>\n      <th>Card Number</th>\n      <th></th>\n      <th></th>\n      <th></th>\n    </tr>\n  </thead>\n  <tbody>\n    <tr>\n      <th>CN012</th>\n      <td>2</td>\n      <td>5</td>\n      <td>392.700000</td>\n    </tr>\n    <tr>\n      <th>CN014</th>\n      <td>2</td>\n      <td>3</td>\n      <td>72.050000</td>\n    </tr>\n    <tr>\n      <th>CN015</th>\n      <td>1</td>\n      <td>2</td>\n      <td>38.175000</td>\n    </tr>\n    <tr>\n      <th>CN016</th>\n      <td>3</td>\n      <td>4</td>\n      <td>32.466667</td>\n    </tr>\n  </tbody>\n</table>\n</div>"
     },
     "metadata": {},
     "execution_count": 10
    }
   ],
   "source": [
    "df_trans.groupby('Card Number').agg({'Transactions':['min', 'max'], 'Amount':\n",
    "'mean'})"
   ]
  },
  {
   "cell_type": "code",
   "execution_count": 11,
   "metadata": {},
   "outputs": [
    {
     "output_type": "execute_result",
     "data": {
      "text/plain": [
       "             Transactions       Amount\n",
       "Card Number                           \n",
       "CN012            6.660616  1128.451185\n",
       "CN014            3.885929   206.346548\n",
       "CN015            2.885929    79.905331\n",
       "CN016            4.464940    51.380751"
      ],
      "text/html": "<div>\n<style scoped>\n    .dataframe tbody tr th:only-of-type {\n        vertical-align: middle;\n    }\n\n    .dataframe tbody tr th {\n        vertical-align: top;\n    }\n\n    .dataframe thead th {\n        text-align: right;\n    }\n</style>\n<table border=\"1\" class=\"dataframe\">\n  <thead>\n    <tr style=\"text-align: right;\">\n      <th></th>\n      <th>Transactions</th>\n      <th>Amount</th>\n    </tr>\n    <tr>\n      <th>Card Number</th>\n      <th></th>\n      <th></th>\n    </tr>\n  </thead>\n  <tbody>\n    <tr>\n      <th>CN012</th>\n      <td>6.660616</td>\n      <td>1128.451185</td>\n    </tr>\n    <tr>\n      <th>CN014</th>\n      <td>3.885929</td>\n      <td>206.346548</td>\n    </tr>\n    <tr>\n      <th>CN015</th>\n      <td>2.885929</td>\n      <td>79.905331</td>\n    </tr>\n    <tr>\n      <th>CN016</th>\n      <td>4.464940</td>\n      <td>51.380751</td>\n    </tr>\n  </tbody>\n</table>\n</div>"
     },
     "metadata": {},
     "execution_count": 11
    }
   ],
   "source": [
    "def mean_plus_std(x):\n",
    "    return x.mean() + 1.96 * x.std()\n",
    "df_trans.groupby('Card Number')['Transactions','Amount'].apply(mean_plus_std)"
   ]
  }
 ]
}