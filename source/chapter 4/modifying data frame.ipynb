{
 "metadata": {
  "language_info": {
   "codemirror_mode": {
    "name": "ipython",
    "version": 3
   },
   "file_extension": ".py",
   "mimetype": "text/x-python",
   "name": "python",
   "nbconvert_exporter": "python",
   "pygments_lexer": "ipython3",
   "version": "3.7.6-final"
  },
  "orig_nbformat": 2,
  "kernelspec": {
   "name": "Python 3.7.6 64-bit",
   "display_name": "Python 3.7.6 64-bit",
   "metadata": {
    "interpreter": {
     "hash": "0533883d4b10e2e0e9042770828e2446211fda1fae3645fb8f264c38f1952f0d"
    }
   }
  }
 },
 "nbformat": 4,
 "nbformat_minor": 2,
 "cells": [
  {
   "cell_type": "code",
   "execution_count": 1,
   "metadata": {},
   "outputs": [],
   "source": [
    "import pandas as pd"
   ]
  },
  {
   "cell_type": "code",
   "execution_count": 2,
   "metadata": {},
   "outputs": [],
   "source": [
    "df_credit = pd.read_csv('https://www.littledataman.com/samples/credit.csv', parse_dates = ['Approval Date'])\n",
    "df_cards = pd.read_csv('https://www.littledataman.com/samples/cards.csv', parse_dates = ['Effective Date'])\n",
    "df_transactions = pd.read_csv('https://www.littledataman.com/samples/transactions.csv', parse_dates = ['Date'])\n"
   ]
  },
  {
   "cell_type": "code",
   "execution_count": 3,
   "metadata": {},
   "outputs": [
    {
     "output_type": "execute_result",
     "data": {
      "text/plain": [
       "  First Name Last Name  Credit Score  Credit Approval Card Name     Income  \\\n",
       "0      Jacky     White           825             True  Infinite  155000.62   \n",
       "1       Jane      Nize           810             True    Golden  120800.88   \n",
       "2      Henry      Tone           780             True    Golden   98000.58   \n",
       "3    Desmond     Black           750             True    Silver   54000.00   \n",
       "4     Eileen      Musk           620            False  Dividend   35000.00   \n",
       "\n",
       "        Approval Date  \n",
       "0 2019-09-13 12:00:00  \n",
       "1 2019-08-16 05:25:00  \n",
       "2 2020-05-06 12:00:00  \n",
       "3 2020-05-01 01:00:00  \n",
       "4                 NaT  "
      ],
      "text/html": "<div>\n<style scoped>\n    .dataframe tbody tr th:only-of-type {\n        vertical-align: middle;\n    }\n\n    .dataframe tbody tr th {\n        vertical-align: top;\n    }\n\n    .dataframe thead th {\n        text-align: right;\n    }\n</style>\n<table border=\"1\" class=\"dataframe\">\n  <thead>\n    <tr style=\"text-align: right;\">\n      <th></th>\n      <th>First Name</th>\n      <th>Last Name</th>\n      <th>Credit Score</th>\n      <th>Credit Approval</th>\n      <th>Card Name</th>\n      <th>Income</th>\n      <th>Approval Date</th>\n    </tr>\n  </thead>\n  <tbody>\n    <tr>\n      <th>0</th>\n      <td>Jacky</td>\n      <td>White</td>\n      <td>825</td>\n      <td>True</td>\n      <td>Infinite</td>\n      <td>155000.62</td>\n      <td>2019-09-13 12:00:00</td>\n    </tr>\n    <tr>\n      <th>1</th>\n      <td>Jane</td>\n      <td>Nize</td>\n      <td>810</td>\n      <td>True</td>\n      <td>Golden</td>\n      <td>120800.88</td>\n      <td>2019-08-16 05:25:00</td>\n    </tr>\n    <tr>\n      <th>2</th>\n      <td>Henry</td>\n      <td>Tone</td>\n      <td>780</td>\n      <td>True</td>\n      <td>Golden</td>\n      <td>98000.58</td>\n      <td>2020-05-06 12:00:00</td>\n    </tr>\n    <tr>\n      <th>3</th>\n      <td>Desmond</td>\n      <td>Black</td>\n      <td>750</td>\n      <td>True</td>\n      <td>Silver</td>\n      <td>54000.00</td>\n      <td>2020-05-01 01:00:00</td>\n    </tr>\n    <tr>\n      <th>4</th>\n      <td>Eileen</td>\n      <td>Musk</td>\n      <td>620</td>\n      <td>False</td>\n      <td>Dividend</td>\n      <td>35000.00</td>\n      <td>NaT</td>\n    </tr>\n  </tbody>\n</table>\n</div>"
     },
     "metadata": {},
     "execution_count": 3
    }
   ],
   "source": [
    "df_credit"
   ]
  },
  {
   "cell_type": "code",
   "execution_count": 4,
   "metadata": {},
   "outputs": [],
   "source": [
    "df_credit['Audited'] = True"
   ]
  },
  {
   "cell_type": "code",
   "execution_count": 5,
   "metadata": {},
   "outputs": [
    {
     "output_type": "execute_result",
     "data": {
      "text/plain": [
       "  First Name Last Name  Credit Score  Credit Approval Card Name     Income  \\\n",
       "0      Jacky     White           825             True  Infinite  155000.62   \n",
       "1       Jane      Nize           810             True    Golden  120800.88   \n",
       "2      Henry      Tone           780             True    Golden   98000.58   \n",
       "3    Desmond     Black           750             True    Silver   54000.00   \n",
       "4     Eileen      Musk           620            False  Dividend   35000.00   \n",
       "\n",
       "        Approval Date  Audited  \n",
       "0 2019-09-13 12:00:00     True  \n",
       "1 2019-08-16 05:25:00     True  \n",
       "2 2020-05-06 12:00:00     True  \n",
       "3 2020-05-01 01:00:00     True  \n",
       "4                 NaT     True  "
      ],
      "text/html": "<div>\n<style scoped>\n    .dataframe tbody tr th:only-of-type {\n        vertical-align: middle;\n    }\n\n    .dataframe tbody tr th {\n        vertical-align: top;\n    }\n\n    .dataframe thead th {\n        text-align: right;\n    }\n</style>\n<table border=\"1\" class=\"dataframe\">\n  <thead>\n    <tr style=\"text-align: right;\">\n      <th></th>\n      <th>First Name</th>\n      <th>Last Name</th>\n      <th>Credit Score</th>\n      <th>Credit Approval</th>\n      <th>Card Name</th>\n      <th>Income</th>\n      <th>Approval Date</th>\n      <th>Audited</th>\n    </tr>\n  </thead>\n  <tbody>\n    <tr>\n      <th>0</th>\n      <td>Jacky</td>\n      <td>White</td>\n      <td>825</td>\n      <td>True</td>\n      <td>Infinite</td>\n      <td>155000.62</td>\n      <td>2019-09-13 12:00:00</td>\n      <td>True</td>\n    </tr>\n    <tr>\n      <th>1</th>\n      <td>Jane</td>\n      <td>Nize</td>\n      <td>810</td>\n      <td>True</td>\n      <td>Golden</td>\n      <td>120800.88</td>\n      <td>2019-08-16 05:25:00</td>\n      <td>True</td>\n    </tr>\n    <tr>\n      <th>2</th>\n      <td>Henry</td>\n      <td>Tone</td>\n      <td>780</td>\n      <td>True</td>\n      <td>Golden</td>\n      <td>98000.58</td>\n      <td>2020-05-06 12:00:00</td>\n      <td>True</td>\n    </tr>\n    <tr>\n      <th>3</th>\n      <td>Desmond</td>\n      <td>Black</td>\n      <td>750</td>\n      <td>True</td>\n      <td>Silver</td>\n      <td>54000.00</td>\n      <td>2020-05-01 01:00:00</td>\n      <td>True</td>\n    </tr>\n    <tr>\n      <th>4</th>\n      <td>Eileen</td>\n      <td>Musk</td>\n      <td>620</td>\n      <td>False</td>\n      <td>Dividend</td>\n      <td>35000.00</td>\n      <td>NaT</td>\n      <td>True</td>\n    </tr>\n  </tbody>\n</table>\n</div>"
     },
     "metadata": {},
     "execution_count": 5
    }
   ],
   "source": [
    "df_credit"
   ]
  },
  {
   "cell_type": "code",
   "execution_count": 6,
   "metadata": {},
   "outputs": [
    {
     "output_type": "execute_result",
     "data": {
      "text/plain": [
       "  First Name Last Name  Credit Score  Credit Approval Card Name     Income  \\\n",
       "0      Jacky     White           825             True  Infinite  155000.62   \n",
       "1       Jane      Nize           810             True    Golden  120800.88   \n",
       "2      Henry      Tone           780             True    Golden   98000.58   \n",
       "3    Desmond     Black           750             True    Silver   54000.00   \n",
       "4     Eileen      Musk           620            False  Dividend   35000.00   \n",
       "\n",
       "        Approval Date  Audited      Full Name  \n",
       "0 2019-09-13 12:00:00     True    Jacky White  \n",
       "1 2019-08-16 05:25:00     True      Jane Nize  \n",
       "2 2020-05-06 12:00:00     True     Henry Tone  \n",
       "3 2020-05-01 01:00:00     True  Desmond Black  \n",
       "4                 NaT     True    Eileen Musk  "
      ],
      "text/html": "<div>\n<style scoped>\n    .dataframe tbody tr th:only-of-type {\n        vertical-align: middle;\n    }\n\n    .dataframe tbody tr th {\n        vertical-align: top;\n    }\n\n    .dataframe thead th {\n        text-align: right;\n    }\n</style>\n<table border=\"1\" class=\"dataframe\">\n  <thead>\n    <tr style=\"text-align: right;\">\n      <th></th>\n      <th>First Name</th>\n      <th>Last Name</th>\n      <th>Credit Score</th>\n      <th>Credit Approval</th>\n      <th>Card Name</th>\n      <th>Income</th>\n      <th>Approval Date</th>\n      <th>Audited</th>\n      <th>Full Name</th>\n    </tr>\n  </thead>\n  <tbody>\n    <tr>\n      <th>0</th>\n      <td>Jacky</td>\n      <td>White</td>\n      <td>825</td>\n      <td>True</td>\n      <td>Infinite</td>\n      <td>155000.62</td>\n      <td>2019-09-13 12:00:00</td>\n      <td>True</td>\n      <td>Jacky White</td>\n    </tr>\n    <tr>\n      <th>1</th>\n      <td>Jane</td>\n      <td>Nize</td>\n      <td>810</td>\n      <td>True</td>\n      <td>Golden</td>\n      <td>120800.88</td>\n      <td>2019-08-16 05:25:00</td>\n      <td>True</td>\n      <td>Jane Nize</td>\n    </tr>\n    <tr>\n      <th>2</th>\n      <td>Henry</td>\n      <td>Tone</td>\n      <td>780</td>\n      <td>True</td>\n      <td>Golden</td>\n      <td>98000.58</td>\n      <td>2020-05-06 12:00:00</td>\n      <td>True</td>\n      <td>Henry Tone</td>\n    </tr>\n    <tr>\n      <th>3</th>\n      <td>Desmond</td>\n      <td>Black</td>\n      <td>750</td>\n      <td>True</td>\n      <td>Silver</td>\n      <td>54000.00</td>\n      <td>2020-05-01 01:00:00</td>\n      <td>True</td>\n      <td>Desmond Black</td>\n    </tr>\n    <tr>\n      <th>4</th>\n      <td>Eileen</td>\n      <td>Musk</td>\n      <td>620</td>\n      <td>False</td>\n      <td>Dividend</td>\n      <td>35000.00</td>\n      <td>NaT</td>\n      <td>True</td>\n      <td>Eileen Musk</td>\n    </tr>\n  </tbody>\n</table>\n</div>"
     },
     "metadata": {},
     "execution_count": 6
    }
   ],
   "source": [
    "df_credit['Full Name'] = df_credit['First Name'] + ' ' + df_credit['Last Name']\n",
    "df_credit"
   ]
  },
  {
   "cell_type": "code",
   "execution_count": 8,
   "metadata": {},
   "outputs": [
    {
     "output_type": "execute_result",
     "data": {
      "text/plain": [
       "  First Name Last Name  Credit Score  Credit Approval Card Name     Income  \\\n",
       "0      Jacky     White           825             True  Infinite  155000.62   \n",
       "1       Jane      Nize           810             True    Golden  120800.88   \n",
       "2      Henry      Tone           780             True    Golden   98000.58   \n",
       "3    Desmond     Black           750             True    Silver   54000.00   \n",
       "4     Eileen      Musk           620            False  Dividend   35000.00   \n",
       "\n",
       "        Approval Date  Audited      Full Name       Full_Name  \n",
       "0 2019-09-13 12:00:00     True    Jacky White    White, Jacky  \n",
       "1 2019-08-16 05:25:00     True      Jane Nize      Nize, Jane  \n",
       "2 2020-05-06 12:00:00     True     Henry Tone     Tone, Henry  \n",
       "3 2020-05-01 01:00:00     True  Desmond Black  Black, Desmond  \n",
       "4                 NaT     True    Eileen Musk    Musk, Eileen  "
      ],
      "text/html": "<div>\n<style scoped>\n    .dataframe tbody tr th:only-of-type {\n        vertical-align: middle;\n    }\n\n    .dataframe tbody tr th {\n        vertical-align: top;\n    }\n\n    .dataframe thead th {\n        text-align: right;\n    }\n</style>\n<table border=\"1\" class=\"dataframe\">\n  <thead>\n    <tr style=\"text-align: right;\">\n      <th></th>\n      <th>First Name</th>\n      <th>Last Name</th>\n      <th>Credit Score</th>\n      <th>Credit Approval</th>\n      <th>Card Name</th>\n      <th>Income</th>\n      <th>Approval Date</th>\n      <th>Audited</th>\n      <th>Full Name</th>\n      <th>Full_Name</th>\n    </tr>\n  </thead>\n  <tbody>\n    <tr>\n      <th>0</th>\n      <td>Jacky</td>\n      <td>White</td>\n      <td>825</td>\n      <td>True</td>\n      <td>Infinite</td>\n      <td>155000.62</td>\n      <td>2019-09-13 12:00:00</td>\n      <td>True</td>\n      <td>Jacky White</td>\n      <td>White, Jacky</td>\n    </tr>\n    <tr>\n      <th>1</th>\n      <td>Jane</td>\n      <td>Nize</td>\n      <td>810</td>\n      <td>True</td>\n      <td>Golden</td>\n      <td>120800.88</td>\n      <td>2019-08-16 05:25:00</td>\n      <td>True</td>\n      <td>Jane Nize</td>\n      <td>Nize, Jane</td>\n    </tr>\n    <tr>\n      <th>2</th>\n      <td>Henry</td>\n      <td>Tone</td>\n      <td>780</td>\n      <td>True</td>\n      <td>Golden</td>\n      <td>98000.58</td>\n      <td>2020-05-06 12:00:00</td>\n      <td>True</td>\n      <td>Henry Tone</td>\n      <td>Tone, Henry</td>\n    </tr>\n    <tr>\n      <th>3</th>\n      <td>Desmond</td>\n      <td>Black</td>\n      <td>750</td>\n      <td>True</td>\n      <td>Silver</td>\n      <td>54000.00</td>\n      <td>2020-05-01 01:00:00</td>\n      <td>True</td>\n      <td>Desmond Black</td>\n      <td>Black, Desmond</td>\n    </tr>\n    <tr>\n      <th>4</th>\n      <td>Eileen</td>\n      <td>Musk</td>\n      <td>620</td>\n      <td>False</td>\n      <td>Dividend</td>\n      <td>35000.00</td>\n      <td>NaT</td>\n      <td>True</td>\n      <td>Eileen Musk</td>\n      <td>Musk, Eileen</td>\n    </tr>\n  </tbody>\n</table>\n</div>"
     },
     "metadata": {},
     "execution_count": 8
    }
   ],
   "source": [
    "df = df_credit.assign(Full_Name = df_credit['Last Name'] + ', ' + df_credit['First Name'] )\n",
    "df"
   ]
  },
  {
   "cell_type": "code",
   "execution_count": 9,
   "metadata": {},
   "outputs": [
    {
     "output_type": "execute_result",
     "data": {
      "text/plain": [
       "      Fist Last Name  Credit Score  Credit Approval Card Name     Income  \\\n",
       "0    Jacky     White           825             True  Infinite  155000.62   \n",
       "1     Jane      Nize           810             True    Golden  120800.88   \n",
       "2    Henry      Tone           780             True    Golden   98000.58   \n",
       "3  Desmond     Black           750             True    Silver   54000.00   \n",
       "4   Eileen      Musk           620            False  Dividend   35000.00   \n",
       "\n",
       "        Approval Date  Audited      Full Name       Full_Name  \n",
       "0 2019-09-13 12:00:00     True    Jacky White    White, Jacky  \n",
       "1 2019-08-16 05:25:00     True      Jane Nize      Nize, Jane  \n",
       "2 2020-05-06 12:00:00     True     Henry Tone     Tone, Henry  \n",
       "3 2020-05-01 01:00:00     True  Desmond Black  Black, Desmond  \n",
       "4                 NaT     True    Eileen Musk    Musk, Eileen  "
      ],
      "text/html": "<div>\n<style scoped>\n    .dataframe tbody tr th:only-of-type {\n        vertical-align: middle;\n    }\n\n    .dataframe tbody tr th {\n        vertical-align: top;\n    }\n\n    .dataframe thead th {\n        text-align: right;\n    }\n</style>\n<table border=\"1\" class=\"dataframe\">\n  <thead>\n    <tr style=\"text-align: right;\">\n      <th></th>\n      <th>Fist</th>\n      <th>Last Name</th>\n      <th>Credit Score</th>\n      <th>Credit Approval</th>\n      <th>Card Name</th>\n      <th>Income</th>\n      <th>Approval Date</th>\n      <th>Audited</th>\n      <th>Full Name</th>\n      <th>Full_Name</th>\n    </tr>\n  </thead>\n  <tbody>\n    <tr>\n      <th>0</th>\n      <td>Jacky</td>\n      <td>White</td>\n      <td>825</td>\n      <td>True</td>\n      <td>Infinite</td>\n      <td>155000.62</td>\n      <td>2019-09-13 12:00:00</td>\n      <td>True</td>\n      <td>Jacky White</td>\n      <td>White, Jacky</td>\n    </tr>\n    <tr>\n      <th>1</th>\n      <td>Jane</td>\n      <td>Nize</td>\n      <td>810</td>\n      <td>True</td>\n      <td>Golden</td>\n      <td>120800.88</td>\n      <td>2019-08-16 05:25:00</td>\n      <td>True</td>\n      <td>Jane Nize</td>\n      <td>Nize, Jane</td>\n    </tr>\n    <tr>\n      <th>2</th>\n      <td>Henry</td>\n      <td>Tone</td>\n      <td>780</td>\n      <td>True</td>\n      <td>Golden</td>\n      <td>98000.58</td>\n      <td>2020-05-06 12:00:00</td>\n      <td>True</td>\n      <td>Henry Tone</td>\n      <td>Tone, Henry</td>\n    </tr>\n    <tr>\n      <th>3</th>\n      <td>Desmond</td>\n      <td>Black</td>\n      <td>750</td>\n      <td>True</td>\n      <td>Silver</td>\n      <td>54000.00</td>\n      <td>2020-05-01 01:00:00</td>\n      <td>True</td>\n      <td>Desmond Black</td>\n      <td>Black, Desmond</td>\n    </tr>\n    <tr>\n      <th>4</th>\n      <td>Eileen</td>\n      <td>Musk</td>\n      <td>620</td>\n      <td>False</td>\n      <td>Dividend</td>\n      <td>35000.00</td>\n      <td>NaT</td>\n      <td>True</td>\n      <td>Eileen Musk</td>\n      <td>Musk, Eileen</td>\n    </tr>\n  </tbody>\n</table>\n</div>"
     },
     "metadata": {},
     "execution_count": 9
    }
   ],
   "source": [
    "df.rename(columns={'First Name':'Fist'}, inplace=True)\n",
    "df"
   ]
  },
  {
   "cell_type": "code",
   "execution_count": 10,
   "metadata": {},
   "outputs": [
    {
     "output_type": "execute_result",
     "data": {
      "text/plain": [
       "  First Name Last Name  Credit Score  Credit Approval Card Name     Income  \\\n",
       "0      Jacky     White           825              1.0  Infinite  155000.62   \n",
       "1       Jane      Nize           810              1.0    Golden  120800.88   \n",
       "2      Henry      Tone           780              1.0    Golden   98000.58   \n",
       "3    Desmond     Black           750              1.0    Silver   54000.00   \n",
       "4     Eileen      Musk           620              0.0  Dividend   35000.00   \n",
       "5       John     Abuli           785              NaN       NaN        NaN   \n",
       "\n",
       "        Approval Date  Audited      Full Name  \n",
       "0 2019-09-13 12:00:00      1.0    Jacky White  \n",
       "1 2019-08-16 05:25:00      1.0      Jane Nize  \n",
       "2 2020-05-06 12:00:00      1.0     Henry Tone  \n",
       "3 2020-05-01 01:00:00      1.0  Desmond Black  \n",
       "4                 NaT      1.0    Eileen Musk  \n",
       "5                 NaT      NaN            NaN  "
      ],
      "text/html": "<div>\n<style scoped>\n    .dataframe tbody tr th:only-of-type {\n        vertical-align: middle;\n    }\n\n    .dataframe tbody tr th {\n        vertical-align: top;\n    }\n\n    .dataframe thead th {\n        text-align: right;\n    }\n</style>\n<table border=\"1\" class=\"dataframe\">\n  <thead>\n    <tr style=\"text-align: right;\">\n      <th></th>\n      <th>First Name</th>\n      <th>Last Name</th>\n      <th>Credit Score</th>\n      <th>Credit Approval</th>\n      <th>Card Name</th>\n      <th>Income</th>\n      <th>Approval Date</th>\n      <th>Audited</th>\n      <th>Full Name</th>\n    </tr>\n  </thead>\n  <tbody>\n    <tr>\n      <th>0</th>\n      <td>Jacky</td>\n      <td>White</td>\n      <td>825</td>\n      <td>1.0</td>\n      <td>Infinite</td>\n      <td>155000.62</td>\n      <td>2019-09-13 12:00:00</td>\n      <td>1.0</td>\n      <td>Jacky White</td>\n    </tr>\n    <tr>\n      <th>1</th>\n      <td>Jane</td>\n      <td>Nize</td>\n      <td>810</td>\n      <td>1.0</td>\n      <td>Golden</td>\n      <td>120800.88</td>\n      <td>2019-08-16 05:25:00</td>\n      <td>1.0</td>\n      <td>Jane Nize</td>\n    </tr>\n    <tr>\n      <th>2</th>\n      <td>Henry</td>\n      <td>Tone</td>\n      <td>780</td>\n      <td>1.0</td>\n      <td>Golden</td>\n      <td>98000.58</td>\n      <td>2020-05-06 12:00:00</td>\n      <td>1.0</td>\n      <td>Henry Tone</td>\n    </tr>\n    <tr>\n      <th>3</th>\n      <td>Desmond</td>\n      <td>Black</td>\n      <td>750</td>\n      <td>1.0</td>\n      <td>Silver</td>\n      <td>54000.00</td>\n      <td>2020-05-01 01:00:00</td>\n      <td>1.0</td>\n      <td>Desmond Black</td>\n    </tr>\n    <tr>\n      <th>4</th>\n      <td>Eileen</td>\n      <td>Musk</td>\n      <td>620</td>\n      <td>0.0</td>\n      <td>Dividend</td>\n      <td>35000.00</td>\n      <td>NaT</td>\n      <td>1.0</td>\n      <td>Eileen Musk</td>\n    </tr>\n    <tr>\n      <th>5</th>\n      <td>John</td>\n      <td>Abuli</td>\n      <td>785</td>\n      <td>NaN</td>\n      <td>NaN</td>\n      <td>NaN</td>\n      <td>NaT</td>\n      <td>NaN</td>\n      <td>NaN</td>\n    </tr>\n  </tbody>\n</table>\n</div>"
     },
     "metadata": {},
     "execution_count": 10
    }
   ],
   "source": [
    "df_credit = df_credit.append({'First Name': 'John', 'Last Name': 'Abuli','Credit Score':785}, ignore_index=True)\n",
    "df_credit"
   ]
  },
  {
   "cell_type": "code",
   "execution_count": 19,
   "metadata": {},
   "outputs": [
    {
     "output_type": "execute_result",
     "data": {
      "text/plain": [
       "             First Name Last Name Credit Approval Card Name   Income  \\\n",
       "Credit Score                                                           \n",
       "825              Johnny       Haw                                      \n",
       "810                Jane      Nize               1    Golden   120801   \n",
       "780               Henry      Tone               1    Golden  98000.6   \n",
       "750             Desmond     Black               1    Silver    54000   \n",
       "620              Eileen      Musk               0  Dividend    35000   \n",
       "785                John     Abuli             NaN       NaN      NaN   \n",
       "\n",
       "                    Approval Date Audited      Full Name  \n",
       "Credit Score                                              \n",
       "825                                                       \n",
       "810           2019-08-16 05:25:00       1      Jane Nize  \n",
       "780           2020-05-06 12:00:00       1     Henry Tone  \n",
       "750           2020-05-01 01:00:00       1  Desmond Black  \n",
       "620                           NaT       1    Eileen Musk  \n",
       "785                           NaT     NaN            NaN  "
      ],
      "text/html": "<div>\n<style scoped>\n    .dataframe tbody tr th:only-of-type {\n        vertical-align: middle;\n    }\n\n    .dataframe tbody tr th {\n        vertical-align: top;\n    }\n\n    .dataframe thead th {\n        text-align: right;\n    }\n</style>\n<table border=\"1\" class=\"dataframe\">\n  <thead>\n    <tr style=\"text-align: right;\">\n      <th></th>\n      <th>First Name</th>\n      <th>Last Name</th>\n      <th>Credit Approval</th>\n      <th>Card Name</th>\n      <th>Income</th>\n      <th>Approval Date</th>\n      <th>Audited</th>\n      <th>Full Name</th>\n    </tr>\n    <tr>\n      <th>Credit Score</th>\n      <th></th>\n      <th></th>\n      <th></th>\n      <th></th>\n      <th></th>\n      <th></th>\n      <th></th>\n      <th></th>\n    </tr>\n  </thead>\n  <tbody>\n    <tr>\n      <th>825</th>\n      <td>Johnny</td>\n      <td>Haw</td>\n      <td></td>\n      <td></td>\n      <td></td>\n      <td></td>\n      <td></td>\n      <td></td>\n    </tr>\n    <tr>\n      <th>810</th>\n      <td>Jane</td>\n      <td>Nize</td>\n      <td>1</td>\n      <td>Golden</td>\n      <td>120801</td>\n      <td>2019-08-16 05:25:00</td>\n      <td>1</td>\n      <td>Jane Nize</td>\n    </tr>\n    <tr>\n      <th>780</th>\n      <td>Henry</td>\n      <td>Tone</td>\n      <td>1</td>\n      <td>Golden</td>\n      <td>98000.6</td>\n      <td>2020-05-06 12:00:00</td>\n      <td>1</td>\n      <td>Henry Tone</td>\n    </tr>\n    <tr>\n      <th>750</th>\n      <td>Desmond</td>\n      <td>Black</td>\n      <td>1</td>\n      <td>Silver</td>\n      <td>54000</td>\n      <td>2020-05-01 01:00:00</td>\n      <td>1</td>\n      <td>Desmond Black</td>\n    </tr>\n    <tr>\n      <th>620</th>\n      <td>Eileen</td>\n      <td>Musk</td>\n      <td>0</td>\n      <td>Dividend</td>\n      <td>35000</td>\n      <td>NaT</td>\n      <td>1</td>\n      <td>Eileen Musk</td>\n    </tr>\n    <tr>\n      <th>785</th>\n      <td>John</td>\n      <td>Abuli</td>\n      <td>NaN</td>\n      <td>NaN</td>\n      <td>NaN</td>\n      <td>NaT</td>\n      <td>NaN</td>\n      <td>NaN</td>\n    </tr>\n  </tbody>\n</table>\n</div>"
     },
     "metadata": {},
     "execution_count": 19
    }
   ],
   "source": [
    "df = df_credit.set_index('Credit Score')\n",
    "df.loc[825] = ['Johnny', 'Haw','','','','','','' ]\n",
    "df"
   ]
  },
  {
   "cell_type": "code",
   "execution_count": 20,
   "metadata": {},
   "outputs": [
    {
     "output_type": "execute_result",
     "data": {
      "text/plain": [
       "  First Name Last Name  Credit Score  Credit Approval Card Name     Income  \\\n",
       "1       Jane      Nize           810              1.0    Golden  120800.88   \n",
       "2      Henry      Tone           780              1.0    Golden   98000.58   \n",
       "4     Eileen      Musk           620              0.0  Dividend   35000.00   \n",
       "5       John     Abuli           785              NaN       NaN        NaN   \n",
       "\n",
       "        Approval Date  Audited    Full Name  \n",
       "1 2019-08-16 05:25:00      1.0    Jane Nize  \n",
       "2 2020-05-06 12:00:00      1.0   Henry Tone  \n",
       "4                 NaT      1.0  Eileen Musk  \n",
       "5                 NaT      NaN          NaN  "
      ],
      "text/html": "<div>\n<style scoped>\n    .dataframe tbody tr th:only-of-type {\n        vertical-align: middle;\n    }\n\n    .dataframe tbody tr th {\n        vertical-align: top;\n    }\n\n    .dataframe thead th {\n        text-align: right;\n    }\n</style>\n<table border=\"1\" class=\"dataframe\">\n  <thead>\n    <tr style=\"text-align: right;\">\n      <th></th>\n      <th>First Name</th>\n      <th>Last Name</th>\n      <th>Credit Score</th>\n      <th>Credit Approval</th>\n      <th>Card Name</th>\n      <th>Income</th>\n      <th>Approval Date</th>\n      <th>Audited</th>\n      <th>Full Name</th>\n    </tr>\n  </thead>\n  <tbody>\n    <tr>\n      <th>1</th>\n      <td>Jane</td>\n      <td>Nize</td>\n      <td>810</td>\n      <td>1.0</td>\n      <td>Golden</td>\n      <td>120800.88</td>\n      <td>2019-08-16 05:25:00</td>\n      <td>1.0</td>\n      <td>Jane Nize</td>\n    </tr>\n    <tr>\n      <th>2</th>\n      <td>Henry</td>\n      <td>Tone</td>\n      <td>780</td>\n      <td>1.0</td>\n      <td>Golden</td>\n      <td>98000.58</td>\n      <td>2020-05-06 12:00:00</td>\n      <td>1.0</td>\n      <td>Henry Tone</td>\n    </tr>\n    <tr>\n      <th>4</th>\n      <td>Eileen</td>\n      <td>Musk</td>\n      <td>620</td>\n      <td>0.0</td>\n      <td>Dividend</td>\n      <td>35000.00</td>\n      <td>NaT</td>\n      <td>1.0</td>\n      <td>Eileen Musk</td>\n    </tr>\n    <tr>\n      <th>5</th>\n      <td>John</td>\n      <td>Abuli</td>\n      <td>785</td>\n      <td>NaN</td>\n      <td>NaN</td>\n      <td>NaN</td>\n      <td>NaT</td>\n      <td>NaN</td>\n      <td>NaN</td>\n    </tr>\n  </tbody>\n</table>\n</div>"
     },
     "metadata": {},
     "execution_count": 20
    }
   ],
   "source": [
    "df_credit.drop([0, 3])"
   ]
  },
  {
   "cell_type": "code",
   "execution_count": 22,
   "metadata": {},
   "outputs": [
    {
     "output_type": "execute_result",
     "data": {
      "text/plain": [
       "Int64Index([3, 4], dtype='int64')"
      ]
     },
     "metadata": {},
     "execution_count": 22
    }
   ],
   "source": [
    "row_index = df_credit[(df_credit['Credit Approval'] == False)|(df_credit['Credit Score']<780)].index\n",
    "row_index"
   ]
  },
  {
   "cell_type": "code",
   "execution_count": 23,
   "metadata": {},
   "outputs": [
    {
     "output_type": "execute_result",
     "data": {
      "text/plain": [
       "  First Name Last Name  Credit Score     Income       Approval Date  Audited  \\\n",
       "0      Jacky     White           825  155000.62 2019-09-13 12:00:00      1.0   \n",
       "1       Jane      Nize           810  120800.88 2019-08-16 05:25:00      1.0   \n",
       "2      Henry      Tone           780   98000.58 2020-05-06 12:00:00      1.0   \n",
       "3    Desmond     Black           750   54000.00 2020-05-01 01:00:00      1.0   \n",
       "4     Eileen      Musk           620   35000.00                 NaT      1.0   \n",
       "5       John     Abuli           785        NaN                 NaT      NaN   \n",
       "\n",
       "       Full Name  \n",
       "0    Jacky White  \n",
       "1      Jane Nize  \n",
       "2     Henry Tone  \n",
       "3  Desmond Black  \n",
       "4    Eileen Musk  \n",
       "5            NaN  "
      ],
      "text/html": "<div>\n<style scoped>\n    .dataframe tbody tr th:only-of-type {\n        vertical-align: middle;\n    }\n\n    .dataframe tbody tr th {\n        vertical-align: top;\n    }\n\n    .dataframe thead th {\n        text-align: right;\n    }\n</style>\n<table border=\"1\" class=\"dataframe\">\n  <thead>\n    <tr style=\"text-align: right;\">\n      <th></th>\n      <th>First Name</th>\n      <th>Last Name</th>\n      <th>Credit Score</th>\n      <th>Income</th>\n      <th>Approval Date</th>\n      <th>Audited</th>\n      <th>Full Name</th>\n    </tr>\n  </thead>\n  <tbody>\n    <tr>\n      <th>0</th>\n      <td>Jacky</td>\n      <td>White</td>\n      <td>825</td>\n      <td>155000.62</td>\n      <td>2019-09-13 12:00:00</td>\n      <td>1.0</td>\n      <td>Jacky White</td>\n    </tr>\n    <tr>\n      <th>1</th>\n      <td>Jane</td>\n      <td>Nize</td>\n      <td>810</td>\n      <td>120800.88</td>\n      <td>2019-08-16 05:25:00</td>\n      <td>1.0</td>\n      <td>Jane Nize</td>\n    </tr>\n    <tr>\n      <th>2</th>\n      <td>Henry</td>\n      <td>Tone</td>\n      <td>780</td>\n      <td>98000.58</td>\n      <td>2020-05-06 12:00:00</td>\n      <td>1.0</td>\n      <td>Henry Tone</td>\n    </tr>\n    <tr>\n      <th>3</th>\n      <td>Desmond</td>\n      <td>Black</td>\n      <td>750</td>\n      <td>54000.00</td>\n      <td>2020-05-01 01:00:00</td>\n      <td>1.0</td>\n      <td>Desmond Black</td>\n    </tr>\n    <tr>\n      <th>4</th>\n      <td>Eileen</td>\n      <td>Musk</td>\n      <td>620</td>\n      <td>35000.00</td>\n      <td>NaT</td>\n      <td>1.0</td>\n      <td>Eileen Musk</td>\n    </tr>\n    <tr>\n      <th>5</th>\n      <td>John</td>\n      <td>Abuli</td>\n      <td>785</td>\n      <td>NaN</td>\n      <td>NaT</td>\n      <td>NaN</td>\n      <td>NaN</td>\n    </tr>\n  </tbody>\n</table>\n</div>"
     },
     "metadata": {},
     "execution_count": 23
    }
   ],
   "source": [
    "df_credit.drop(['Credit Approval', 'Card Name'], axis = 1)"
   ]
  },
  {
   "cell_type": "code",
   "execution_count": 24,
   "metadata": {},
   "outputs": [
    {
     "output_type": "execute_result",
     "data": {
      "text/plain": [
       "  First Name Last Name Card Name     Income       Approval Date  Audited  \\\n",
       "0      Jacky     White  Infinite  155000.62 2019-09-13 12:00:00      1.0   \n",
       "1       Jane      Nize    Golden  120800.88 2019-08-16 05:25:00      1.0   \n",
       "2      Henry      Tone    Golden   98000.58 2020-05-06 12:00:00      1.0   \n",
       "3    Desmond     Black    Silver   54000.00 2020-05-01 01:00:00      1.0   \n",
       "4     Eileen      Musk  Dividend   35000.00                 NaT      1.0   \n",
       "5       John     Abuli       NaN        NaN                 NaT      NaN   \n",
       "\n",
       "       Full Name  \n",
       "0    Jacky White  \n",
       "1      Jane Nize  \n",
       "2     Henry Tone  \n",
       "3  Desmond Black  \n",
       "4    Eileen Musk  \n",
       "5            NaN  "
      ],
      "text/html": "<div>\n<style scoped>\n    .dataframe tbody tr th:only-of-type {\n        vertical-align: middle;\n    }\n\n    .dataframe tbody tr th {\n        vertical-align: top;\n    }\n\n    .dataframe thead th {\n        text-align: right;\n    }\n</style>\n<table border=\"1\" class=\"dataframe\">\n  <thead>\n    <tr style=\"text-align: right;\">\n      <th></th>\n      <th>First Name</th>\n      <th>Last Name</th>\n      <th>Card Name</th>\n      <th>Income</th>\n      <th>Approval Date</th>\n      <th>Audited</th>\n      <th>Full Name</th>\n    </tr>\n  </thead>\n  <tbody>\n    <tr>\n      <th>0</th>\n      <td>Jacky</td>\n      <td>White</td>\n      <td>Infinite</td>\n      <td>155000.62</td>\n      <td>2019-09-13 12:00:00</td>\n      <td>1.0</td>\n      <td>Jacky White</td>\n    </tr>\n    <tr>\n      <th>1</th>\n      <td>Jane</td>\n      <td>Nize</td>\n      <td>Golden</td>\n      <td>120800.88</td>\n      <td>2019-08-16 05:25:00</td>\n      <td>1.0</td>\n      <td>Jane Nize</td>\n    </tr>\n    <tr>\n      <th>2</th>\n      <td>Henry</td>\n      <td>Tone</td>\n      <td>Golden</td>\n      <td>98000.58</td>\n      <td>2020-05-06 12:00:00</td>\n      <td>1.0</td>\n      <td>Henry Tone</td>\n    </tr>\n    <tr>\n      <th>3</th>\n      <td>Desmond</td>\n      <td>Black</td>\n      <td>Silver</td>\n      <td>54000.00</td>\n      <td>2020-05-01 01:00:00</td>\n      <td>1.0</td>\n      <td>Desmond Black</td>\n    </tr>\n    <tr>\n      <th>4</th>\n      <td>Eileen</td>\n      <td>Musk</td>\n      <td>Dividend</td>\n      <td>35000.00</td>\n      <td>NaT</td>\n      <td>1.0</td>\n      <td>Eileen Musk</td>\n    </tr>\n    <tr>\n      <th>5</th>\n      <td>John</td>\n      <td>Abuli</td>\n      <td>NaN</td>\n      <td>NaN</td>\n      <td>NaT</td>\n      <td>NaN</td>\n      <td>NaN</td>\n    </tr>\n  </tbody>\n</table>\n</div>"
     },
     "metadata": {},
     "execution_count": 24
    }
   ],
   "source": [
    "df_credit.drop([df_credit.columns[2], df_credit.columns[3]], axis = 1)"
   ]
  },
  {
   "cell_type": "code",
   "execution_count": 25,
   "metadata": {},
   "outputs": [
    {
     "output_type": "execute_result",
     "data": {
      "text/plain": [
       "  First Name Last Name  Credit Score  Credit Approval Card Name     Income  \\\n",
       "0      Jacky     White           825              1.0  Infinite  155000.62   \n",
       "1       Jane      Nize           810              1.0    Golden  120800.88   \n",
       "2      Henry      Tone           780              1.0    Golden   98000.58   \n",
       "3    Desmond     Black           750              1.0    Silver   54000.00   \n",
       "4     Eileen      Musk           620              0.0  Dividend   35000.00   \n",
       "5       John     Abuli           785              NaN       NaN        NaN   \n",
       "\n",
       "        Approval Date  Audited      Full Name    Segment  \n",
       "0 2019-09-13 12:00:00      1.0    Jacky White  Excellent  \n",
       "1 2019-08-16 05:25:00      1.0      Jane Nize  Excellent  \n",
       "2 2020-05-06 12:00:00      1.0     Henry Tone        NaN  \n",
       "3 2020-05-01 01:00:00      1.0  Desmond Black        NaN  \n",
       "4                 NaT      1.0    Eileen Musk        NaN  \n",
       "5                 NaT      NaN            NaN        NaN  "
      ],
      "text/html": "<div>\n<style scoped>\n    .dataframe tbody tr th:only-of-type {\n        vertical-align: middle;\n    }\n\n    .dataframe tbody tr th {\n        vertical-align: top;\n    }\n\n    .dataframe thead th {\n        text-align: right;\n    }\n</style>\n<table border=\"1\" class=\"dataframe\">\n  <thead>\n    <tr style=\"text-align: right;\">\n      <th></th>\n      <th>First Name</th>\n      <th>Last Name</th>\n      <th>Credit Score</th>\n      <th>Credit Approval</th>\n      <th>Card Name</th>\n      <th>Income</th>\n      <th>Approval Date</th>\n      <th>Audited</th>\n      <th>Full Name</th>\n      <th>Segment</th>\n    </tr>\n  </thead>\n  <tbody>\n    <tr>\n      <th>0</th>\n      <td>Jacky</td>\n      <td>White</td>\n      <td>825</td>\n      <td>1.0</td>\n      <td>Infinite</td>\n      <td>155000.62</td>\n      <td>2019-09-13 12:00:00</td>\n      <td>1.0</td>\n      <td>Jacky White</td>\n      <td>Excellent</td>\n    </tr>\n    <tr>\n      <th>1</th>\n      <td>Jane</td>\n      <td>Nize</td>\n      <td>810</td>\n      <td>1.0</td>\n      <td>Golden</td>\n      <td>120800.88</td>\n      <td>2019-08-16 05:25:00</td>\n      <td>1.0</td>\n      <td>Jane Nize</td>\n      <td>Excellent</td>\n    </tr>\n    <tr>\n      <th>2</th>\n      <td>Henry</td>\n      <td>Tone</td>\n      <td>780</td>\n      <td>1.0</td>\n      <td>Golden</td>\n      <td>98000.58</td>\n      <td>2020-05-06 12:00:00</td>\n      <td>1.0</td>\n      <td>Henry Tone</td>\n      <td>NaN</td>\n    </tr>\n    <tr>\n      <th>3</th>\n      <td>Desmond</td>\n      <td>Black</td>\n      <td>750</td>\n      <td>1.0</td>\n      <td>Silver</td>\n      <td>54000.00</td>\n      <td>2020-05-01 01:00:00</td>\n      <td>1.0</td>\n      <td>Desmond Black</td>\n      <td>NaN</td>\n    </tr>\n    <tr>\n      <th>4</th>\n      <td>Eileen</td>\n      <td>Musk</td>\n      <td>620</td>\n      <td>0.0</td>\n      <td>Dividend</td>\n      <td>35000.00</td>\n      <td>NaT</td>\n      <td>1.0</td>\n      <td>Eileen Musk</td>\n      <td>NaN</td>\n    </tr>\n    <tr>\n      <th>5</th>\n      <td>John</td>\n      <td>Abuli</td>\n      <td>785</td>\n      <td>NaN</td>\n      <td>NaN</td>\n      <td>NaN</td>\n      <td>NaT</td>\n      <td>NaN</td>\n      <td>NaN</td>\n      <td>NaN</td>\n    </tr>\n  </tbody>\n</table>\n</div>"
     },
     "metadata": {},
     "execution_count": 25
    }
   ],
   "source": [
    "df_credit.loc[df_credit['Credit Score'] > 800, 'Segment' ] = 'Excellent'\n",
    "df_credit"
   ]
  },
  {
   "cell_type": "code",
   "execution_count": 26,
   "metadata": {},
   "outputs": [
    {
     "output_type": "execute_result",
     "data": {
      "text/plain": [
       "  First Name Last Name  Credit Score  Credit Approval Card Name     Income  \\\n",
       "0      Jacky     White           825              1.0  Infinite  155000.62   \n",
       "1       Jane      Nize           810              1.0    Golden  120800.88   \n",
       "2      Henry      Tone           780              1.0    Golden   98000.58   \n",
       "3    Desmond     Black           750              1.0    Silver   54000.00   \n",
       "4     Eileen      Musk           620              0.0  Dividend   35000.00   \n",
       "5       John     Abuli           785              NaN       NaN        NaN   \n",
       "\n",
       "        Approval Date  Audited      Full Name    Segment  \n",
       "0 2019-09-13 12:00:00      1.0    Jacky White  Excellent  \n",
       "1 2019-08-16 05:25:00      1.0      Jane Nize  Excellent  \n",
       "2 2020-05-06 12:00:00      1.0     Henry Tone        NaN  \n",
       "3 2020-05-01 01:00:00      1.0  Desmond Black        NaN  \n",
       "4                 NaT      1.0    Eileen Musk       Poor  \n",
       "5                 NaT      NaN            NaN        NaN  "
      ],
      "text/html": "<div>\n<style scoped>\n    .dataframe tbody tr th:only-of-type {\n        vertical-align: middle;\n    }\n\n    .dataframe tbody tr th {\n        vertical-align: top;\n    }\n\n    .dataframe thead th {\n        text-align: right;\n    }\n</style>\n<table border=\"1\" class=\"dataframe\">\n  <thead>\n    <tr style=\"text-align: right;\">\n      <th></th>\n      <th>First Name</th>\n      <th>Last Name</th>\n      <th>Credit Score</th>\n      <th>Credit Approval</th>\n      <th>Card Name</th>\n      <th>Income</th>\n      <th>Approval Date</th>\n      <th>Audited</th>\n      <th>Full Name</th>\n      <th>Segment</th>\n    </tr>\n  </thead>\n  <tbody>\n    <tr>\n      <th>0</th>\n      <td>Jacky</td>\n      <td>White</td>\n      <td>825</td>\n      <td>1.0</td>\n      <td>Infinite</td>\n      <td>155000.62</td>\n      <td>2019-09-13 12:00:00</td>\n      <td>1.0</td>\n      <td>Jacky White</td>\n      <td>Excellent</td>\n    </tr>\n    <tr>\n      <th>1</th>\n      <td>Jane</td>\n      <td>Nize</td>\n      <td>810</td>\n      <td>1.0</td>\n      <td>Golden</td>\n      <td>120800.88</td>\n      <td>2019-08-16 05:25:00</td>\n      <td>1.0</td>\n      <td>Jane Nize</td>\n      <td>Excellent</td>\n    </tr>\n    <tr>\n      <th>2</th>\n      <td>Henry</td>\n      <td>Tone</td>\n      <td>780</td>\n      <td>1.0</td>\n      <td>Golden</td>\n      <td>98000.58</td>\n      <td>2020-05-06 12:00:00</td>\n      <td>1.0</td>\n      <td>Henry Tone</td>\n      <td>NaN</td>\n    </tr>\n    <tr>\n      <th>3</th>\n      <td>Desmond</td>\n      <td>Black</td>\n      <td>750</td>\n      <td>1.0</td>\n      <td>Silver</td>\n      <td>54000.00</td>\n      <td>2020-05-01 01:00:00</td>\n      <td>1.0</td>\n      <td>Desmond Black</td>\n      <td>NaN</td>\n    </tr>\n    <tr>\n      <th>4</th>\n      <td>Eileen</td>\n      <td>Musk</td>\n      <td>620</td>\n      <td>0.0</td>\n      <td>Dividend</td>\n      <td>35000.00</td>\n      <td>NaT</td>\n      <td>1.0</td>\n      <td>Eileen Musk</td>\n      <td>Poor</td>\n    </tr>\n    <tr>\n      <th>5</th>\n      <td>John</td>\n      <td>Abuli</td>\n      <td>785</td>\n      <td>NaN</td>\n      <td>NaN</td>\n      <td>NaN</td>\n      <td>NaT</td>\n      <td>NaN</td>\n      <td>NaN</td>\n      <td>NaN</td>\n    </tr>\n  </tbody>\n</table>\n</div>"
     },
     "metadata": {},
     "execution_count": 26
    }
   ],
   "source": [
    "df_credit.loc[df_credit['Credit Score'] < 700, 'Segment' ] = 'Poor'\n",
    "df_credit"
   ]
  },
  {
   "cell_type": "code",
   "execution_count": 27,
   "metadata": {},
   "outputs": [
    {
     "output_type": "execute_result",
     "data": {
      "text/plain": [
       "  First Name Last Name  Credit Score  Credit Approval Card Name     Income  \\\n",
       "0      Jacky     White           825              1.0  Infinite  155000.62   \n",
       "1       Jane      Nize           810              1.0    Golden  120800.88   \n",
       "2      Henry      Tone           780              1.0    Golden   98000.58   \n",
       "3    Desmond     Black           750              1.0    Silver   54000.00   \n",
       "4     Eileen      Musk           620              0.0  Dividend   35000.00   \n",
       "5       John     Abuli           785              NaN       NaN        NaN   \n",
       "\n",
       "        Approval Date  Audited      Full Name    Segment  \n",
       "0 2019-09-13 12:00:00      1.0    Jacky White  Excellent  \n",
       "1 2019-08-16 05:25:00      1.0      Jane Nize  Excellent  \n",
       "2 2020-05-06 12:00:00      1.0     Henry Tone   Advanced  \n",
       "3 2020-05-01 01:00:00      1.0  Desmond Black        NaN  \n",
       "4                 NaT      1.0    Eileen Musk       Poor  \n",
       "5                 NaT      NaN            NaN        NaN  "
      ],
      "text/html": "<div>\n<style scoped>\n    .dataframe tbody tr th:only-of-type {\n        vertical-align: middle;\n    }\n\n    .dataframe tbody tr th {\n        vertical-align: top;\n    }\n\n    .dataframe thead th {\n        text-align: right;\n    }\n</style>\n<table border=\"1\" class=\"dataframe\">\n  <thead>\n    <tr style=\"text-align: right;\">\n      <th></th>\n      <th>First Name</th>\n      <th>Last Name</th>\n      <th>Credit Score</th>\n      <th>Credit Approval</th>\n      <th>Card Name</th>\n      <th>Income</th>\n      <th>Approval Date</th>\n      <th>Audited</th>\n      <th>Full Name</th>\n      <th>Segment</th>\n    </tr>\n  </thead>\n  <tbody>\n    <tr>\n      <th>0</th>\n      <td>Jacky</td>\n      <td>White</td>\n      <td>825</td>\n      <td>1.0</td>\n      <td>Infinite</td>\n      <td>155000.62</td>\n      <td>2019-09-13 12:00:00</td>\n      <td>1.0</td>\n      <td>Jacky White</td>\n      <td>Excellent</td>\n    </tr>\n    <tr>\n      <th>1</th>\n      <td>Jane</td>\n      <td>Nize</td>\n      <td>810</td>\n      <td>1.0</td>\n      <td>Golden</td>\n      <td>120800.88</td>\n      <td>2019-08-16 05:25:00</td>\n      <td>1.0</td>\n      <td>Jane Nize</td>\n      <td>Excellent</td>\n    </tr>\n    <tr>\n      <th>2</th>\n      <td>Henry</td>\n      <td>Tone</td>\n      <td>780</td>\n      <td>1.0</td>\n      <td>Golden</td>\n      <td>98000.58</td>\n      <td>2020-05-06 12:00:00</td>\n      <td>1.0</td>\n      <td>Henry Tone</td>\n      <td>Advanced</td>\n    </tr>\n    <tr>\n      <th>3</th>\n      <td>Desmond</td>\n      <td>Black</td>\n      <td>750</td>\n      <td>1.0</td>\n      <td>Silver</td>\n      <td>54000.00</td>\n      <td>2020-05-01 01:00:00</td>\n      <td>1.0</td>\n      <td>Desmond Black</td>\n      <td>NaN</td>\n    </tr>\n    <tr>\n      <th>4</th>\n      <td>Eileen</td>\n      <td>Musk</td>\n      <td>620</td>\n      <td>0.0</td>\n      <td>Dividend</td>\n      <td>35000.00</td>\n      <td>NaT</td>\n      <td>1.0</td>\n      <td>Eileen Musk</td>\n      <td>Poor</td>\n    </tr>\n    <tr>\n      <th>5</th>\n      <td>John</td>\n      <td>Abuli</td>\n      <td>785</td>\n      <td>NaN</td>\n      <td>NaN</td>\n      <td>NaN</td>\n      <td>NaT</td>\n      <td>NaN</td>\n      <td>NaN</td>\n      <td>NaN</td>\n    </tr>\n  </tbody>\n</table>\n</div>"
     },
     "metadata": {},
     "execution_count": 27
    }
   ],
   "source": [
    "df_credit.loc[(df_credit['Credit Score'] <= 800) & (df_credit['Income']> 80000), 'Segment' ] = 'Advanced'\n",
    "df_credit"
   ]
  },
  {
   "cell_type": "code",
   "execution_count": 29,
   "metadata": {},
   "outputs": [
    {
     "output_type": "execute_result",
     "data": {
      "text/plain": [
       "  First Name Last Name  Credit Score Credit Approval Card Name     Income  \\\n",
       "0      Jacky     White           825               1  Infinite  155000.62   \n",
       "1       Jane      Nize           810               1    Golden  120800.88   \n",
       "2      Henry      Tone           780               1    Golden   98000.58   \n",
       "3    Desmond     Black           750               1    Silver   54000.00   \n",
       "4     Eileen      Musk           620            True  Dividend   35000.00   \n",
       "5       John     Abuli           785             NaN       NaN        NaN   \n",
       "\n",
       "        Approval Date  Audited      Full Name    Segment  \n",
       "0 2019-09-13 12:00:00      1.0    Jacky White  Excellent  \n",
       "1 2019-08-16 05:25:00      1.0      Jane Nize  Excellent  \n",
       "2 2020-05-06 12:00:00      1.0     Henry Tone   Advanced  \n",
       "3 2020-05-01 01:00:00      1.0  Desmond Black        NaN  \n",
       "4                 NaT      1.0    Eileen Musk       Poor  \n",
       "5                 NaT      NaN            NaN        NaN  "
      ],
      "text/html": "<div>\n<style scoped>\n    .dataframe tbody tr th:only-of-type {\n        vertical-align: middle;\n    }\n\n    .dataframe tbody tr th {\n        vertical-align: top;\n    }\n\n    .dataframe thead th {\n        text-align: right;\n    }\n</style>\n<table border=\"1\" class=\"dataframe\">\n  <thead>\n    <tr style=\"text-align: right;\">\n      <th></th>\n      <th>First Name</th>\n      <th>Last Name</th>\n      <th>Credit Score</th>\n      <th>Credit Approval</th>\n      <th>Card Name</th>\n      <th>Income</th>\n      <th>Approval Date</th>\n      <th>Audited</th>\n      <th>Full Name</th>\n      <th>Segment</th>\n    </tr>\n  </thead>\n  <tbody>\n    <tr>\n      <th>0</th>\n      <td>Jacky</td>\n      <td>White</td>\n      <td>825</td>\n      <td>1</td>\n      <td>Infinite</td>\n      <td>155000.62</td>\n      <td>2019-09-13 12:00:00</td>\n      <td>1.0</td>\n      <td>Jacky White</td>\n      <td>Excellent</td>\n    </tr>\n    <tr>\n      <th>1</th>\n      <td>Jane</td>\n      <td>Nize</td>\n      <td>810</td>\n      <td>1</td>\n      <td>Golden</td>\n      <td>120800.88</td>\n      <td>2019-08-16 05:25:00</td>\n      <td>1.0</td>\n      <td>Jane Nize</td>\n      <td>Excellent</td>\n    </tr>\n    <tr>\n      <th>2</th>\n      <td>Henry</td>\n      <td>Tone</td>\n      <td>780</td>\n      <td>1</td>\n      <td>Golden</td>\n      <td>98000.58</td>\n      <td>2020-05-06 12:00:00</td>\n      <td>1.0</td>\n      <td>Henry Tone</td>\n      <td>Advanced</td>\n    </tr>\n    <tr>\n      <th>3</th>\n      <td>Desmond</td>\n      <td>Black</td>\n      <td>750</td>\n      <td>1</td>\n      <td>Silver</td>\n      <td>54000.00</td>\n      <td>2020-05-01 01:00:00</td>\n      <td>1.0</td>\n      <td>Desmond Black</td>\n      <td>NaN</td>\n    </tr>\n    <tr>\n      <th>4</th>\n      <td>Eileen</td>\n      <td>Musk</td>\n      <td>620</td>\n      <td>True</td>\n      <td>Dividend</td>\n      <td>35000.00</td>\n      <td>NaT</td>\n      <td>1.0</td>\n      <td>Eileen Musk</td>\n      <td>Poor</td>\n    </tr>\n    <tr>\n      <th>5</th>\n      <td>John</td>\n      <td>Abuli</td>\n      <td>785</td>\n      <td>NaN</td>\n      <td>NaN</td>\n      <td>NaN</td>\n      <td>NaT</td>\n      <td>NaN</td>\n      <td>NaN</td>\n      <td>NaN</td>\n    </tr>\n  </tbody>\n</table>\n</div>"
     },
     "metadata": {},
     "execution_count": 29
    }
   ],
   "source": [
    "df_credit.iloc[4,3] = True\n",
    "df_credit"
   ]
  },
  {
   "cell_type": "code",
   "execution_count": 31,
   "metadata": {},
   "outputs": [
    {
     "output_type": "execute_result",
     "data": {
      "text/plain": [
       "  First Name Last Name  Credit Score Credit Approval Card Name     Income  \\\n",
       "0      Jacky     White           825               1  Infinite  155000.62   \n",
       "1       Jane      Nize           810               1    Golden  120800.88   \n",
       "2      Henry      Tone           780               1    Golden   98000.58   \n",
       "3    Desmond     Black           750               1    Silver   54000.00   \n",
       "4     Eileen      Musk           620            True  Dividend   35000.00   \n",
       "5       John     Abuli           785             NaN       NaN        NaN   \n",
       "\n",
       "        Approval Date  Audited      Full Name    Segment  \n",
       "0 2019-09-13 12:00:00      1.0    Jacky White  Excellent  \n",
       "1 2019-08-16 05:25:00      1.0      Jane Nize  Excellent  \n",
       "2 2020-05-06 12:00:00      1.0     Henry Tone   Advanced  \n",
       "3 2020-05-01 01:00:00      1.0  Desmond Black        NaN  \n",
       "4                 NaT      1.0    Eileen Musk       Poor  \n",
       "5                 NaT      NaN            NaN        NaN  "
      ],
      "text/html": "<div>\n<style scoped>\n    .dataframe tbody tr th:only-of-type {\n        vertical-align: middle;\n    }\n\n    .dataframe tbody tr th {\n        vertical-align: top;\n    }\n\n    .dataframe thead th {\n        text-align: right;\n    }\n</style>\n<table border=\"1\" class=\"dataframe\">\n  <thead>\n    <tr style=\"text-align: right;\">\n      <th></th>\n      <th>First Name</th>\n      <th>Last Name</th>\n      <th>Credit Score</th>\n      <th>Credit Approval</th>\n      <th>Card Name</th>\n      <th>Income</th>\n      <th>Approval Date</th>\n      <th>Audited</th>\n      <th>Full Name</th>\n      <th>Segment</th>\n    </tr>\n  </thead>\n  <tbody>\n    <tr>\n      <th>0</th>\n      <td>Jacky</td>\n      <td>White</td>\n      <td>825</td>\n      <td>1</td>\n      <td>Infinite</td>\n      <td>155000.62</td>\n      <td>2019-09-13 12:00:00</td>\n      <td>1.0</td>\n      <td>Jacky White</td>\n      <td>Excellent</td>\n    </tr>\n    <tr>\n      <th>1</th>\n      <td>Jane</td>\n      <td>Nize</td>\n      <td>810</td>\n      <td>1</td>\n      <td>Golden</td>\n      <td>120800.88</td>\n      <td>2019-08-16 05:25:00</td>\n      <td>1.0</td>\n      <td>Jane Nize</td>\n      <td>Excellent</td>\n    </tr>\n    <tr>\n      <th>2</th>\n      <td>Henry</td>\n      <td>Tone</td>\n      <td>780</td>\n      <td>1</td>\n      <td>Golden</td>\n      <td>98000.58</td>\n      <td>2020-05-06 12:00:00</td>\n      <td>1.0</td>\n      <td>Henry Tone</td>\n      <td>Advanced</td>\n    </tr>\n    <tr>\n      <th>3</th>\n      <td>Desmond</td>\n      <td>Black</td>\n      <td>750</td>\n      <td>1</td>\n      <td>Silver</td>\n      <td>54000.00</td>\n      <td>2020-05-01 01:00:00</td>\n      <td>1.0</td>\n      <td>Desmond Black</td>\n      <td>NaN</td>\n    </tr>\n    <tr>\n      <th>4</th>\n      <td>Eileen</td>\n      <td>Musk</td>\n      <td>620</td>\n      <td>True</td>\n      <td>Dividend</td>\n      <td>35000.00</td>\n      <td>NaT</td>\n      <td>1.0</td>\n      <td>Eileen Musk</td>\n      <td>Poor</td>\n    </tr>\n    <tr>\n      <th>5</th>\n      <td>John</td>\n      <td>Abuli</td>\n      <td>785</td>\n      <td>NaN</td>\n      <td>NaN</td>\n      <td>NaN</td>\n      <td>NaT</td>\n      <td>NaN</td>\n      <td>NaN</td>\n      <td>NaN</td>\n    </tr>\n  </tbody>\n</table>\n</div>"
     },
     "metadata": {},
     "execution_count": 31
    }
   ],
   "source": [
    "df_credit"
   ]
  },
  {
   "cell_type": "code",
   "execution_count": 32,
   "metadata": {},
   "outputs": [
    {
     "output_type": "execute_result",
     "data": {
      "text/plain": [
       "  First Name Last Name  Credit Score Credit Approval Card Name     Income  \\\n",
       "0      Jacky     White           825               1  Infinite  100000.00   \n",
       "1       Jane      Nize           810               1    Golden  100000.00   \n",
       "2      Henry      Tone           780               1    Golden   98000.58   \n",
       "3    Desmond     Black           750               1    Silver   54000.00   \n",
       "4     Eileen      Musk           620            True  Dividend   35000.00   \n",
       "5       John     Abuli           785             NaN       NaN        NaN   \n",
       "\n",
       "        Approval Date  Audited      Full Name    Segment  \n",
       "0 2019-09-13 12:00:00      1.0    Jacky White  Excellent  \n",
       "1 2019-08-16 05:25:00      1.0      Jane Nize  Excellent  \n",
       "2 2020-05-06 12:00:00      1.0     Henry Tone   Advanced  \n",
       "3 2020-05-01 01:00:00      1.0  Desmond Black        NaN  \n",
       "4                 NaT      1.0    Eileen Musk       Poor  \n",
       "5                 NaT      NaN            NaN        NaN  "
      ],
      "text/html": "<div>\n<style scoped>\n    .dataframe tbody tr th:only-of-type {\n        vertical-align: middle;\n    }\n\n    .dataframe tbody tr th {\n        vertical-align: top;\n    }\n\n    .dataframe thead th {\n        text-align: right;\n    }\n</style>\n<table border=\"1\" class=\"dataframe\">\n  <thead>\n    <tr style=\"text-align: right;\">\n      <th></th>\n      <th>First Name</th>\n      <th>Last Name</th>\n      <th>Credit Score</th>\n      <th>Credit Approval</th>\n      <th>Card Name</th>\n      <th>Income</th>\n      <th>Approval Date</th>\n      <th>Audited</th>\n      <th>Full Name</th>\n      <th>Segment</th>\n    </tr>\n  </thead>\n  <tbody>\n    <tr>\n      <th>0</th>\n      <td>Jacky</td>\n      <td>White</td>\n      <td>825</td>\n      <td>1</td>\n      <td>Infinite</td>\n      <td>100000.00</td>\n      <td>2019-09-13 12:00:00</td>\n      <td>1.0</td>\n      <td>Jacky White</td>\n      <td>Excellent</td>\n    </tr>\n    <tr>\n      <th>1</th>\n      <td>Jane</td>\n      <td>Nize</td>\n      <td>810</td>\n      <td>1</td>\n      <td>Golden</td>\n      <td>100000.00</td>\n      <td>2019-08-16 05:25:00</td>\n      <td>1.0</td>\n      <td>Jane Nize</td>\n      <td>Excellent</td>\n    </tr>\n    <tr>\n      <th>2</th>\n      <td>Henry</td>\n      <td>Tone</td>\n      <td>780</td>\n      <td>1</td>\n      <td>Golden</td>\n      <td>98000.58</td>\n      <td>2020-05-06 12:00:00</td>\n      <td>1.0</td>\n      <td>Henry Tone</td>\n      <td>Advanced</td>\n    </tr>\n    <tr>\n      <th>3</th>\n      <td>Desmond</td>\n      <td>Black</td>\n      <td>750</td>\n      <td>1</td>\n      <td>Silver</td>\n      <td>54000.00</td>\n      <td>2020-05-01 01:00:00</td>\n      <td>1.0</td>\n      <td>Desmond Black</td>\n      <td>NaN</td>\n    </tr>\n    <tr>\n      <th>4</th>\n      <td>Eileen</td>\n      <td>Musk</td>\n      <td>620</td>\n      <td>True</td>\n      <td>Dividend</td>\n      <td>35000.00</td>\n      <td>NaT</td>\n      <td>1.0</td>\n      <td>Eileen Musk</td>\n      <td>Poor</td>\n    </tr>\n    <tr>\n      <th>5</th>\n      <td>John</td>\n      <td>Abuli</td>\n      <td>785</td>\n      <td>NaN</td>\n      <td>NaN</td>\n      <td>NaN</td>\n      <td>NaT</td>\n      <td>NaN</td>\n      <td>NaN</td>\n      <td>NaN</td>\n    </tr>\n  </tbody>\n</table>\n</div>"
     },
     "metadata": {},
     "execution_count": 32
    }
   ],
   "source": [
    "df_credit['Income'] = df_credit['Income'].mask( df_credit['Income'] > 100000, 100000 )\n",
    "df_credit"
   ]
  },
  {
   "cell_type": "code",
   "execution_count": 34,
   "metadata": {},
   "outputs": [
    {
     "output_type": "execute_result",
     "data": {
      "text/plain": [
       "  First Name Last Name  Credit Score Credit Approval     Card Name  \\\n",
       "0      Jacky     White           825               1      Infinite   \n",
       "1       Jane      Nize           810               1        Golden   \n",
       "2      Henry      Tone           780               1        Golden   \n",
       "3    Desmond     Black           750               1        Silver   \n",
       "4     Eileen      Musk           620            True      Dividend   \n",
       "5       John     Abuli           785    Not Approved  Not Approved   \n",
       "\n",
       "         Income        Approval Date       Audited      Full Name  \\\n",
       "0        100000  2019-09-13 12:00:00             1    Jacky White   \n",
       "1        100000  2019-08-16 05:25:00             1      Jane Nize   \n",
       "2       98000.6  2020-05-06 12:00:00             1     Henry Tone   \n",
       "3         54000  2020-05-01 01:00:00             1  Desmond Black   \n",
       "4         35000         Not Approved             1    Eileen Musk   \n",
       "5  Not Approved         Not Approved  Not Approved   Not Approved   \n",
       "\n",
       "        Segment  \n",
       "0     Excellent  \n",
       "1     Excellent  \n",
       "2      Advanced  \n",
       "3  Not Approved  \n",
       "4          Poor  \n",
       "5  Not Approved  "
      ],
      "text/html": "<div>\n<style scoped>\n    .dataframe tbody tr th:only-of-type {\n        vertical-align: middle;\n    }\n\n    .dataframe tbody tr th {\n        vertical-align: top;\n    }\n\n    .dataframe thead th {\n        text-align: right;\n    }\n</style>\n<table border=\"1\" class=\"dataframe\">\n  <thead>\n    <tr style=\"text-align: right;\">\n      <th></th>\n      <th>First Name</th>\n      <th>Last Name</th>\n      <th>Credit Score</th>\n      <th>Credit Approval</th>\n      <th>Card Name</th>\n      <th>Income</th>\n      <th>Approval Date</th>\n      <th>Audited</th>\n      <th>Full Name</th>\n      <th>Segment</th>\n    </tr>\n  </thead>\n  <tbody>\n    <tr>\n      <th>0</th>\n      <td>Jacky</td>\n      <td>White</td>\n      <td>825</td>\n      <td>1</td>\n      <td>Infinite</td>\n      <td>100000</td>\n      <td>2019-09-13 12:00:00</td>\n      <td>1</td>\n      <td>Jacky White</td>\n      <td>Excellent</td>\n    </tr>\n    <tr>\n      <th>1</th>\n      <td>Jane</td>\n      <td>Nize</td>\n      <td>810</td>\n      <td>1</td>\n      <td>Golden</td>\n      <td>100000</td>\n      <td>2019-08-16 05:25:00</td>\n      <td>1</td>\n      <td>Jane Nize</td>\n      <td>Excellent</td>\n    </tr>\n    <tr>\n      <th>2</th>\n      <td>Henry</td>\n      <td>Tone</td>\n      <td>780</td>\n      <td>1</td>\n      <td>Golden</td>\n      <td>98000.6</td>\n      <td>2020-05-06 12:00:00</td>\n      <td>1</td>\n      <td>Henry Tone</td>\n      <td>Advanced</td>\n    </tr>\n    <tr>\n      <th>3</th>\n      <td>Desmond</td>\n      <td>Black</td>\n      <td>750</td>\n      <td>1</td>\n      <td>Silver</td>\n      <td>54000</td>\n      <td>2020-05-01 01:00:00</td>\n      <td>1</td>\n      <td>Desmond Black</td>\n      <td>Not Approved</td>\n    </tr>\n    <tr>\n      <th>4</th>\n      <td>Eileen</td>\n      <td>Musk</td>\n      <td>620</td>\n      <td>True</td>\n      <td>Dividend</td>\n      <td>35000</td>\n      <td>Not Approved</td>\n      <td>1</td>\n      <td>Eileen Musk</td>\n      <td>Poor</td>\n    </tr>\n    <tr>\n      <th>5</th>\n      <td>John</td>\n      <td>Abuli</td>\n      <td>785</td>\n      <td>Not Approved</td>\n      <td>Not Approved</td>\n      <td>Not Approved</td>\n      <td>Not Approved</td>\n      <td>Not Approved</td>\n      <td>Not Approved</td>\n      <td>Not Approved</td>\n    </tr>\n  </tbody>\n</table>\n</div>"
     },
     "metadata": {},
     "execution_count": 34
    }
   ],
   "source": [
    "df_credit.mask( df_credit.isna(),'Not Approved' )"
   ]
  },
  {
   "cell_type": "code",
   "execution_count": 35,
   "metadata": {},
   "outputs": [
    {
     "output_type": "execute_result",
     "data": {
      "text/plain": [
       "  First Name Last Name  Credit Score Credit Approval Card Name     Income  \\\n",
       "0      Jacky     White           825               1  Infinite  100000.00   \n",
       "1       Jane      Nize           810               1    Golden  100000.00   \n",
       "2      Henry      Tone           780               1    Golden   98000.58   \n",
       "3    Desmond     Black           750               1    Silver   54000.00   \n",
       "4     Eileen      Musk           620            True  Dividend   35000.00   \n",
       "5       John     Abuli           785             NaN       NaN        NaN   \n",
       "\n",
       "        Approval Date  Audited      Full Name    Segment  \n",
       "0 2019-09-13 12:00:00      1.0    Jacky White  Excellent  \n",
       "1 2019-08-16 05:25:00      1.0      Jane Nize  Excellent  \n",
       "2 2020-05-06 12:00:00      1.0     Henry Tone   Advanced  \n",
       "3 2020-05-01 01:00:00      1.0  Desmond Black        NaN  \n",
       "4                 NaT      1.0    Eileen Musk       Poor  \n",
       "5                 NaT      NaN            NaN        NaN  "
      ],
      "text/html": "<div>\n<style scoped>\n    .dataframe tbody tr th:only-of-type {\n        vertical-align: middle;\n    }\n\n    .dataframe tbody tr th {\n        vertical-align: top;\n    }\n\n    .dataframe thead th {\n        text-align: right;\n    }\n</style>\n<table border=\"1\" class=\"dataframe\">\n  <thead>\n    <tr style=\"text-align: right;\">\n      <th></th>\n      <th>First Name</th>\n      <th>Last Name</th>\n      <th>Credit Score</th>\n      <th>Credit Approval</th>\n      <th>Card Name</th>\n      <th>Income</th>\n      <th>Approval Date</th>\n      <th>Audited</th>\n      <th>Full Name</th>\n      <th>Segment</th>\n    </tr>\n  </thead>\n  <tbody>\n    <tr>\n      <th>0</th>\n      <td>Jacky</td>\n      <td>White</td>\n      <td>825</td>\n      <td>1</td>\n      <td>Infinite</td>\n      <td>100000.00</td>\n      <td>2019-09-13 12:00:00</td>\n      <td>1.0</td>\n      <td>Jacky White</td>\n      <td>Excellent</td>\n    </tr>\n    <tr>\n      <th>1</th>\n      <td>Jane</td>\n      <td>Nize</td>\n      <td>810</td>\n      <td>1</td>\n      <td>Golden</td>\n      <td>100000.00</td>\n      <td>2019-08-16 05:25:00</td>\n      <td>1.0</td>\n      <td>Jane Nize</td>\n      <td>Excellent</td>\n    </tr>\n    <tr>\n      <th>2</th>\n      <td>Henry</td>\n      <td>Tone</td>\n      <td>780</td>\n      <td>1</td>\n      <td>Golden</td>\n      <td>98000.58</td>\n      <td>2020-05-06 12:00:00</td>\n      <td>1.0</td>\n      <td>Henry Tone</td>\n      <td>Advanced</td>\n    </tr>\n    <tr>\n      <th>3</th>\n      <td>Desmond</td>\n      <td>Black</td>\n      <td>750</td>\n      <td>1</td>\n      <td>Silver</td>\n      <td>54000.00</td>\n      <td>2020-05-01 01:00:00</td>\n      <td>1.0</td>\n      <td>Desmond Black</td>\n      <td>NaN</td>\n    </tr>\n    <tr>\n      <th>4</th>\n      <td>Eileen</td>\n      <td>Musk</td>\n      <td>620</td>\n      <td>True</td>\n      <td>Dividend</td>\n      <td>35000.00</td>\n      <td>NaT</td>\n      <td>1.0</td>\n      <td>Eileen Musk</td>\n      <td>Poor</td>\n    </tr>\n    <tr>\n      <th>5</th>\n      <td>John</td>\n      <td>Abuli</td>\n      <td>785</td>\n      <td>NaN</td>\n      <td>NaN</td>\n      <td>NaN</td>\n      <td>NaT</td>\n      <td>NaN</td>\n      <td>NaN</td>\n      <td>NaN</td>\n    </tr>\n  </tbody>\n</table>\n</div>"
     },
     "metadata": {},
     "execution_count": 35
    }
   ],
   "source": [
    "df_credit"
   ]
  },
  {
   "cell_type": "code",
   "execution_count": 36,
   "metadata": {},
   "outputs": [
    {
     "output_type": "execute_result",
     "data": {
      "text/plain": [
       "  First Name Last Name  Credit Score Credit Approval Card Name     Income  \\\n",
       "0      Jacky     White           825               1  Infinite  100000.00   \n",
       "1       Jane      Nize           810               1    Golden  100000.00   \n",
       "2      Henry      Tone           780               1    Golden   98000.58   \n",
       "3    Desmond     Black           750               1    Silver   54000.00   \n",
       "4     Eileen      Musk           620            True  Dividend   35000.00   \n",
       "5       John     Abuli           785             NaN       NaN        NaN   \n",
       "\n",
       "        Approval Date  Audited      Full Name    Segment  log_Income  \n",
       "0 2019-09-13 12:00:00      1.0    Jacky White  Excellent   11.512925  \n",
       "1 2019-08-16 05:25:00      1.0      Jane Nize  Excellent   11.512925  \n",
       "2 2020-05-06 12:00:00      1.0     Henry Tone   Advanced   11.492729  \n",
       "3 2020-05-01 01:00:00      1.0  Desmond Black        NaN   10.896739  \n",
       "4                 NaT      1.0    Eileen Musk       Poor   10.463103  \n",
       "5                 NaT      NaN            NaN        NaN         NaN  "
      ],
      "text/html": "<div>\n<style scoped>\n    .dataframe tbody tr th:only-of-type {\n        vertical-align: middle;\n    }\n\n    .dataframe tbody tr th {\n        vertical-align: top;\n    }\n\n    .dataframe thead th {\n        text-align: right;\n    }\n</style>\n<table border=\"1\" class=\"dataframe\">\n  <thead>\n    <tr style=\"text-align: right;\">\n      <th></th>\n      <th>First Name</th>\n      <th>Last Name</th>\n      <th>Credit Score</th>\n      <th>Credit Approval</th>\n      <th>Card Name</th>\n      <th>Income</th>\n      <th>Approval Date</th>\n      <th>Audited</th>\n      <th>Full Name</th>\n      <th>Segment</th>\n      <th>log_Income</th>\n    </tr>\n  </thead>\n  <tbody>\n    <tr>\n      <th>0</th>\n      <td>Jacky</td>\n      <td>White</td>\n      <td>825</td>\n      <td>1</td>\n      <td>Infinite</td>\n      <td>100000.00</td>\n      <td>2019-09-13 12:00:00</td>\n      <td>1.0</td>\n      <td>Jacky White</td>\n      <td>Excellent</td>\n      <td>11.512925</td>\n    </tr>\n    <tr>\n      <th>1</th>\n      <td>Jane</td>\n      <td>Nize</td>\n      <td>810</td>\n      <td>1</td>\n      <td>Golden</td>\n      <td>100000.00</td>\n      <td>2019-08-16 05:25:00</td>\n      <td>1.0</td>\n      <td>Jane Nize</td>\n      <td>Excellent</td>\n      <td>11.512925</td>\n    </tr>\n    <tr>\n      <th>2</th>\n      <td>Henry</td>\n      <td>Tone</td>\n      <td>780</td>\n      <td>1</td>\n      <td>Golden</td>\n      <td>98000.58</td>\n      <td>2020-05-06 12:00:00</td>\n      <td>1.0</td>\n      <td>Henry Tone</td>\n      <td>Advanced</td>\n      <td>11.492729</td>\n    </tr>\n    <tr>\n      <th>3</th>\n      <td>Desmond</td>\n      <td>Black</td>\n      <td>750</td>\n      <td>1</td>\n      <td>Silver</td>\n      <td>54000.00</td>\n      <td>2020-05-01 01:00:00</td>\n      <td>1.0</td>\n      <td>Desmond Black</td>\n      <td>NaN</td>\n      <td>10.896739</td>\n    </tr>\n    <tr>\n      <th>4</th>\n      <td>Eileen</td>\n      <td>Musk</td>\n      <td>620</td>\n      <td>True</td>\n      <td>Dividend</td>\n      <td>35000.00</td>\n      <td>NaT</td>\n      <td>1.0</td>\n      <td>Eileen Musk</td>\n      <td>Poor</td>\n      <td>10.463103</td>\n    </tr>\n    <tr>\n      <th>5</th>\n      <td>John</td>\n      <td>Abuli</td>\n      <td>785</td>\n      <td>NaN</td>\n      <td>NaN</td>\n      <td>NaN</td>\n      <td>NaT</td>\n      <td>NaN</td>\n      <td>NaN</td>\n      <td>NaN</td>\n      <td>NaN</td>\n    </tr>\n  </tbody>\n</table>\n</div>"
     },
     "metadata": {},
     "execution_count": 36
    }
   ],
   "source": [
    "import numpy as np\n",
    "df_credit['log_Income'] = np.log(df_credit['Income'])\n",
    "df_credit"
   ]
  },
  {
   "cell_type": "code",
   "execution_count": 37,
   "metadata": {},
   "outputs": [
    {
     "output_type": "execute_result",
     "data": {
      "text/plain": [
       "  First Name Last Name  Credit Score Credit Approval Card Name     Income  \\\n",
       "0      Jacky     White           825               1  Infinite  100000.00   \n",
       "1       Jane      Nize           810               1    Golden  100000.00   \n",
       "2      Henry      Tone           780               1    Golden   98000.58   \n",
       "3    Desmond     Black           750               1    Silver   54000.00   \n",
       "4     Eileen      Musk           620            True  Dividend   35000.00   \n",
       "5       John     Abuli           785             NaN       NaN        NaN   \n",
       "\n",
       "        Approval Date  Audited      Full Name    Segment  log_Income  \\\n",
       "0 2019-09-13 12:00:00      1.0    Jacky White  Excellent   11.512925   \n",
       "1 2019-08-16 05:25:00      1.0      Jane Nize  Excellent   11.512925   \n",
       "2 2020-05-06 12:00:00      1.0     Henry Tone   Advanced   11.492729   \n",
       "3 2020-05-01 01:00:00      1.0  Desmond Black        NaN   10.896739   \n",
       "4                 NaT      1.0    Eileen Musk       Poor   10.463103   \n",
       "5                 NaT      NaN            NaN        NaN         NaN   \n",
       "\n",
       "   First_Find Ja  \n",
       "0              0  \n",
       "1              0  \n",
       "2             -1  \n",
       "3             -1  \n",
       "4             -1  \n",
       "5             -1  "
      ],
      "text/html": "<div>\n<style scoped>\n    .dataframe tbody tr th:only-of-type {\n        vertical-align: middle;\n    }\n\n    .dataframe tbody tr th {\n        vertical-align: top;\n    }\n\n    .dataframe thead th {\n        text-align: right;\n    }\n</style>\n<table border=\"1\" class=\"dataframe\">\n  <thead>\n    <tr style=\"text-align: right;\">\n      <th></th>\n      <th>First Name</th>\n      <th>Last Name</th>\n      <th>Credit Score</th>\n      <th>Credit Approval</th>\n      <th>Card Name</th>\n      <th>Income</th>\n      <th>Approval Date</th>\n      <th>Audited</th>\n      <th>Full Name</th>\n      <th>Segment</th>\n      <th>log_Income</th>\n      <th>First_Find Ja</th>\n    </tr>\n  </thead>\n  <tbody>\n    <tr>\n      <th>0</th>\n      <td>Jacky</td>\n      <td>White</td>\n      <td>825</td>\n      <td>1</td>\n      <td>Infinite</td>\n      <td>100000.00</td>\n      <td>2019-09-13 12:00:00</td>\n      <td>1.0</td>\n      <td>Jacky White</td>\n      <td>Excellent</td>\n      <td>11.512925</td>\n      <td>0</td>\n    </tr>\n    <tr>\n      <th>1</th>\n      <td>Jane</td>\n      <td>Nize</td>\n      <td>810</td>\n      <td>1</td>\n      <td>Golden</td>\n      <td>100000.00</td>\n      <td>2019-08-16 05:25:00</td>\n      <td>1.0</td>\n      <td>Jane Nize</td>\n      <td>Excellent</td>\n      <td>11.512925</td>\n      <td>0</td>\n    </tr>\n    <tr>\n      <th>2</th>\n      <td>Henry</td>\n      <td>Tone</td>\n      <td>780</td>\n      <td>1</td>\n      <td>Golden</td>\n      <td>98000.58</td>\n      <td>2020-05-06 12:00:00</td>\n      <td>1.0</td>\n      <td>Henry Tone</td>\n      <td>Advanced</td>\n      <td>11.492729</td>\n      <td>-1</td>\n    </tr>\n    <tr>\n      <th>3</th>\n      <td>Desmond</td>\n      <td>Black</td>\n      <td>750</td>\n      <td>1</td>\n      <td>Silver</td>\n      <td>54000.00</td>\n      <td>2020-05-01 01:00:00</td>\n      <td>1.0</td>\n      <td>Desmond Black</td>\n      <td>NaN</td>\n      <td>10.896739</td>\n      <td>-1</td>\n    </tr>\n    <tr>\n      <th>4</th>\n      <td>Eileen</td>\n      <td>Musk</td>\n      <td>620</td>\n      <td>True</td>\n      <td>Dividend</td>\n      <td>35000.00</td>\n      <td>NaT</td>\n      <td>1.0</td>\n      <td>Eileen Musk</td>\n      <td>Poor</td>\n      <td>10.463103</td>\n      <td>-1</td>\n    </tr>\n    <tr>\n      <th>5</th>\n      <td>John</td>\n      <td>Abuli</td>\n      <td>785</td>\n      <td>NaN</td>\n      <td>NaN</td>\n      <td>NaN</td>\n      <td>NaT</td>\n      <td>NaN</td>\n      <td>NaN</td>\n      <td>NaN</td>\n      <td>NaN</td>\n      <td>-1</td>\n    </tr>\n  </tbody>\n</table>\n</div>"
     },
     "metadata": {},
     "execution_count": 37
    }
   ],
   "source": [
    "df_credit['First_Find Ja'] = df_credit['First Name'].str.find('Ja')\n",
    "df_credit"
   ]
  },
  {
   "cell_type": "code",
   "execution_count": 38,
   "metadata": {},
   "outputs": [
    {
     "output_type": "execute_result",
     "data": {
      "text/plain": [
       "DatetimeIndex(['2020-06-05 00:00:00', '2020-06-06 00:00:00',\n",
       "               '2020-06-07 00:00:00', '2020-06-15 12:20:00'],\n",
       "              dtype='datetime64[ns]', freq=None)"
      ]
     },
     "metadata": {},
     "execution_count": 38
    }
   ],
   "source": [
    "pd.to_datetime(['2020-06-05', '6/6/2020', 'June 7,2020', '2020-06-15 12:20pm'])\n"
   ]
  }
 ]
}