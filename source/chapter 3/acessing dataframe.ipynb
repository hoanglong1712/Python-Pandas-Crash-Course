{
 "metadata": {
  "language_info": {
   "codemirror_mode": {
    "name": "ipython",
    "version": 3
   },
   "file_extension": ".py",
   "mimetype": "text/x-python",
   "name": "python",
   "nbconvert_exporter": "python",
   "pygments_lexer": "ipython3",
   "version": "3.7.6-final"
  },
  "orig_nbformat": 2,
  "kernelspec": {
   "name": "Python 3.7.6 64-bit",
   "display_name": "Python 3.7.6 64-bit",
   "metadata": {
    "interpreter": {
     "hash": "0533883d4b10e2e0e9042770828e2446211fda1fae3645fb8f264c38f1952f0d"
    }
   }
  }
 },
 "nbformat": 4,
 "nbformat_minor": 2,
 "cells": [
  {
   "cell_type": "code",
   "execution_count": 1,
   "metadata": {},
   "outputs": [],
   "source": [
    "import pandas as pd"
   ]
  },
  {
   "cell_type": "code",
   "execution_count": 37,
   "metadata": {},
   "outputs": [],
   "source": [
    "df_credit = pd.read_csv('https://www.littledataman.com/samples/credit.csv', parse_dates = ['Approval Date'])\n",
    "df_cards = pd.read_csv('https://www.littledataman.com/samples/cards.csv', parse_dates = ['Effective Date'])\n",
    "df_transactions = pd.read_csv('https://www.littledataman.com/samples/transactions.csv', parse_dates = ['Date'])\n"
   ]
  },
  {
   "cell_type": "code",
   "execution_count": 4,
   "metadata": {},
   "outputs": [
    {
     "output_type": "execute_result",
     "data": {
      "text/plain": [
       "(5, 7)"
      ]
     },
     "metadata": {},
     "execution_count": 4
    }
   ],
   "source": [
    "df_credit.shape"
   ]
  },
  {
   "cell_type": "code",
   "execution_count": 5,
   "metadata": {},
   "outputs": [
    {
     "output_type": "execute_result",
     "data": {
      "text/plain": [
       "<bound method DataFrame.info of   First Name Last Name  Credit Score  Credit Approval Card Name     Income  \\\n",
       "0      Jacky     White           825             True  Infinite  155000.62   \n",
       "1       Jane      Nize           810             True    Golden  120800.88   \n",
       "2      Henry      Tone           780             True    Golden   98000.58   \n",
       "3    Desmond     Black           750             True    Silver   54000.00   \n",
       "4     Eileen      Musk           620            False  Dividend   35000.00   \n",
       "\n",
       "        Approval Date  \n",
       "0 2019-09-13 12:00:00  \n",
       "1 2019-08-16 05:25:00  \n",
       "2 2020-05-06 12:00:00  \n",
       "3 2020-05-01 01:00:00  \n",
       "4                 NaT  >"
      ]
     },
     "metadata": {},
     "execution_count": 5
    }
   ],
   "source": [
    "df_credit.info"
   ]
  },
  {
   "cell_type": "code",
   "execution_count": 7,
   "metadata": {},
   "outputs": [
    {
     "output_type": "execute_result",
     "data": {
      "text/plain": [
       "  First Name Last Name  Credit Score  Credit Approval Card Name     Income  \\\n",
       "0      Jacky     White           825             True  Infinite  155000.62   \n",
       "1       Jane      Nize           810             True    Golden  120800.88   \n",
       "2      Henry      Tone           780             True    Golden   98000.58   \n",
       "3    Desmond     Black           750             True    Silver   54000.00   \n",
       "4     Eileen      Musk           620            False  Dividend   35000.00   \n",
       "\n",
       "        Approval Date  \n",
       "0 2019-09-13 12:00:00  \n",
       "1 2019-08-16 05:25:00  \n",
       "2 2020-05-06 12:00:00  \n",
       "3 2020-05-01 01:00:00  \n",
       "4                 NaT  "
      ],
      "text/html": "<div>\n<style scoped>\n    .dataframe tbody tr th:only-of-type {\n        vertical-align: middle;\n    }\n\n    .dataframe tbody tr th {\n        vertical-align: top;\n    }\n\n    .dataframe thead th {\n        text-align: right;\n    }\n</style>\n<table border=\"1\" class=\"dataframe\">\n  <thead>\n    <tr style=\"text-align: right;\">\n      <th></th>\n      <th>First Name</th>\n      <th>Last Name</th>\n      <th>Credit Score</th>\n      <th>Credit Approval</th>\n      <th>Card Name</th>\n      <th>Income</th>\n      <th>Approval Date</th>\n    </tr>\n  </thead>\n  <tbody>\n    <tr>\n      <th>0</th>\n      <td>Jacky</td>\n      <td>White</td>\n      <td>825</td>\n      <td>True</td>\n      <td>Infinite</td>\n      <td>155000.62</td>\n      <td>2019-09-13 12:00:00</td>\n    </tr>\n    <tr>\n      <th>1</th>\n      <td>Jane</td>\n      <td>Nize</td>\n      <td>810</td>\n      <td>True</td>\n      <td>Golden</td>\n      <td>120800.88</td>\n      <td>2019-08-16 05:25:00</td>\n    </tr>\n    <tr>\n      <th>2</th>\n      <td>Henry</td>\n      <td>Tone</td>\n      <td>780</td>\n      <td>True</td>\n      <td>Golden</td>\n      <td>98000.58</td>\n      <td>2020-05-06 12:00:00</td>\n    </tr>\n    <tr>\n      <th>3</th>\n      <td>Desmond</td>\n      <td>Black</td>\n      <td>750</td>\n      <td>True</td>\n      <td>Silver</td>\n      <td>54000.00</td>\n      <td>2020-05-01 01:00:00</td>\n    </tr>\n    <tr>\n      <th>4</th>\n      <td>Eileen</td>\n      <td>Musk</td>\n      <td>620</td>\n      <td>False</td>\n      <td>Dividend</td>\n      <td>35000.00</td>\n      <td>NaT</td>\n    </tr>\n  </tbody>\n</table>\n</div>"
     },
     "metadata": {},
     "execution_count": 7
    }
   ],
   "source": [
    "df_credit.head()"
   ]
  },
  {
   "cell_type": "code",
   "execution_count": 9,
   "metadata": {},
   "outputs": [
    {
     "output_type": "execute_result",
     "data": {
      "text/plain": [
       "       Credit Score         Income\n",
       "count       5.00000       5.000000\n",
       "mean      757.00000   92560.416000\n",
       "std        81.82298   48800.628682\n",
       "min       620.00000   35000.000000\n",
       "25%       750.00000   54000.000000\n",
       "50%       780.00000   98000.580000\n",
       "75%       810.00000  120800.880000\n",
       "max       825.00000  155000.620000"
      ],
      "text/html": "<div>\n<style scoped>\n    .dataframe tbody tr th:only-of-type {\n        vertical-align: middle;\n    }\n\n    .dataframe tbody tr th {\n        vertical-align: top;\n    }\n\n    .dataframe thead th {\n        text-align: right;\n    }\n</style>\n<table border=\"1\" class=\"dataframe\">\n  <thead>\n    <tr style=\"text-align: right;\">\n      <th></th>\n      <th>Credit Score</th>\n      <th>Income</th>\n    </tr>\n  </thead>\n  <tbody>\n    <tr>\n      <th>count</th>\n      <td>5.00000</td>\n      <td>5.000000</td>\n    </tr>\n    <tr>\n      <th>mean</th>\n      <td>757.00000</td>\n      <td>92560.416000</td>\n    </tr>\n    <tr>\n      <th>std</th>\n      <td>81.82298</td>\n      <td>48800.628682</td>\n    </tr>\n    <tr>\n      <th>min</th>\n      <td>620.00000</td>\n      <td>35000.000000</td>\n    </tr>\n    <tr>\n      <th>25%</th>\n      <td>750.00000</td>\n      <td>54000.000000</td>\n    </tr>\n    <tr>\n      <th>50%</th>\n      <td>780.00000</td>\n      <td>98000.580000</td>\n    </tr>\n    <tr>\n      <th>75%</th>\n      <td>810.00000</td>\n      <td>120800.880000</td>\n    </tr>\n    <tr>\n      <th>max</th>\n      <td>825.00000</td>\n      <td>155000.620000</td>\n    </tr>\n  </tbody>\n</table>\n</div>"
     },
     "metadata": {},
     "execution_count": 9
    }
   ],
   "source": [
    "df_credit.describe()"
   ]
  },
  {
   "cell_type": "code",
   "execution_count": 12,
   "metadata": {},
   "outputs": [
    {
     "output_type": "execute_result",
     "data": {
      "text/plain": [
       "RangeIndex(start=0, stop=5, step=1)"
      ]
     },
     "metadata": {},
     "execution_count": 12
    }
   ],
   "source": [
    "df_credit.index"
   ]
  },
  {
   "cell_type": "code",
   "execution_count": 13,
   "metadata": {},
   "outputs": [
    {
     "output_type": "execute_result",
     "data": {
      "text/plain": [
       "  First Name Last Name  Credit Score  Credit Approval Card Name     Income  \\\n",
       "0      Jacky     White           825             True  Infinite  155000.62   \n",
       "1       Jane      Nize           810             True    Golden  120800.88   \n",
       "2      Henry      Tone           780             True    Golden   98000.58   \n",
       "3    Desmond     Black           750             True    Silver   54000.00   \n",
       "4     Eileen      Musk           620            False  Dividend   35000.00   \n",
       "\n",
       "        Approval Date  \n",
       "0 2019-09-13 12:00:00  \n",
       "1 2019-08-16 05:25:00  \n",
       "2 2020-05-06 12:00:00  \n",
       "3 2020-05-01 01:00:00  \n",
       "4                 NaT  "
      ],
      "text/html": "<div>\n<style scoped>\n    .dataframe tbody tr th:only-of-type {\n        vertical-align: middle;\n    }\n\n    .dataframe tbody tr th {\n        vertical-align: top;\n    }\n\n    .dataframe thead th {\n        text-align: right;\n    }\n</style>\n<table border=\"1\" class=\"dataframe\">\n  <thead>\n    <tr style=\"text-align: right;\">\n      <th></th>\n      <th>First Name</th>\n      <th>Last Name</th>\n      <th>Credit Score</th>\n      <th>Credit Approval</th>\n      <th>Card Name</th>\n      <th>Income</th>\n      <th>Approval Date</th>\n    </tr>\n  </thead>\n  <tbody>\n    <tr>\n      <th>0</th>\n      <td>Jacky</td>\n      <td>White</td>\n      <td>825</td>\n      <td>True</td>\n      <td>Infinite</td>\n      <td>155000.62</td>\n      <td>2019-09-13 12:00:00</td>\n    </tr>\n    <tr>\n      <th>1</th>\n      <td>Jane</td>\n      <td>Nize</td>\n      <td>810</td>\n      <td>True</td>\n      <td>Golden</td>\n      <td>120800.88</td>\n      <td>2019-08-16 05:25:00</td>\n    </tr>\n    <tr>\n      <th>2</th>\n      <td>Henry</td>\n      <td>Tone</td>\n      <td>780</td>\n      <td>True</td>\n      <td>Golden</td>\n      <td>98000.58</td>\n      <td>2020-05-06 12:00:00</td>\n    </tr>\n    <tr>\n      <th>3</th>\n      <td>Desmond</td>\n      <td>Black</td>\n      <td>750</td>\n      <td>True</td>\n      <td>Silver</td>\n      <td>54000.00</td>\n      <td>2020-05-01 01:00:00</td>\n    </tr>\n    <tr>\n      <th>4</th>\n      <td>Eileen</td>\n      <td>Musk</td>\n      <td>620</td>\n      <td>False</td>\n      <td>Dividend</td>\n      <td>35000.00</td>\n      <td>NaT</td>\n    </tr>\n  </tbody>\n</table>\n</div>"
     },
     "metadata": {},
     "execution_count": 13
    }
   ],
   "source": [
    "df_credit"
   ]
  },
  {
   "cell_type": "code",
   "execution_count": 16,
   "metadata": {},
   "outputs": [
    {
     "output_type": "error",
     "ename": "KeyError",
     "evalue": "\"None of ['Card Name'] are in the columns\"",
     "traceback": [
      "\u001b[1;31m---------------------------------------------------------------------------\u001b[0m",
      "\u001b[1;31mKeyError\u001b[0m                                  Traceback (most recent call last)",
      "\u001b[1;32m<ipython-input-16-8ca68d690e82>\u001b[0m in \u001b[0;36m<module>\u001b[1;34m\u001b[0m\n\u001b[1;32m----> 1\u001b[1;33m \u001b[0mdf_credit\u001b[0m\u001b[1;33m.\u001b[0m\u001b[0mset_index\u001b[0m\u001b[1;33m(\u001b[0m\u001b[1;34m'Card Name'\u001b[0m\u001b[1;33m,\u001b[0m \u001b[0minplace\u001b[0m\u001b[1;33m=\u001b[0m\u001b[1;32mTrue\u001b[0m\u001b[1;33m)\u001b[0m\u001b[1;33m\u001b[0m\u001b[1;33m\u001b[0m\u001b[0m\n\u001b[0m\u001b[0;32m      2\u001b[0m \u001b[0mdf_credit\u001b[0m\u001b[1;33m\u001b[0m\u001b[1;33m\u001b[0m\u001b[0m\n",
      "\u001b[1;32mJ:\\Programs\\Python\\Python3\\lib\\site-packages\\pandas\\core\\frame.py\u001b[0m in \u001b[0;36mset_index\u001b[1;34m(self, keys, drop, append, inplace, verify_integrity)\u001b[0m\n\u001b[0;32m   4301\u001b[0m \u001b[1;33m\u001b[0m\u001b[0m\n\u001b[0;32m   4302\u001b[0m         \u001b[1;32mif\u001b[0m \u001b[0mmissing\u001b[0m\u001b[1;33m:\u001b[0m\u001b[1;33m\u001b[0m\u001b[1;33m\u001b[0m\u001b[0m\n\u001b[1;32m-> 4303\u001b[1;33m             \u001b[1;32mraise\u001b[0m \u001b[0mKeyError\u001b[0m\u001b[1;33m(\u001b[0m\u001b[1;34mf\"None of {missing} are in the columns\"\u001b[0m\u001b[1;33m)\u001b[0m\u001b[1;33m\u001b[0m\u001b[1;33m\u001b[0m\u001b[0m\n\u001b[0m\u001b[0;32m   4304\u001b[0m \u001b[1;33m\u001b[0m\u001b[0m\n\u001b[0;32m   4305\u001b[0m         \u001b[1;32mif\u001b[0m \u001b[0minplace\u001b[0m\u001b[1;33m:\u001b[0m\u001b[1;33m\u001b[0m\u001b[1;33m\u001b[0m\u001b[0m\n",
      "\u001b[1;31mKeyError\u001b[0m: \"None of ['Card Name'] are in the columns\""
     ]
    }
   ],
   "source": [
    "df_credit.set_index('Card Name', inplace=True)"
   ]
  },
  {
   "cell_type": "code",
   "execution_count": 17,
   "metadata": {},
   "outputs": [
    {
     "output_type": "execute_result",
     "data": {
      "text/plain": [
       "          First Name Last Name  Credit Score  Credit Approval     Income  \\\n",
       "Card Name                                                                  \n",
       "Infinite       Jacky     White           825             True  155000.62   \n",
       "Golden          Jane      Nize           810             True  120800.88   \n",
       "Golden         Henry      Tone           780             True   98000.58   \n",
       "Silver       Desmond     Black           750             True   54000.00   \n",
       "Dividend      Eileen      Musk           620            False   35000.00   \n",
       "\n",
       "                Approval Date  \n",
       "Card Name                      \n",
       "Infinite  2019-09-13 12:00:00  \n",
       "Golden    2019-08-16 05:25:00  \n",
       "Golden    2020-05-06 12:00:00  \n",
       "Silver    2020-05-01 01:00:00  \n",
       "Dividend                  NaT  "
      ],
      "text/html": "<div>\n<style scoped>\n    .dataframe tbody tr th:only-of-type {\n        vertical-align: middle;\n    }\n\n    .dataframe tbody tr th {\n        vertical-align: top;\n    }\n\n    .dataframe thead th {\n        text-align: right;\n    }\n</style>\n<table border=\"1\" class=\"dataframe\">\n  <thead>\n    <tr style=\"text-align: right;\">\n      <th></th>\n      <th>First Name</th>\n      <th>Last Name</th>\n      <th>Credit Score</th>\n      <th>Credit Approval</th>\n      <th>Income</th>\n      <th>Approval Date</th>\n    </tr>\n    <tr>\n      <th>Card Name</th>\n      <th></th>\n      <th></th>\n      <th></th>\n      <th></th>\n      <th></th>\n      <th></th>\n    </tr>\n  </thead>\n  <tbody>\n    <tr>\n      <th>Infinite</th>\n      <td>Jacky</td>\n      <td>White</td>\n      <td>825</td>\n      <td>True</td>\n      <td>155000.62</td>\n      <td>2019-09-13 12:00:00</td>\n    </tr>\n    <tr>\n      <th>Golden</th>\n      <td>Jane</td>\n      <td>Nize</td>\n      <td>810</td>\n      <td>True</td>\n      <td>120800.88</td>\n      <td>2019-08-16 05:25:00</td>\n    </tr>\n    <tr>\n      <th>Golden</th>\n      <td>Henry</td>\n      <td>Tone</td>\n      <td>780</td>\n      <td>True</td>\n      <td>98000.58</td>\n      <td>2020-05-06 12:00:00</td>\n    </tr>\n    <tr>\n      <th>Silver</th>\n      <td>Desmond</td>\n      <td>Black</td>\n      <td>750</td>\n      <td>True</td>\n      <td>54000.00</td>\n      <td>2020-05-01 01:00:00</td>\n    </tr>\n    <tr>\n      <th>Dividend</th>\n      <td>Eileen</td>\n      <td>Musk</td>\n      <td>620</td>\n      <td>False</td>\n      <td>35000.00</td>\n      <td>NaT</td>\n    </tr>\n  </tbody>\n</table>\n</div>"
     },
     "metadata": {},
     "execution_count": 17
    }
   ],
   "source": [
    "df_credit"
   ]
  },
  {
   "cell_type": "code",
   "execution_count": 20,
   "metadata": {},
   "outputs": [
    {
     "output_type": "execute_result",
     "data": {
      "text/plain": [
       "Index(['Infinite', 'Golden', 'Golden', 'Silver', 'Dividend'], dtype='object', name='Card Name')"
      ]
     },
     "metadata": {},
     "execution_count": 20
    }
   ],
   "source": [
    "df_credit.index"
   ]
  },
  {
   "cell_type": "code",
   "execution_count": 21,
   "metadata": {},
   "outputs": [],
   "source": [
    "df_credit.reset_index(inplace=True)\n",
    "df_credit.set_index(['First Name', 'Last Name'], inplace = True)"
   ]
  },
  {
   "cell_type": "code",
   "execution_count": 22,
   "metadata": {},
   "outputs": [
    {
     "output_type": "execute_result",
     "data": {
      "text/plain": [
       "                      Credit Score  Credit Approval     Income  \\\n",
       "First Name Last Name                                             \n",
       "Jacky      White               825             True  155000.62   \n",
       "Jane       Nize                810             True  120800.88   \n",
       "Henry      Tone                780             True   98000.58   \n",
       "Desmond    Black               750             True   54000.00   \n",
       "Eileen     Musk                620            False   35000.00   \n",
       "\n",
       "                           Approval Date  \n",
       "First Name Last Name                      \n",
       "Jacky      White     2019-09-13 12:00:00  \n",
       "Jane       Nize      2019-08-16 05:25:00  \n",
       "Henry      Tone      2020-05-06 12:00:00  \n",
       "Desmond    Black     2020-05-01 01:00:00  \n",
       "Eileen     Musk                      NaT  "
      ],
      "text/html": "<div>\n<style scoped>\n    .dataframe tbody tr th:only-of-type {\n        vertical-align: middle;\n    }\n\n    .dataframe tbody tr th {\n        vertical-align: top;\n    }\n\n    .dataframe thead th {\n        text-align: right;\n    }\n</style>\n<table border=\"1\" class=\"dataframe\">\n  <thead>\n    <tr style=\"text-align: right;\">\n      <th></th>\n      <th></th>\n      <th>Credit Score</th>\n      <th>Credit Approval</th>\n      <th>Income</th>\n      <th>Approval Date</th>\n    </tr>\n    <tr>\n      <th>First Name</th>\n      <th>Last Name</th>\n      <th></th>\n      <th></th>\n      <th></th>\n      <th></th>\n    </tr>\n  </thead>\n  <tbody>\n    <tr>\n      <th>Jacky</th>\n      <th>White</th>\n      <td>825</td>\n      <td>True</td>\n      <td>155000.62</td>\n      <td>2019-09-13 12:00:00</td>\n    </tr>\n    <tr>\n      <th>Jane</th>\n      <th>Nize</th>\n      <td>810</td>\n      <td>True</td>\n      <td>120800.88</td>\n      <td>2019-08-16 05:25:00</td>\n    </tr>\n    <tr>\n      <th>Henry</th>\n      <th>Tone</th>\n      <td>780</td>\n      <td>True</td>\n      <td>98000.58</td>\n      <td>2020-05-06 12:00:00</td>\n    </tr>\n    <tr>\n      <th>Desmond</th>\n      <th>Black</th>\n      <td>750</td>\n      <td>True</td>\n      <td>54000.00</td>\n      <td>2020-05-01 01:00:00</td>\n    </tr>\n    <tr>\n      <th>Eileen</th>\n      <th>Musk</th>\n      <td>620</td>\n      <td>False</td>\n      <td>35000.00</td>\n      <td>NaT</td>\n    </tr>\n  </tbody>\n</table>\n</div>"
     },
     "metadata": {},
     "execution_count": 22
    }
   ],
   "source": [
    "df_credit"
   ]
  },
  {
   "cell_type": "code",
   "execution_count": 24,
   "metadata": {},
   "outputs": [
    {
     "output_type": "execute_result",
     "data": {
      "text/plain": [
       "Credit Score                       825\n",
       "Credit Approval                   True\n",
       "Income                          155001\n",
       "Approval Date      2019-09-13 12:00:00\n",
       "Name: (Jacky, White), dtype: object"
      ]
     },
     "metadata": {},
     "execution_count": 24
    }
   ],
   "source": [
    "df_credit.loc[('Jacky', 'White'), :]"
   ]
  },
  {
   "cell_type": "code",
   "execution_count": 25,
   "metadata": {},
   "outputs": [
    {
     "output_type": "execute_result",
     "data": {
      "text/plain": [
       "First Name  Last Name\n",
       "Jacky       White        825\n",
       "Jane        Nize         810\n",
       "Henry       Tone         780\n",
       "Desmond     Black        750\n",
       "Eileen      Musk         620\n",
       "Name: Credit Score, dtype: int64"
      ]
     },
     "metadata": {},
     "execution_count": 25
    }
   ],
   "source": [
    "df_credit.loc[: , 'Credit Score']"
   ]
  },
  {
   "cell_type": "code",
   "execution_count": 26,
   "metadata": {},
   "outputs": [],
   "source": [
    "df_credit.reset_index(inplace=True)"
   ]
  },
  {
   "cell_type": "code",
   "execution_count": 27,
   "metadata": {},
   "outputs": [
    {
     "output_type": "execute_result",
     "data": {
      "text/plain": [
       "  First Name Last Name  Credit Score  Credit Approval     Income  \\\n",
       "0      Jacky     White           825             True  155000.62   \n",
       "1       Jane      Nize           810             True  120800.88   \n",
       "2      Henry      Tone           780             True   98000.58   \n",
       "3    Desmond     Black           750             True   54000.00   \n",
       "4     Eileen      Musk           620            False   35000.00   \n",
       "\n",
       "        Approval Date  \n",
       "0 2019-09-13 12:00:00  \n",
       "1 2019-08-16 05:25:00  \n",
       "2 2020-05-06 12:00:00  \n",
       "3 2020-05-01 01:00:00  \n",
       "4                 NaT  "
      ],
      "text/html": "<div>\n<style scoped>\n    .dataframe tbody tr th:only-of-type {\n        vertical-align: middle;\n    }\n\n    .dataframe tbody tr th {\n        vertical-align: top;\n    }\n\n    .dataframe thead th {\n        text-align: right;\n    }\n</style>\n<table border=\"1\" class=\"dataframe\">\n  <thead>\n    <tr style=\"text-align: right;\">\n      <th></th>\n      <th>First Name</th>\n      <th>Last Name</th>\n      <th>Credit Score</th>\n      <th>Credit Approval</th>\n      <th>Income</th>\n      <th>Approval Date</th>\n    </tr>\n  </thead>\n  <tbody>\n    <tr>\n      <th>0</th>\n      <td>Jacky</td>\n      <td>White</td>\n      <td>825</td>\n      <td>True</td>\n      <td>155000.62</td>\n      <td>2019-09-13 12:00:00</td>\n    </tr>\n    <tr>\n      <th>1</th>\n      <td>Jane</td>\n      <td>Nize</td>\n      <td>810</td>\n      <td>True</td>\n      <td>120800.88</td>\n      <td>2019-08-16 05:25:00</td>\n    </tr>\n    <tr>\n      <th>2</th>\n      <td>Henry</td>\n      <td>Tone</td>\n      <td>780</td>\n      <td>True</td>\n      <td>98000.58</td>\n      <td>2020-05-06 12:00:00</td>\n    </tr>\n    <tr>\n      <th>3</th>\n      <td>Desmond</td>\n      <td>Black</td>\n      <td>750</td>\n      <td>True</td>\n      <td>54000.00</td>\n      <td>2020-05-01 01:00:00</td>\n    </tr>\n    <tr>\n      <th>4</th>\n      <td>Eileen</td>\n      <td>Musk</td>\n      <td>620</td>\n      <td>False</td>\n      <td>35000.00</td>\n      <td>NaT</td>\n    </tr>\n  </tbody>\n</table>\n</div>"
     },
     "metadata": {},
     "execution_count": 27
    }
   ],
   "source": [
    "df_credit"
   ]
  },
  {
   "cell_type": "code",
   "execution_count": 28,
   "metadata": {},
   "outputs": [
    {
     "output_type": "execute_result",
     "data": {
      "text/plain": [
       "0      Jacky\n",
       "1       Jane\n",
       "2      Henry\n",
       "3    Desmond\n",
       "4     Eileen\n",
       "Name: First Name, dtype: object"
      ]
     },
     "metadata": {},
     "execution_count": 28
    }
   ],
   "source": [
    "df_credit['First Name']\n"
   ]
  },
  {
   "cell_type": "code",
   "execution_count": 29,
   "metadata": {},
   "outputs": [
    {
     "output_type": "execute_result",
     "data": {
      "text/plain": [
       "0    155000.62\n",
       "1    120800.88\n",
       "2     98000.58\n",
       "3     54000.00\n",
       "4     35000.00\n",
       "Name: Income, dtype: float64"
      ]
     },
     "metadata": {},
     "execution_count": 29
    }
   ],
   "source": [
    "df_credit.Income"
   ]
  },
  {
   "cell_type": "code",
   "execution_count": 30,
   "metadata": {},
   "outputs": [
    {
     "output_type": "execute_result",
     "data": {
      "text/plain": [
       "  First Name Last Name  Credit Approval\n",
       "0      Jacky     White             True\n",
       "1       Jane      Nize             True\n",
       "2      Henry      Tone             True\n",
       "3    Desmond     Black             True\n",
       "4     Eileen      Musk            False"
      ],
      "text/html": "<div>\n<style scoped>\n    .dataframe tbody tr th:only-of-type {\n        vertical-align: middle;\n    }\n\n    .dataframe tbody tr th {\n        vertical-align: top;\n    }\n\n    .dataframe thead th {\n        text-align: right;\n    }\n</style>\n<table border=\"1\" class=\"dataframe\">\n  <thead>\n    <tr style=\"text-align: right;\">\n      <th></th>\n      <th>First Name</th>\n      <th>Last Name</th>\n      <th>Credit Approval</th>\n    </tr>\n  </thead>\n  <tbody>\n    <tr>\n      <th>0</th>\n      <td>Jacky</td>\n      <td>White</td>\n      <td>True</td>\n    </tr>\n    <tr>\n      <th>1</th>\n      <td>Jane</td>\n      <td>Nize</td>\n      <td>True</td>\n    </tr>\n    <tr>\n      <th>2</th>\n      <td>Henry</td>\n      <td>Tone</td>\n      <td>True</td>\n    </tr>\n    <tr>\n      <th>3</th>\n      <td>Desmond</td>\n      <td>Black</td>\n      <td>True</td>\n    </tr>\n    <tr>\n      <th>4</th>\n      <td>Eileen</td>\n      <td>Musk</td>\n      <td>False</td>\n    </tr>\n  </tbody>\n</table>\n</div>"
     },
     "metadata": {},
     "execution_count": 30
    }
   ],
   "source": [
    "df_credit[['First Name', 'Last Name', 'Credit Approval']]"
   ]
  },
  {
   "cell_type": "code",
   "execution_count": 31,
   "metadata": {},
   "outputs": [
    {
     "output_type": "execute_result",
     "data": {
      "text/plain": [
       "'Jane'"
      ]
     },
     "metadata": {},
     "execution_count": 31
    }
   ],
   "source": [
    "s = df_credit['First Name']\n",
    "s[1]"
   ]
  },
  {
   "cell_type": "code",
   "execution_count": 34,
   "metadata": {},
   "outputs": [
    {
     "output_type": "execute_result",
     "data": {
      "text/plain": [
       "1      Jane\n",
       "4    Eileen\n",
       "Name: First Name, dtype: object"
      ]
     },
     "metadata": {},
     "execution_count": 34
    }
   ],
   "source": [
    "s[[1,4]]"
   ]
  },
  {
   "cell_type": "code",
   "execution_count": 35,
   "metadata": {},
   "outputs": [
    {
     "output_type": "execute_result",
     "data": {
      "text/plain": [
       "  First Name Last Name  Credit Score  Credit Approval    Income  \\\n",
       "2      Henry      Tone           780             True  98000.58   \n",
       "3    Desmond     Black           750             True  54000.00   \n",
       "\n",
       "        Approval Date  \n",
       "2 2020-05-06 12:00:00  \n",
       "3 2020-05-01 01:00:00  "
      ],
      "text/html": "<div>\n<style scoped>\n    .dataframe tbody tr th:only-of-type {\n        vertical-align: middle;\n    }\n\n    .dataframe tbody tr th {\n        vertical-align: top;\n    }\n\n    .dataframe thead th {\n        text-align: right;\n    }\n</style>\n<table border=\"1\" class=\"dataframe\">\n  <thead>\n    <tr style=\"text-align: right;\">\n      <th></th>\n      <th>First Name</th>\n      <th>Last Name</th>\n      <th>Credit Score</th>\n      <th>Credit Approval</th>\n      <th>Income</th>\n      <th>Approval Date</th>\n    </tr>\n  </thead>\n  <tbody>\n    <tr>\n      <th>2</th>\n      <td>Henry</td>\n      <td>Tone</td>\n      <td>780</td>\n      <td>True</td>\n      <td>98000.58</td>\n      <td>2020-05-06 12:00:00</td>\n    </tr>\n    <tr>\n      <th>3</th>\n      <td>Desmond</td>\n      <td>Black</td>\n      <td>750</td>\n      <td>True</td>\n      <td>54000.00</td>\n      <td>2020-05-01 01:00:00</td>\n    </tr>\n  </tbody>\n</table>\n</div>"
     },
     "metadata": {},
     "execution_count": 35
    }
   ],
   "source": [
    "df_credit[2:4]"
   ]
  },
  {
   "cell_type": "code",
   "execution_count": 38,
   "metadata": {},
   "outputs": [
    {
     "output_type": "execute_result",
     "data": {
      "text/plain": [
       "          First Name Last Name  Credit Score  Credit Approval     Income  \\\n",
       "Card Name                                                                  \n",
       "Golden          Jane      Nize           810             True  120800.88   \n",
       "Golden         Henry      Tone           780             True   98000.58   \n",
       "\n",
       "                Approval Date  \n",
       "Card Name                      \n",
       "Golden    2019-08-16 05:25:00  \n",
       "Golden    2020-05-06 12:00:00  "
      ],
      "text/html": "<div>\n<style scoped>\n    .dataframe tbody tr th:only-of-type {\n        vertical-align: middle;\n    }\n\n    .dataframe tbody tr th {\n        vertical-align: top;\n    }\n\n    .dataframe thead th {\n        text-align: right;\n    }\n</style>\n<table border=\"1\" class=\"dataframe\">\n  <thead>\n    <tr style=\"text-align: right;\">\n      <th></th>\n      <th>First Name</th>\n      <th>Last Name</th>\n      <th>Credit Score</th>\n      <th>Credit Approval</th>\n      <th>Income</th>\n      <th>Approval Date</th>\n    </tr>\n    <tr>\n      <th>Card Name</th>\n      <th></th>\n      <th></th>\n      <th></th>\n      <th></th>\n      <th></th>\n      <th></th>\n    </tr>\n  </thead>\n  <tbody>\n    <tr>\n      <th>Golden</th>\n      <td>Jane</td>\n      <td>Nize</td>\n      <td>810</td>\n      <td>True</td>\n      <td>120800.88</td>\n      <td>2019-08-16 05:25:00</td>\n    </tr>\n    <tr>\n      <th>Golden</th>\n      <td>Henry</td>\n      <td>Tone</td>\n      <td>780</td>\n      <td>True</td>\n      <td>98000.58</td>\n      <td>2020-05-06 12:00:00</td>\n    </tr>\n  </tbody>\n</table>\n</div>"
     },
     "metadata": {},
     "execution_count": 38
    }
   ],
   "source": [
    "df_credit.set_index( 'Card Name', inplace = True)\n",
    "df_credit.loc['Golden',:]"
   ]
  },
  {
   "cell_type": "code",
   "execution_count": 39,
   "metadata": {},
   "outputs": [
    {
     "output_type": "execute_result",
     "data": {
      "text/plain": [
       "          First Name Last Name  Credit Score  Credit Approval     Income  \\\n",
       "Card Name                                                                  \n",
       "Infinite       Jacky     White           825             True  155000.62   \n",
       "Golden          Jane      Nize           810             True  120800.88   \n",
       "Golden         Henry      Tone           780             True   98000.58   \n",
       "Silver       Desmond     Black           750             True   54000.00   \n",
       "Dividend      Eileen      Musk           620            False   35000.00   \n",
       "\n",
       "                Approval Date  \n",
       "Card Name                      \n",
       "Infinite  2019-09-13 12:00:00  \n",
       "Golden    2019-08-16 05:25:00  \n",
       "Golden    2020-05-06 12:00:00  \n",
       "Silver    2020-05-01 01:00:00  \n",
       "Dividend                  NaT  "
      ],
      "text/html": "<div>\n<style scoped>\n    .dataframe tbody tr th:only-of-type {\n        vertical-align: middle;\n    }\n\n    .dataframe tbody tr th {\n        vertical-align: top;\n    }\n\n    .dataframe thead th {\n        text-align: right;\n    }\n</style>\n<table border=\"1\" class=\"dataframe\">\n  <thead>\n    <tr style=\"text-align: right;\">\n      <th></th>\n      <th>First Name</th>\n      <th>Last Name</th>\n      <th>Credit Score</th>\n      <th>Credit Approval</th>\n      <th>Income</th>\n      <th>Approval Date</th>\n    </tr>\n    <tr>\n      <th>Card Name</th>\n      <th></th>\n      <th></th>\n      <th></th>\n      <th></th>\n      <th></th>\n      <th></th>\n    </tr>\n  </thead>\n  <tbody>\n    <tr>\n      <th>Infinite</th>\n      <td>Jacky</td>\n      <td>White</td>\n      <td>825</td>\n      <td>True</td>\n      <td>155000.62</td>\n      <td>2019-09-13 12:00:00</td>\n    </tr>\n    <tr>\n      <th>Golden</th>\n      <td>Jane</td>\n      <td>Nize</td>\n      <td>810</td>\n      <td>True</td>\n      <td>120800.88</td>\n      <td>2019-08-16 05:25:00</td>\n    </tr>\n    <tr>\n      <th>Golden</th>\n      <td>Henry</td>\n      <td>Tone</td>\n      <td>780</td>\n      <td>True</td>\n      <td>98000.58</td>\n      <td>2020-05-06 12:00:00</td>\n    </tr>\n    <tr>\n      <th>Silver</th>\n      <td>Desmond</td>\n      <td>Black</td>\n      <td>750</td>\n      <td>True</td>\n      <td>54000.00</td>\n      <td>2020-05-01 01:00:00</td>\n    </tr>\n    <tr>\n      <th>Dividend</th>\n      <td>Eileen</td>\n      <td>Musk</td>\n      <td>620</td>\n      <td>False</td>\n      <td>35000.00</td>\n      <td>NaT</td>\n    </tr>\n  </tbody>\n</table>\n</div>"
     },
     "metadata": {},
     "execution_count": 39
    }
   ],
   "source": [
    "df_credit"
   ]
  },
  {
   "cell_type": "code",
   "execution_count": 40,
   "metadata": {},
   "outputs": [
    {
     "output_type": "execute_result",
     "data": {
      "text/plain": [
       "          First Name Last Name     Income       Approval Date\n",
       "Card Name                                                    \n",
       "Golden          Jane      Nize  120800.88 2019-08-16 05:25:00\n",
       "Golden         Henry      Tone   98000.58 2020-05-06 12:00:00"
      ],
      "text/html": "<div>\n<style scoped>\n    .dataframe tbody tr th:only-of-type {\n        vertical-align: middle;\n    }\n\n    .dataframe tbody tr th {\n        vertical-align: top;\n    }\n\n    .dataframe thead th {\n        text-align: right;\n    }\n</style>\n<table border=\"1\" class=\"dataframe\">\n  <thead>\n    <tr style=\"text-align: right;\">\n      <th></th>\n      <th>First Name</th>\n      <th>Last Name</th>\n      <th>Income</th>\n      <th>Approval Date</th>\n    </tr>\n    <tr>\n      <th>Card Name</th>\n      <th></th>\n      <th></th>\n      <th></th>\n      <th></th>\n    </tr>\n  </thead>\n  <tbody>\n    <tr>\n      <th>Golden</th>\n      <td>Jane</td>\n      <td>Nize</td>\n      <td>120800.88</td>\n      <td>2019-08-16 05:25:00</td>\n    </tr>\n    <tr>\n      <th>Golden</th>\n      <td>Henry</td>\n      <td>Tone</td>\n      <td>98000.58</td>\n      <td>2020-05-06 12:00:00</td>\n    </tr>\n  </tbody>\n</table>\n</div>"
     },
     "metadata": {},
     "execution_count": 40
    }
   ],
   "source": [
    "df_credit.loc['Golden',['First Name', 'Last Name', 'Income', 'Approval Date']]"
   ]
  },
  {
   "cell_type": "code",
   "execution_count": 41,
   "metadata": {},
   "outputs": [
    {
     "output_type": "execute_result",
     "data": {
      "text/plain": [
       "780"
      ]
     },
     "metadata": {},
     "execution_count": 41
    }
   ],
   "source": [
    "df_credit.iloc[2,2]"
   ]
  },
  {
   "cell_type": "code",
   "execution_count": 42,
   "metadata": {},
   "outputs": [
    {
     "output_type": "execute_result",
     "data": {
      "text/plain": [
       "          First Name Last Name  Credit Score\n",
       "Card Name                                   \n",
       "Infinite       Jacky     White           825\n",
       "Golden         Henry      Tone           780"
      ],
      "text/html": "<div>\n<style scoped>\n    .dataframe tbody tr th:only-of-type {\n        vertical-align: middle;\n    }\n\n    .dataframe tbody tr th {\n        vertical-align: top;\n    }\n\n    .dataframe thead th {\n        text-align: right;\n    }\n</style>\n<table border=\"1\" class=\"dataframe\">\n  <thead>\n    <tr style=\"text-align: right;\">\n      <th></th>\n      <th>First Name</th>\n      <th>Last Name</th>\n      <th>Credit Score</th>\n    </tr>\n    <tr>\n      <th>Card Name</th>\n      <th></th>\n      <th></th>\n      <th></th>\n    </tr>\n  </thead>\n  <tbody>\n    <tr>\n      <th>Infinite</th>\n      <td>Jacky</td>\n      <td>White</td>\n      <td>825</td>\n    </tr>\n    <tr>\n      <th>Golden</th>\n      <td>Henry</td>\n      <td>Tone</td>\n      <td>780</td>\n    </tr>\n  </tbody>\n</table>\n</div>"
     },
     "metadata": {},
     "execution_count": 42
    }
   ],
   "source": [
    "df_credit.iloc[[0,2],[0,1,2]]"
   ]
  },
  {
   "cell_type": "code",
   "execution_count": 43,
   "metadata": {},
   "outputs": [
    {
     "output_type": "execute_result",
     "data": {
      "text/plain": [
       "          First Name Last Name  Credit Score  Credit Approval     Income  \\\n",
       "Card Name                                                                  \n",
       "Infinite       Jacky     White           825             True  155000.62   \n",
       "Golden          Jane      Nize           810             True  120800.88   \n",
       "\n",
       "                Approval Date  \n",
       "Card Name                      \n",
       "Infinite  2019-09-13 12:00:00  \n",
       "Golden    2019-08-16 05:25:00  "
      ],
      "text/html": "<div>\n<style scoped>\n    .dataframe tbody tr th:only-of-type {\n        vertical-align: middle;\n    }\n\n    .dataframe tbody tr th {\n        vertical-align: top;\n    }\n\n    .dataframe thead th {\n        text-align: right;\n    }\n</style>\n<table border=\"1\" class=\"dataframe\">\n  <thead>\n    <tr style=\"text-align: right;\">\n      <th></th>\n      <th>First Name</th>\n      <th>Last Name</th>\n      <th>Credit Score</th>\n      <th>Credit Approval</th>\n      <th>Income</th>\n      <th>Approval Date</th>\n    </tr>\n    <tr>\n      <th>Card Name</th>\n      <th></th>\n      <th></th>\n      <th></th>\n      <th></th>\n      <th></th>\n      <th></th>\n    </tr>\n  </thead>\n  <tbody>\n    <tr>\n      <th>Infinite</th>\n      <td>Jacky</td>\n      <td>White</td>\n      <td>825</td>\n      <td>True</td>\n      <td>155000.62</td>\n      <td>2019-09-13 12:00:00</td>\n    </tr>\n    <tr>\n      <th>Golden</th>\n      <td>Jane</td>\n      <td>Nize</td>\n      <td>810</td>\n      <td>True</td>\n      <td>120800.88</td>\n      <td>2019-08-16 05:25:00</td>\n    </tr>\n  </tbody>\n</table>\n</div>"
     },
     "metadata": {},
     "execution_count": 43
    }
   ],
   "source": [
    "df_credit.iloc[0:2,:]"
   ]
  },
  {
   "cell_type": "code",
   "execution_count": 45,
   "metadata": {},
   "outputs": [
    {
     "output_type": "execute_result",
     "data": {
      "text/plain": [
       "  Card Name First Name Last Name  Credit Score  Credit Approval     Income  \\\n",
       "1    Golden       Jane      Nize           810             True  120800.88   \n",
       "2    Golden      Henry      Tone           780             True   98000.58   \n",
       "\n",
       "        Approval Date  \n",
       "1 2019-08-16 05:25:00  \n",
       "2 2020-05-06 12:00:00  "
      ],
      "text/html": "<div>\n<style scoped>\n    .dataframe tbody tr th:only-of-type {\n        vertical-align: middle;\n    }\n\n    .dataframe tbody tr th {\n        vertical-align: top;\n    }\n\n    .dataframe thead th {\n        text-align: right;\n    }\n</style>\n<table border=\"1\" class=\"dataframe\">\n  <thead>\n    <tr style=\"text-align: right;\">\n      <th></th>\n      <th>Card Name</th>\n      <th>First Name</th>\n      <th>Last Name</th>\n      <th>Credit Score</th>\n      <th>Credit Approval</th>\n      <th>Income</th>\n      <th>Approval Date</th>\n    </tr>\n  </thead>\n  <tbody>\n    <tr>\n      <th>1</th>\n      <td>Golden</td>\n      <td>Jane</td>\n      <td>Nize</td>\n      <td>810</td>\n      <td>True</td>\n      <td>120800.88</td>\n      <td>2019-08-16 05:25:00</td>\n    </tr>\n    <tr>\n      <th>2</th>\n      <td>Golden</td>\n      <td>Henry</td>\n      <td>Tone</td>\n      <td>780</td>\n      <td>True</td>\n      <td>98000.58</td>\n      <td>2020-05-06 12:00:00</td>\n    </tr>\n  </tbody>\n</table>\n</div>"
     },
     "metadata": {},
     "execution_count": 45
    }
   ],
   "source": [
    "df_credit.reset_index(inplace=True)\n",
    "df_credit.loc[df_credit['Card Name']=='Golden']"
   ]
  },
  {
   "cell_type": "code",
   "execution_count": 56,
   "metadata": {},
   "outputs": [
    {
     "output_type": "execute_result",
     "data": {
      "text/plain": [
       "  Card Name First Name Last Name  Credit Score  Credit Approval     Income  \\\n",
       "0  Infinite      Jacky     White           825             True  155000.62   \n",
       "3    Silver    Desmond     Black           750             True   54000.00   \n",
       "4  Dividend     Eileen      Musk           620            False   35000.00   \n",
       "\n",
       "        Approval Date  \n",
       "0 2019-09-13 12:00:00  \n",
       "3 2020-05-01 01:00:00  \n",
       "4                 NaT  "
      ],
      "text/html": "<div>\n<style scoped>\n    .dataframe tbody tr th:only-of-type {\n        vertical-align: middle;\n    }\n\n    .dataframe tbody tr th {\n        vertical-align: top;\n    }\n\n    .dataframe thead th {\n        text-align: right;\n    }\n</style>\n<table border=\"1\" class=\"dataframe\">\n  <thead>\n    <tr style=\"text-align: right;\">\n      <th></th>\n      <th>Card Name</th>\n      <th>First Name</th>\n      <th>Last Name</th>\n      <th>Credit Score</th>\n      <th>Credit Approval</th>\n      <th>Income</th>\n      <th>Approval Date</th>\n    </tr>\n  </thead>\n  <tbody>\n    <tr>\n      <th>0</th>\n      <td>Infinite</td>\n      <td>Jacky</td>\n      <td>White</td>\n      <td>825</td>\n      <td>True</td>\n      <td>155000.62</td>\n      <td>2019-09-13 12:00:00</td>\n    </tr>\n    <tr>\n      <th>3</th>\n      <td>Silver</td>\n      <td>Desmond</td>\n      <td>Black</td>\n      <td>750</td>\n      <td>True</td>\n      <td>54000.00</td>\n      <td>2020-05-01 01:00:00</td>\n    </tr>\n    <tr>\n      <th>4</th>\n      <td>Dividend</td>\n      <td>Eileen</td>\n      <td>Musk</td>\n      <td>620</td>\n      <td>False</td>\n      <td>35000.00</td>\n      <td>NaT</td>\n    </tr>\n  </tbody>\n</table>\n</div>"
     },
     "metadata": {},
     "execution_count": 56
    }
   ],
   "source": [
    "df_credit.loc[~(df_credit['Card Name']=='Golden')]"
   ]
  },
  {
   "cell_type": "code",
   "execution_count": 48,
   "metadata": {},
   "outputs": [
    {
     "output_type": "execute_result",
     "data": {
      "text/plain": [
       "0    False\n",
       "1     True\n",
       "2     True\n",
       "3    False\n",
       "4    False\n",
       "Name: Card Name, dtype: bool"
      ]
     },
     "metadata": {},
     "execution_count": 48
    }
   ],
   "source": [
    "df_credit['Card Name']=='Golden'"
   ]
  },
  {
   "cell_type": "code",
   "execution_count": 50,
   "metadata": {},
   "outputs": [
    {
     "output_type": "execute_result",
     "data": {
      "text/plain": [
       "  Card Name First Name Last Name  Credit Score  Credit Approval     Income  \\\n",
       "1    Golden       Jane      Nize           810             True  120800.88   \n",
       "2    Golden      Henry      Tone           780             True   98000.58   \n",
       "\n",
       "        Approval Date  \n",
       "1 2019-08-16 05:25:00  \n",
       "2 2020-05-06 12:00:00  "
      ],
      "text/html": "<div>\n<style scoped>\n    .dataframe tbody tr th:only-of-type {\n        vertical-align: middle;\n    }\n\n    .dataframe tbody tr th {\n        vertical-align: top;\n    }\n\n    .dataframe thead th {\n        text-align: right;\n    }\n</style>\n<table border=\"1\" class=\"dataframe\">\n  <thead>\n    <tr style=\"text-align: right;\">\n      <th></th>\n      <th>Card Name</th>\n      <th>First Name</th>\n      <th>Last Name</th>\n      <th>Credit Score</th>\n      <th>Credit Approval</th>\n      <th>Income</th>\n      <th>Approval Date</th>\n    </tr>\n  </thead>\n  <tbody>\n    <tr>\n      <th>1</th>\n      <td>Golden</td>\n      <td>Jane</td>\n      <td>Nize</td>\n      <td>810</td>\n      <td>True</td>\n      <td>120800.88</td>\n      <td>2019-08-16 05:25:00</td>\n    </tr>\n    <tr>\n      <th>2</th>\n      <td>Golden</td>\n      <td>Henry</td>\n      <td>Tone</td>\n      <td>780</td>\n      <td>True</td>\n      <td>98000.58</td>\n      <td>2020-05-06 12:00:00</td>\n    </tr>\n  </tbody>\n</table>\n</div>"
     },
     "metadata": {},
     "execution_count": 50
    }
   ],
   "source": [
    "df_credit.loc[(df_credit['Card Name']=='Golden') & (df_credit['Credit Score']>700)]"
   ]
  },
  {
   "cell_type": "code",
   "execution_count": 51,
   "metadata": {},
   "outputs": [
    {
     "output_type": "execute_result",
     "data": {
      "text/plain": [
       "0     True\n",
       "1     True\n",
       "2     True\n",
       "3     True\n",
       "4    False\n",
       "Name: Credit Score, dtype: bool"
      ]
     },
     "metadata": {},
     "execution_count": 51
    }
   ],
   "source": [
    "df_credit['Credit Score']>700"
   ]
  },
  {
   "cell_type": "code",
   "execution_count": 57,
   "metadata": {},
   "outputs": [
    {
     "output_type": "execute_result",
     "data": {
      "text/plain": [
       "  First Name Last Name\n",
       "1       Jane      Nize\n",
       "2      Henry      Tone"
      ],
      "text/html": "<div>\n<style scoped>\n    .dataframe tbody tr th:only-of-type {\n        vertical-align: middle;\n    }\n\n    .dataframe tbody tr th {\n        vertical-align: top;\n    }\n\n    .dataframe thead th {\n        text-align: right;\n    }\n</style>\n<table border=\"1\" class=\"dataframe\">\n  <thead>\n    <tr style=\"text-align: right;\">\n      <th></th>\n      <th>First Name</th>\n      <th>Last Name</th>\n    </tr>\n  </thead>\n  <tbody>\n    <tr>\n      <th>1</th>\n      <td>Jane</td>\n      <td>Nize</td>\n    </tr>\n    <tr>\n      <th>2</th>\n      <td>Henry</td>\n      <td>Tone</td>\n    </tr>\n  </tbody>\n</table>\n</div>"
     },
     "metadata": {},
     "execution_count": 57
    }
   ],
   "source": [
    "df_credit.loc[df_credit['Card Name']=='Golden', ['First Name','Last Name']]"
   ]
  },
  {
   "cell_type": "code",
   "execution_count": 58,
   "metadata": {},
   "outputs": [
    {
     "output_type": "execute_result",
     "data": {
      "text/plain": [
       "  Card Name First Name Last Name  Credit Score  Credit Approval   Income  \\\n",
       "4  Dividend     Eileen      Musk           620            False  35000.0   \n",
       "\n",
       "  Approval Date  \n",
       "4           NaT  "
      ],
      "text/html": "<div>\n<style scoped>\n    .dataframe tbody tr th:only-of-type {\n        vertical-align: middle;\n    }\n\n    .dataframe tbody tr th {\n        vertical-align: top;\n    }\n\n    .dataframe thead th {\n        text-align: right;\n    }\n</style>\n<table border=\"1\" class=\"dataframe\">\n  <thead>\n    <tr style=\"text-align: right;\">\n      <th></th>\n      <th>Card Name</th>\n      <th>First Name</th>\n      <th>Last Name</th>\n      <th>Credit Score</th>\n      <th>Credit Approval</th>\n      <th>Income</th>\n      <th>Approval Date</th>\n    </tr>\n  </thead>\n  <tbody>\n    <tr>\n      <th>4</th>\n      <td>Dividend</td>\n      <td>Eileen</td>\n      <td>Musk</td>\n      <td>620</td>\n      <td>False</td>\n      <td>35000.0</td>\n      <td>NaT</td>\n    </tr>\n  </tbody>\n</table>\n</div>"
     },
     "metadata": {},
     "execution_count": 58
    }
   ],
   "source": [
    "df_credit.loc[df_credit['Approval Date'].isnull()]"
   ]
  },
  {
   "cell_type": "code",
   "execution_count": 59,
   "metadata": {},
   "outputs": [
    {
     "output_type": "execute_result",
     "data": {
      "text/plain": [
       "0    False\n",
       "1    False\n",
       "2    False\n",
       "3    False\n",
       "4     True\n",
       "dtype: bool"
      ]
     },
     "metadata": {},
     "execution_count": 59
    }
   ],
   "source": [
    "pd.isnull(df_credit).any(axis=1)"
   ]
  },
  {
   "cell_type": "code",
   "execution_count": 60,
   "metadata": {},
   "outputs": [
    {
     "output_type": "execute_result",
     "data": {
      "text/plain": [
       "Card Name          False\n",
       "First Name         False\n",
       "Last Name          False\n",
       "Credit Score       False\n",
       "Credit Approval    False\n",
       "Income             False\n",
       "Approval Date       True\n",
       "dtype: bool"
      ]
     },
     "metadata": {},
     "execution_count": 60
    }
   ],
   "source": [
    "pd.isnull(df_credit).any(axis=0)"
   ]
  },
  {
   "cell_type": "code",
   "execution_count": 65,
   "metadata": {},
   "outputs": [
    {
     "output_type": "execute_result",
     "data": {
      "text/plain": [
       "  Card Name First Name Last Name  Credit Score  Credit Approval   Income  \\\n",
       "4  Dividend     Eileen      Musk           620            False  35000.0   \n",
       "\n",
       "  Approval Date  \n",
       "4           NaT  "
      ],
      "text/html": "<div>\n<style scoped>\n    .dataframe tbody tr th:only-of-type {\n        vertical-align: middle;\n    }\n\n    .dataframe tbody tr th {\n        vertical-align: top;\n    }\n\n    .dataframe thead th {\n        text-align: right;\n    }\n</style>\n<table border=\"1\" class=\"dataframe\">\n  <thead>\n    <tr style=\"text-align: right;\">\n      <th></th>\n      <th>Card Name</th>\n      <th>First Name</th>\n      <th>Last Name</th>\n      <th>Credit Score</th>\n      <th>Credit Approval</th>\n      <th>Income</th>\n      <th>Approval Date</th>\n    </tr>\n  </thead>\n  <tbody>\n    <tr>\n      <th>4</th>\n      <td>Dividend</td>\n      <td>Eileen</td>\n      <td>Musk</td>\n      <td>620</td>\n      <td>False</td>\n      <td>35000.0</td>\n      <td>NaT</td>\n    </tr>\n  </tbody>\n</table>\n</div>"
     },
     "metadata": {},
     "execution_count": 65
    }
   ],
   "source": [
    "df_credit[pd.isnull(df_credit).any(axis=1)]"
   ]
  },
  {
   "cell_type": "code",
   "execution_count": 66,
   "metadata": {},
   "outputs": [
    {
     "output_type": "execute_result",
     "data": {
      "text/plain": [
       "  Card Name First Name Last Name  Credit Score  Credit Approval     Income  \\\n",
       "0  Infinite      Jacky     White           825             True  155000.62   \n",
       "1    Golden       Jane      Nize           810             True  120800.88   \n",
       "2    Golden      Henry      Tone           780             True   98000.58   \n",
       "3    Silver    Desmond     Black           750             True   54000.00   \n",
       "\n",
       "        Approval Date  \n",
       "0 2019-09-13 12:00:00  \n",
       "1 2019-08-16 05:25:00  \n",
       "2 2020-05-06 12:00:00  \n",
       "3 2020-05-01 01:00:00  "
      ],
      "text/html": "<div>\n<style scoped>\n    .dataframe tbody tr th:only-of-type {\n        vertical-align: middle;\n    }\n\n    .dataframe tbody tr th {\n        vertical-align: top;\n    }\n\n    .dataframe thead th {\n        text-align: right;\n    }\n</style>\n<table border=\"1\" class=\"dataframe\">\n  <thead>\n    <tr style=\"text-align: right;\">\n      <th></th>\n      <th>Card Name</th>\n      <th>First Name</th>\n      <th>Last Name</th>\n      <th>Credit Score</th>\n      <th>Credit Approval</th>\n      <th>Income</th>\n      <th>Approval Date</th>\n    </tr>\n  </thead>\n  <tbody>\n    <tr>\n      <th>0</th>\n      <td>Infinite</td>\n      <td>Jacky</td>\n      <td>White</td>\n      <td>825</td>\n      <td>True</td>\n      <td>155000.62</td>\n      <td>2019-09-13 12:00:00</td>\n    </tr>\n    <tr>\n      <th>1</th>\n      <td>Golden</td>\n      <td>Jane</td>\n      <td>Nize</td>\n      <td>810</td>\n      <td>True</td>\n      <td>120800.88</td>\n      <td>2019-08-16 05:25:00</td>\n    </tr>\n    <tr>\n      <th>2</th>\n      <td>Golden</td>\n      <td>Henry</td>\n      <td>Tone</td>\n      <td>780</td>\n      <td>True</td>\n      <td>98000.58</td>\n      <td>2020-05-06 12:00:00</td>\n    </tr>\n    <tr>\n      <th>3</th>\n      <td>Silver</td>\n      <td>Desmond</td>\n      <td>Black</td>\n      <td>750</td>\n      <td>True</td>\n      <td>54000.00</td>\n      <td>2020-05-01 01:00:00</td>\n    </tr>\n  </tbody>\n</table>\n</div>"
     },
     "metadata": {},
     "execution_count": 66
    }
   ],
   "source": [
    "df_credit[pd.notnull(df_credit).all(axis=1)]"
   ]
  },
  {
   "cell_type": "code",
   "execution_count": 67,
   "metadata": {},
   "outputs": [
    {
     "output_type": "execute_result",
     "data": {
      "text/plain": [
       "  Card Name First Name Last Name  Credit Score  Credit Approval     Income  \\\n",
       "0  Infinite      Jacky     White           825             True  155000.62   \n",
       "1    Golden       Jane      Nize           810             True  120800.88   \n",
       "2    Golden      Henry      Tone           780             True   98000.58   \n",
       "3    Silver    Desmond     Black           750             True   54000.00   \n",
       "4  Dividend     Eileen      Musk           620            False   35000.00   \n",
       "\n",
       "        Approval Date  \n",
       "0 2019-09-13 12:00:00  \n",
       "1 2019-08-16 05:25:00  \n",
       "2 2020-05-06 12:00:00  \n",
       "3 2020-05-01 01:00:00  \n",
       "4                 NaT  "
      ],
      "text/html": "<div>\n<style scoped>\n    .dataframe tbody tr th:only-of-type {\n        vertical-align: middle;\n    }\n\n    .dataframe tbody tr th {\n        vertical-align: top;\n    }\n\n    .dataframe thead th {\n        text-align: right;\n    }\n</style>\n<table border=\"1\" class=\"dataframe\">\n  <thead>\n    <tr style=\"text-align: right;\">\n      <th></th>\n      <th>Card Name</th>\n      <th>First Name</th>\n      <th>Last Name</th>\n      <th>Credit Score</th>\n      <th>Credit Approval</th>\n      <th>Income</th>\n      <th>Approval Date</th>\n    </tr>\n  </thead>\n  <tbody>\n    <tr>\n      <th>0</th>\n      <td>Infinite</td>\n      <td>Jacky</td>\n      <td>White</td>\n      <td>825</td>\n      <td>True</td>\n      <td>155000.62</td>\n      <td>2019-09-13 12:00:00</td>\n    </tr>\n    <tr>\n      <th>1</th>\n      <td>Golden</td>\n      <td>Jane</td>\n      <td>Nize</td>\n      <td>810</td>\n      <td>True</td>\n      <td>120800.88</td>\n      <td>2019-08-16 05:25:00</td>\n    </tr>\n    <tr>\n      <th>2</th>\n      <td>Golden</td>\n      <td>Henry</td>\n      <td>Tone</td>\n      <td>780</td>\n      <td>True</td>\n      <td>98000.58</td>\n      <td>2020-05-06 12:00:00</td>\n    </tr>\n    <tr>\n      <th>3</th>\n      <td>Silver</td>\n      <td>Desmond</td>\n      <td>Black</td>\n      <td>750</td>\n      <td>True</td>\n      <td>54000.00</td>\n      <td>2020-05-01 01:00:00</td>\n    </tr>\n    <tr>\n      <th>4</th>\n      <td>Dividend</td>\n      <td>Eileen</td>\n      <td>Musk</td>\n      <td>620</td>\n      <td>False</td>\n      <td>35000.00</td>\n      <td>NaT</td>\n    </tr>\n  </tbody>\n</table>\n</div>"
     },
     "metadata": {},
     "execution_count": 67
    }
   ],
   "source": [
    "df_credit"
   ]
  },
  {
   "cell_type": "code",
   "execution_count": 68,
   "metadata": {},
   "outputs": [
    {
     "output_type": "execute_result",
     "data": {
      "text/plain": [
       "  Card Name First Name Last Name  Credit Score  Credit Approval     Income  \\\n",
       "4  Dividend     Eileen      Musk           620            False   35000.00   \n",
       "3    Silver    Desmond     Black           750             True   54000.00   \n",
       "2    Golden      Henry      Tone           780             True   98000.58   \n",
       "1    Golden       Jane      Nize           810             True  120800.88   \n",
       "0  Infinite      Jacky     White           825             True  155000.62   \n",
       "\n",
       "        Approval Date  \n",
       "4                 NaT  \n",
       "3 2020-05-01 01:00:00  \n",
       "2 2020-05-06 12:00:00  \n",
       "1 2019-08-16 05:25:00  \n",
       "0 2019-09-13 12:00:00  "
      ],
      "text/html": "<div>\n<style scoped>\n    .dataframe tbody tr th:only-of-type {\n        vertical-align: middle;\n    }\n\n    .dataframe tbody tr th {\n        vertical-align: top;\n    }\n\n    .dataframe thead th {\n        text-align: right;\n    }\n</style>\n<table border=\"1\" class=\"dataframe\">\n  <thead>\n    <tr style=\"text-align: right;\">\n      <th></th>\n      <th>Card Name</th>\n      <th>First Name</th>\n      <th>Last Name</th>\n      <th>Credit Score</th>\n      <th>Credit Approval</th>\n      <th>Income</th>\n      <th>Approval Date</th>\n    </tr>\n  </thead>\n  <tbody>\n    <tr>\n      <th>4</th>\n      <td>Dividend</td>\n      <td>Eileen</td>\n      <td>Musk</td>\n      <td>620</td>\n      <td>False</td>\n      <td>35000.00</td>\n      <td>NaT</td>\n    </tr>\n    <tr>\n      <th>3</th>\n      <td>Silver</td>\n      <td>Desmond</td>\n      <td>Black</td>\n      <td>750</td>\n      <td>True</td>\n      <td>54000.00</td>\n      <td>2020-05-01 01:00:00</td>\n    </tr>\n    <tr>\n      <th>2</th>\n      <td>Golden</td>\n      <td>Henry</td>\n      <td>Tone</td>\n      <td>780</td>\n      <td>True</td>\n      <td>98000.58</td>\n      <td>2020-05-06 12:00:00</td>\n    </tr>\n    <tr>\n      <th>1</th>\n      <td>Golden</td>\n      <td>Jane</td>\n      <td>Nize</td>\n      <td>810</td>\n      <td>True</td>\n      <td>120800.88</td>\n      <td>2019-08-16 05:25:00</td>\n    </tr>\n    <tr>\n      <th>0</th>\n      <td>Infinite</td>\n      <td>Jacky</td>\n      <td>White</td>\n      <td>825</td>\n      <td>True</td>\n      <td>155000.62</td>\n      <td>2019-09-13 12:00:00</td>\n    </tr>\n  </tbody>\n</table>\n</div>"
     },
     "metadata": {},
     "execution_count": 68
    }
   ],
   "source": [
    "df_credit.sort_values('Income')"
   ]
  },
  {
   "cell_type": "code",
   "execution_count": 69,
   "metadata": {},
   "outputs": [
    {
     "output_type": "execute_result",
     "data": {
      "text/plain": [
       "  Card Name First Name Last Name  Credit Score  Credit Approval     Income  \\\n",
       "0  Infinite      Jacky     White           825             True  155000.62   \n",
       "1    Golden       Jane      Nize           810             True  120800.88   \n",
       "2    Golden      Henry      Tone           780             True   98000.58   \n",
       "3    Silver    Desmond     Black           750             True   54000.00   \n",
       "4  Dividend     Eileen      Musk           620            False   35000.00   \n",
       "\n",
       "        Approval Date  \n",
       "0 2019-09-13 12:00:00  \n",
       "1 2019-08-16 05:25:00  \n",
       "2 2020-05-06 12:00:00  \n",
       "3 2020-05-01 01:00:00  \n",
       "4                 NaT  "
      ],
      "text/html": "<div>\n<style scoped>\n    .dataframe tbody tr th:only-of-type {\n        vertical-align: middle;\n    }\n\n    .dataframe tbody tr th {\n        vertical-align: top;\n    }\n\n    .dataframe thead th {\n        text-align: right;\n    }\n</style>\n<table border=\"1\" class=\"dataframe\">\n  <thead>\n    <tr style=\"text-align: right;\">\n      <th></th>\n      <th>Card Name</th>\n      <th>First Name</th>\n      <th>Last Name</th>\n      <th>Credit Score</th>\n      <th>Credit Approval</th>\n      <th>Income</th>\n      <th>Approval Date</th>\n    </tr>\n  </thead>\n  <tbody>\n    <tr>\n      <th>0</th>\n      <td>Infinite</td>\n      <td>Jacky</td>\n      <td>White</td>\n      <td>825</td>\n      <td>True</td>\n      <td>155000.62</td>\n      <td>2019-09-13 12:00:00</td>\n    </tr>\n    <tr>\n      <th>1</th>\n      <td>Golden</td>\n      <td>Jane</td>\n      <td>Nize</td>\n      <td>810</td>\n      <td>True</td>\n      <td>120800.88</td>\n      <td>2019-08-16 05:25:00</td>\n    </tr>\n    <tr>\n      <th>2</th>\n      <td>Golden</td>\n      <td>Henry</td>\n      <td>Tone</td>\n      <td>780</td>\n      <td>True</td>\n      <td>98000.58</td>\n      <td>2020-05-06 12:00:00</td>\n    </tr>\n    <tr>\n      <th>3</th>\n      <td>Silver</td>\n      <td>Desmond</td>\n      <td>Black</td>\n      <td>750</td>\n      <td>True</td>\n      <td>54000.00</td>\n      <td>2020-05-01 01:00:00</td>\n    </tr>\n    <tr>\n      <th>4</th>\n      <td>Dividend</td>\n      <td>Eileen</td>\n      <td>Musk</td>\n      <td>620</td>\n      <td>False</td>\n      <td>35000.00</td>\n      <td>NaT</td>\n    </tr>\n  </tbody>\n</table>\n</div>"
     },
     "metadata": {},
     "execution_count": 69
    }
   ],
   "source": [
    "df_credit.sort_values('Income', ascending = False)"
   ]
  },
  {
   "cell_type": "code",
   "execution_count": 70,
   "metadata": {},
   "outputs": [
    {
     "output_type": "execute_result",
     "data": {
      "text/plain": [
       "  Card Name First Name Last Name  Credit Score  Credit Approval     Income  \\\n",
       "4  Dividend     Eileen      Musk           620            False   35000.00   \n",
       "3    Silver    Desmond     Black           750             True   54000.00   \n",
       "2    Golden      Henry      Tone           780             True   98000.58   \n",
       "1    Golden       Jane      Nize           810             True  120800.88   \n",
       "0  Infinite      Jacky     White           825             True  155000.62   \n",
       "\n",
       "        Approval Date  \n",
       "4                 NaT  \n",
       "3 2020-05-01 01:00:00  \n",
       "2 2020-05-06 12:00:00  \n",
       "1 2019-08-16 05:25:00  \n",
       "0 2019-09-13 12:00:00  "
      ],
      "text/html": "<div>\n<style scoped>\n    .dataframe tbody tr th:only-of-type {\n        vertical-align: middle;\n    }\n\n    .dataframe tbody tr th {\n        vertical-align: top;\n    }\n\n    .dataframe thead th {\n        text-align: right;\n    }\n</style>\n<table border=\"1\" class=\"dataframe\">\n  <thead>\n    <tr style=\"text-align: right;\">\n      <th></th>\n      <th>Card Name</th>\n      <th>First Name</th>\n      <th>Last Name</th>\n      <th>Credit Score</th>\n      <th>Credit Approval</th>\n      <th>Income</th>\n      <th>Approval Date</th>\n    </tr>\n  </thead>\n  <tbody>\n    <tr>\n      <th>4</th>\n      <td>Dividend</td>\n      <td>Eileen</td>\n      <td>Musk</td>\n      <td>620</td>\n      <td>False</td>\n      <td>35000.00</td>\n      <td>NaT</td>\n    </tr>\n    <tr>\n      <th>3</th>\n      <td>Silver</td>\n      <td>Desmond</td>\n      <td>Black</td>\n      <td>750</td>\n      <td>True</td>\n      <td>54000.00</td>\n      <td>2020-05-01 01:00:00</td>\n    </tr>\n    <tr>\n      <th>2</th>\n      <td>Golden</td>\n      <td>Henry</td>\n      <td>Tone</td>\n      <td>780</td>\n      <td>True</td>\n      <td>98000.58</td>\n      <td>2020-05-06 12:00:00</td>\n    </tr>\n    <tr>\n      <th>1</th>\n      <td>Golden</td>\n      <td>Jane</td>\n      <td>Nize</td>\n      <td>810</td>\n      <td>True</td>\n      <td>120800.88</td>\n      <td>2019-08-16 05:25:00</td>\n    </tr>\n    <tr>\n      <th>0</th>\n      <td>Infinite</td>\n      <td>Jacky</td>\n      <td>White</td>\n      <td>825</td>\n      <td>True</td>\n      <td>155000.62</td>\n      <td>2019-09-13 12:00:00</td>\n    </tr>\n  </tbody>\n</table>\n</div>"
     },
     "metadata": {},
     "execution_count": 70
    }
   ],
   "source": [
    "df_credit.sort_values(['Credit Score', 'Income'] ,ascending = [True, False])"
   ]
  }
 ]
}