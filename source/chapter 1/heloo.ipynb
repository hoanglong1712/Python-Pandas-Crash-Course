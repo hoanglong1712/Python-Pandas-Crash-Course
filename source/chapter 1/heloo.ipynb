{
 "metadata": {
  "language_info": {
   "codemirror_mode": {
    "name": "ipython",
    "version": 3
   },
   "file_extension": ".py",
   "mimetype": "text/x-python",
   "name": "python",
   "nbconvert_exporter": "python",
   "pygments_lexer": "ipython3",
   "version": "3.7.6-final"
  },
  "orig_nbformat": 2,
  "kernelspec": {
   "name": "Python 3.7.6 64-bit",
   "display_name": "Python 3.7.6 64-bit",
   "metadata": {
    "interpreter": {
     "hash": "0533883d4b10e2e0e9042770828e2446211fda1fae3645fb8f264c38f1952f0d"
    }
   }
  }
 },
 "nbformat": 4,
 "nbformat_minor": 2,
 "cells": [
  {
   "cell_type": "code",
   "execution_count": 1,
   "metadata": {},
   "outputs": [
    {
     "output_type": "stream",
     "name": "stdout",
     "text": [
      "    Name    Say\n0  Jacky  Hello\n1  Henry  World\n"
     ]
    }
   ],
   "source": [
    "import pandas as pd\n",
    "df_hellowork = pd.DataFrame(\n",
    "    {'Name': ['Jacky', 'Henry'],\n",
    "    'Say': ['Hello', 'World']}\n",
    ")\n",
    "print(df_hellowork)"
   ]
  },
  {
   "cell_type": "code",
   "execution_count": null,
   "metadata": {},
   "outputs": [],
   "source": []
  }
 ]
}